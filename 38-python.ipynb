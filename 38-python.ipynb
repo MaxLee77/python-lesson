{
  "cells": [
    {
      "cell_type": "markdown",
      "metadata": {
        "id": "7V414TPo5tTZ"
      },
      "source": [
        "# 38-DARS. PYTHON STANDART KUTUBXONASI\n",
        "\n",
        "Pythondagi foydali modullar bilan tanishamiz.\n",
        "\n",
        "![](https://gblobscdn.gitbook.com/assets%2F-MGbkqs1tROquIT6oqUs%2F-Mc-5yGQPZTBaGoehQdL%2F-Mc-7xpq4Puu3KEjmT0R%2FSD_YT_TG_logo_mini.png?alt=media&token=929fe67b-ec12-4f63-b33e-e9c5e3d8ad09)"
      ]
    },
    {
      "cell_type": "markdown",
      "metadata": {
        "id": "36u2Nyhv5tTc"
      },
      "source": [
        "# KIRISH\n",
        "\n",
        "Python dasturlash tili yildan-yilga ommalashib bormoqda. Bunga birinchi navbatda Pythonning sodda va tushunarli sintaksi sabab bo'lsa, ikkinchi va ehtimol eng ko'zga ko'ringan sabab bu Pythonning keng qamrovli kutubxonalar to'plamidir. Ushbu darsimizda Pytyon kutubxonasidagi ba'zi muhim modullar bilan tanishamiz. Standart kutubxonanig to'liq tarkibi bilan Python rasmiy sahifasida tanishishingiz mumkin.\n",
        "\n",
        "> **Kutubxona bu boshqalar tarafidan yozilgan tayyor funksiyalar va obyektlar to'plami.**\n",
        "\n",
        "# `datetime` — SANA VA VAQT\n",
        "\n",
        "Ushbu modul yordamida Pythonda sanalar bilan ishlashimiz mumkin. Moduldan foydalanishdan avval uni `import` qilamiz. Har gal moduldan foydalanishda `datetime` deb qayta yozmaslik uchun, `import` qilishda modulga `dt` nomini beramiz."
      ]
    },
    {
      "cell_type": "code",
      "execution_count": null,
      "metadata": {
        "id": "CVqziz1l5tTd"
      },
      "outputs": [],
      "source": [
        "import datetime as dt"
      ]
    },
    {
      "cell_type": "markdown",
      "metadata": {
        "id": "sTOeP0rD5tTe"
      },
      "source": [
        "Hozirgi vaqt va sanani koʻrish uchun `datetime.now()` moduliga murojat qilamiz:\n"
      ]
    },
    {
      "cell_type": "code",
      "execution_count": null,
      "metadata": {
        "id": "B84WHyT-5tTe",
        "outputId": "94f9a2ec-4c83-4401-e4b7-769dfd5e0c24"
      },
      "outputs": [
        {
          "name": "stdout",
          "output_type": "stream",
          "text": [
            "2021-06-20 05:18:32.280717\n"
          ]
        }
      ],
      "source": [
        "hozir = dt.datetime.now()\n",
        "print(hozir)"
      ]
    },
    {
      "cell_type": "markdown",
      "metadata": {
        "id": "NygYHRvz5tTf"
      },
      "source": [
        "Kurib turganingizdek, natija yil, oy, kun soat, minut, sekund va millisekund koʻrinishida chiqdi. Biz bu qiymatlardan istaganimzni maxsus metodlar yordamida ajratib olishimiz mumkin:"
      ]
    },
    {
      "cell_type": "code",
      "execution_count": null,
      "metadata": {
        "id": "tuhUQcwh5tTf",
        "outputId": "9c1439e2-6624-45a5-a470-66e0b07022ad"
      },
      "outputs": [
        {
          "name": "stdout",
          "output_type": "stream",
          "text": [
            "2021-06-20\n"
          ]
        }
      ],
      "source": [
        "# sanani ajratib olish\n",
        "print(hozir.date())"
      ]
    },
    {
      "cell_type": "code",
      "execution_count": null,
      "metadata": {
        "id": "F382RSOU5tTf",
        "outputId": "8789d44f-0b09-41df-e34d-eb24be3b6add"
      },
      "outputs": [
        {
          "name": "stdout",
          "output_type": "stream",
          "text": [
            "05:18:32.280717\n"
          ]
        }
      ],
      "source": [
        "# vaqtni ajratib olish\n",
        "print(hozir.time())"
      ]
    },
    {
      "cell_type": "code",
      "execution_count": null,
      "metadata": {
        "id": "g5_DoCs25tTg",
        "outputId": "f729446d-28f8-4283-8e3b-bafef8093a05"
      },
      "outputs": [
        {
          "name": "stdout",
          "output_type": "stream",
          "text": [
            "5\n"
          ]
        }
      ],
      "source": [
        "# soatni ajratib olish\n",
        "print(hozir.hour)"
      ]
    },
    {
      "cell_type": "code",
      "execution_count": null,
      "metadata": {
        "id": "uXvtNamQ5tTg",
        "outputId": "ed1147a3-a8c8-47b3-f9a9-1733a1cda9e8"
      },
      "outputs": [
        {
          "name": "stdout",
          "output_type": "stream",
          "text": [
            "18\n"
          ]
        }
      ],
      "source": [
        "# minutni ajratib olish\n",
        "print(hozir.minute)"
      ]
    },
    {
      "cell_type": "code",
      "execution_count": null,
      "metadata": {
        "id": "nzOJt76O5tTg",
        "outputId": "2eac9ff0-571e-47f4-ae83-9b783d6e1264"
      },
      "outputs": [
        {
          "name": "stdout",
          "output_type": "stream",
          "text": [
            "32\n"
          ]
        }
      ],
      "source": [
        "# sekundni ajratib olish\n",
        "print(hozir.second)"
      ]
    },
    {
      "cell_type": "markdown",
      "metadata": {
        "id": "RVwLfc435tTg"
      },
      "source": [
        "Agar bugungi kunning sanasi talab qilinsa `datetime` moduli ichidagi `date.today()` moduliga murojat qilamiz."
      ]
    },
    {
      "cell_type": "code",
      "execution_count": null,
      "metadata": {
        "id": "RqET2HIQ5tTh",
        "outputId": "10b8a816-cdd3-42b5-b1ab-547aa1d4eb94"
      },
      "outputs": [
        {
          "name": "stdout",
          "output_type": "stream",
          "text": [
            "Bugungi sana: 2021-06-20\n"
          ]
        }
      ],
      "source": [
        "bugun = dt.date.today()\n",
        "print(f\"Bugungi sana: {bugun}\")"
      ]
    },
    {
      "cell_type": "markdown",
      "metadata": {
        "id": "VPL9EWxz5tTh"
      },
      "source": [
        "Agar biror sanani qoʻlda kiritish talab qilinsa `.date()` metodiga kerakli sanani (yil, oy, kun) koʻrinishida kiritamiz."
      ]
    },
    {
      "cell_type": "code",
      "execution_count": null,
      "metadata": {
        "id": "hVRoeXWu5tTh",
        "outputId": "c72e2bd9-0c54-49ad-f4e7-fdaf108495ff"
      },
      "outputs": [
        {
          "name": "stdout",
          "output_type": "stream",
          "text": [
            "Ertangi sana: 2021-06-21\n"
          ]
        }
      ],
      "source": [
        "ertaga = dt.date(2021, 6, 21)\n",
        "print(f\"Ertangi sana: {ertaga}\")"
      ]
    },
    {
      "cell_type": "markdown",
      "metadata": {
        "id": "OqdmDfrP5tTh"
      },
      "source": [
        "Faqatgina vaqt bilan ishlash uchun `.datetime.now().time()` metodiga murojat qilishimiz mumkin:\n"
      ]
    },
    {
      "cell_type": "code",
      "execution_count": null,
      "metadata": {
        "id": "Ltzmxwfb5tTh",
        "outputId": "b620f9c8-1c6d-4f19-898c-db771b48d203"
      },
      "outputs": [
        {
          "name": "stdout",
          "output_type": "stream",
          "text": [
            "Hozir soat: 05:20:43.306376\n"
          ]
        }
      ],
      "source": [
        "hozir = dt.datetime.now()\n",
        "vaqtHozir = hozir.time()\n",
        "print(f\"Hozir soat: {vaqtHozir}\")"
      ]
    },
    {
      "cell_type": "markdown",
      "metadata": {
        "id": "lf35s-JS5tTh"
      },
      "source": [
        "Istalgan vaqtni qoʻlda kiritish uchun esa `.time()` metodiga kerakli vaqtni (soat, minut, sekund) koʻrinishida beramiz:\n"
      ]
    },
    {
      "cell_type": "code",
      "execution_count": null,
      "metadata": {
        "id": "Qe5TUMLp5tTh"
      },
      "outputs": [],
      "source": [
        "vaqtKeyin = dt.time(23,45,00)"
      ]
    },
    {
      "cell_type": "markdown",
      "metadata": {
        "id": "AaWyuq9X5tTi"
      },
      "source": [
        "Ayirish operatori yordamida sanalalar va vaqtlar orasidagi farqni hisoblashimiz mumkin:"
      ]
    },
    {
      "cell_type": "code",
      "execution_count": null,
      "metadata": {
        "id": "xLsS9Z9v5tTi",
        "outputId": "9b5eb238-6c6a-479a-c87c-65bd7bcdf124"
      },
      "outputs": [
        {
          "name": "stdout",
          "output_type": "stream",
          "text": [
            "29 days, 0:00:00\n",
            "Qurbon Hayitiga 29 kun qoldi\n"
          ]
        }
      ],
      "source": [
        "bugun = dt.date.today()\n",
        "qurbonHayit = dt.date(2021, 7, 19)\n",
        "farq = qurbonHayit-bugun\n",
        "print(farq)\n",
        "print(f\"Qurbon Hayitiga {farq.days} kun qoldi\")"
      ]
    },
    {
      "cell_type": "markdown",
      "metadata": {
        "id": "8Tn1MS655tTi"
      },
      "source": [
        "Huddi shu kabi ikki vaqt oraligʻini sekundlarda yoki soatlarda ham koʻrishimiz mumkin:\n"
      ]
    },
    {
      "cell_type": "code",
      "execution_count": null,
      "metadata": {
        "id": "ZsDFJZNH5tTi",
        "outputId": "7bc5a6ae-315c-4a50-bcf5-c741b72e76cb"
      },
      "outputs": [
        {
          "name": "stdout",
          "output_type": "stream",
          "text": [
            "Futbol boshlanishiga 66117 sekund qoldi\n",
            "Futbol boshlanishiga 1101 minut qoldi\n",
            "Futbol boshlanishiga 18 soat qoldi\n"
          ]
        }
      ],
      "source": [
        "hozir = dt.datetime.now()\n",
        "futbol = dt.datetime(2021, 6, 22, 23, 45, 00)\n",
        "farq= futbol-hozir\n",
        "sekundlar = farq.seconds\n",
        "minutlar = int(sekundlar/60)\n",
        "soatlar = int(minutlar/60)\n",
        "print(f\"Futbol boshlanishiga {sekundlar} sekund qoldi\")\n",
        "print(f\"Futbol boshlanishiga {minutlar} minut qoldi\")\n",
        "print(f\"Futbol boshlanishiga {soatlar} soat qoldi\")"
      ]
    },
    {
      "cell_type": "markdown",
      "metadata": {
        "id": "j5kcmNCQ5tTi"
      },
      "source": [
        "Yuqorida sanalar AQSh standartiga koʻra, yil-oy-kun koʻrinishida chiqayapti. Sanani oʻzimizga moslab chiqarish uchun `.strftime()` metodini chaqiramiz, va sanani oʻzimizga qulay formatda chiqaramiz.\n"
      ]
    },
    {
      "cell_type": "code",
      "execution_count": null,
      "metadata": {
        "id": "J34wdQ7S5tTi",
        "outputId": "911fb4f5-ad27-4161-8623-95d4b394497c"
      },
      "outputs": [
        {
          "name": "stdout",
          "output_type": "stream",
          "text": [
            "Hozir soat: 05:23:02\n"
          ]
        }
      ],
      "source": [
        "# vaqtni millisekundsiz chiqaramiz\n",
        "vaqt = hozir.strftime(\"%H:%M:%S\")\n",
        "print(f\"Hozir soat: {vaqt}\")"
      ]
    },
    {
      "cell_type": "code",
      "execution_count": null,
      "metadata": {
        "id": "aFbaB9Z55tTi",
        "outputId": "76f35071-bfbd-436a-84b2-cf0e9b13ff0b"
      },
      "outputs": [
        {
          "name": "stdout",
          "output_type": "stream",
          "text": [
            "Bugun sana: 20-06-2021\n"
          ]
        }
      ],
      "source": [
        "# sanani kun-oy-yil koʻrinishida chiqaramiz\n",
        "sana = hozir.strftime(\"%d-%m-%Y\")\n",
        "print(f\"Bugun sana: {sana}\")"
      ]
    },
    {
      "cell_type": "code",
      "execution_count": null,
      "metadata": {
        "id": "ZOm7HKPC5tTi",
        "outputId": "71ecfc75-b017-4ac1-8528-48949742bf91"
      },
      "outputs": [
        {
          "name": "stdout",
          "output_type": "stream",
          "text": [
            "20/06/2021, 05:23\n"
          ]
        }
      ],
      "source": [
        "# sanani kun/oy/yil koʻrinishida chiqaramiz\n",
        "sana_vaqt = hozir.strftime(\"%d/%m/%Y, %H:%M\")\n",
        "print(sana_vaqt)"
      ]
    },
    {
      "cell_type": "markdown",
      "metadata": {
        "id": "OuNZjpGn5tTi"
      },
      "source": [
        "# `math` — MATEMATIK FUNKSIYALAR\n",
        "Bu modul oʻz ichida matematikaga oid turli funksilayar va oʻzgaruvchilarni saqlaydi. Keling, ularning baʻzilari bilan tanishamiz."
      ]
    },
    {
      "cell_type": "markdown",
      "metadata": {
        "id": "ia7or9wz5tTj"
      },
      "source": [
        "## $\\pi$ ning qiymati"
      ]
    },
    {
      "cell_type": "code",
      "execution_count": null,
      "metadata": {
        "id": "UDb1uPVY5tTj",
        "outputId": "8e8f9bf6-a62a-4c18-f4f5-34f3bda089df"
      },
      "outputs": [
        {
          "name": "stdout",
          "output_type": "stream",
          "text": [
            "PI ning qiymati: 3.141592653589793\n"
          ]
        }
      ],
      "source": [
        "import math\n",
        "PI = math.pi\n",
        "print(f\"PI ning qiymati: {PI}\")"
      ]
    },
    {
      "cell_type": "markdown",
      "metadata": {
        "id": "4OVhy9255tTj"
      },
      "source": [
        "## $e$ — natural logarifm asosi\n"
      ]
    },
    {
      "cell_type": "code",
      "execution_count": null,
      "metadata": {
        "id": "u4W6YukT5tTj",
        "outputId": "7e9d77a7-6e37-4bb6-d009-f82e0070a4b2"
      },
      "outputs": [
        {
          "name": "stdout",
          "output_type": "stream",
          "text": [
            "e ning qiymati: 2.718281828459045\n"
          ]
        }
      ],
      "source": [
        "E = math.e\n",
        "print(f\"e ning qiymati: {E}\")"
      ]
    },
    {
      "cell_type": "markdown",
      "metadata": {
        "id": "rqTfL1qs5tTj"
      },
      "source": [
        "## Trigonometriya"
      ]
    },
    {
      "cell_type": "markdown",
      "metadata": {
        "id": "pZ0WBelW5tTj"
      },
      "source": [
        "Modul tarkibida deyarli barcha trigonometrik funksiyalar mavjud (cos, sin, tangens, arccos, va hokazo)\n"
      ]
    },
    {
      "cell_type": "code",
      "execution_count": null,
      "metadata": {
        "id": "fUMKXOxa5tTj",
        "outputId": "16e565da-787c-42ba-db44-889114ab8074"
      },
      "outputs": [
        {
          "data": {
            "text/plain": [
              "1.0"
            ]
          },
          "execution_count": 28,
          "metadata": {},
          "output_type": "execute_result"
        }
      ],
      "source": [
        "math.sin(math.pi/2)"
      ]
    },
    {
      "cell_type": "code",
      "execution_count": null,
      "metadata": {
        "id": "dCcPUH_I5tTj",
        "outputId": "39ca3050-38b5-47fe-baa8-5f9369ea296e"
      },
      "outputs": [
        {
          "data": {
            "text/plain": [
              "1.0"
            ]
          },
          "execution_count": 29,
          "metadata": {},
          "output_type": "execute_result"
        }
      ],
      "source": [
        "math.cos(0)"
      ]
    },
    {
      "cell_type": "code",
      "execution_count": null,
      "metadata": {
        "id": "k8rQX0Lc5tTj",
        "outputId": "65298ce7-d1dc-4398-8553-cc6866a0760a"
      },
      "outputs": [
        {
          "data": {
            "text/plain": [
              "-1.2246467991473532e-16"
            ]
          },
          "execution_count": 30,
          "metadata": {},
          "output_type": "execute_result"
        }
      ],
      "source": [
        "math.tan(PI)"
      ]
    },
    {
      "cell_type": "markdown",
      "metadata": {
        "id": "sLnujXwh5tTk"
      },
      "source": [
        "Shunigdek `degrees` va `radians` metodlari yordamida burchakdan radianga va aksincha konvertasiya qilishimiz ham mumkin:\n"
      ]
    },
    {
      "cell_type": "code",
      "execution_count": null,
      "metadata": {
        "id": "auohbARK5tTk",
        "outputId": "1fff2cf3-98ac-4838-8965-6c25f83958ef"
      },
      "outputs": [
        {
          "data": {
            "text/plain": [
              "90.0"
            ]
          },
          "execution_count": 26,
          "metadata": {},
          "output_type": "execute_result"
        }
      ],
      "source": [
        "math.degrees(math.pi/2)"
      ]
    },
    {
      "cell_type": "code",
      "execution_count": null,
      "metadata": {
        "id": "75H7eA2K5tTs",
        "outputId": "626c80cd-97f5-41b9-de20-6e3e1f0095ff"
      },
      "outputs": [
        {
          "data": {
            "text/plain": [
              "1.5707963267948966"
            ]
          },
          "execution_count": 27,
          "metadata": {},
          "output_type": "execute_result"
        }
      ],
      "source": [
        "math.radians(90)"
      ]
    },
    {
      "cell_type": "markdown",
      "metadata": {
        "id": "aVrLvpbI5tTs"
      },
      "source": [
        "## LOGARIFMLAR"
      ]
    },
    {
      "cell_type": "markdown",
      "metadata": {
        "id": "H3CRvLpA5tTs"
      },
      "source": [
        "`log()` va `log10()` funksiyalari yordamida natural va o'n asosli logarifmlarni hisoblash mumkin:\n"
      ]
    },
    {
      "cell_type": "code",
      "execution_count": null,
      "metadata": {
        "id": "SZe2QVUO5tTs",
        "outputId": "3da42639-4fdc-4b30-efbd-e7d4b06403fa"
      },
      "outputs": [
        {
          "data": {
            "text/plain": [
              "1.6094379124341003"
            ]
          },
          "execution_count": 31,
          "metadata": {},
          "output_type": "execute_result"
        }
      ],
      "source": [
        "# natural logarifm\n",
        "math.log(5)"
      ]
    },
    {
      "cell_type": "code",
      "execution_count": null,
      "metadata": {
        "id": "KyD4C5Bu5tTs",
        "outputId": "ea89f6cd-ceb2-4fd9-91c7-b7bfd5eaffa2"
      },
      "outputs": [
        {
          "data": {
            "text/plain": [
              "2.0"
            ]
          },
          "execution_count": 32,
          "metadata": {},
          "output_type": "execute_result"
        }
      ],
      "source": [
        "# 10 asosli logarifm\n",
        "math.log10(100)"
      ]
    },
    {
      "cell_type": "markdown",
      "metadata": {
        "id": "Z3KO_Ej35tTs"
      },
      "source": [
        "## SONLARNI YAXLITLASH\n",
        "\n",
        "Sonlarni eng yaxlitlash uchun Pythonda maxsus `round()` funksiyasi mavjud. Bunga qo'shimcha ravishda, `math` moduli ichidagi `ceil()` funksiyasi yordamida berilgan o'nlik sonni keyingi butun songa, `floor()` yordamida esa quyi butun songa yaqinlashtirish mumkin:"
      ]
    },
    {
      "cell_type": "code",
      "execution_count": null,
      "metadata": {
        "id": "fnNgf9wj5tTs",
        "outputId": "de862c71-6ab9-4124-b3ea-60e5e4b0395d"
      },
      "outputs": [
        {
          "name": "stdout",
          "output_type": "stream",
          "text": [
            "5\n"
          ]
        }
      ],
      "source": [
        "x = 4.6\n",
        "print(math.ceil(x))"
      ]
    },
    {
      "cell_type": "code",
      "execution_count": null,
      "metadata": {
        "id": "KqE-ufgy5tTt",
        "outputId": "0f05012d-ff1a-447c-f0fe-b59a786459a4"
      },
      "outputs": [
        {
          "name": "stdout",
          "output_type": "stream",
          "text": [
            "4\n"
          ]
        }
      ],
      "source": [
        "print(math.floor(x))"
      ]
    },
    {
      "cell_type": "markdown",
      "metadata": {
        "id": "jCMbFI9Q5tTt"
      },
      "source": [
        "## ILDIZ VA DARAJA\n",
        "Berilgan sonning kvadrat ildizini hisoblash uchun `sqrt()`, sonni darajaga oshirish uchun esa `pow()` funksiyalariga murojat qilamiz:\n"
      ]
    },
    {
      "cell_type": "code",
      "execution_count": null,
      "metadata": {
        "id": "ehqnfvS65tTt",
        "outputId": "bab2d5e2-b6cf-444f-88d1-487fa3c809dc"
      },
      "outputs": [
        {
          "data": {
            "text/plain": [
              "9.0"
            ]
          },
          "execution_count": 35,
          "metadata": {},
          "output_type": "execute_result"
        }
      ],
      "source": [
        "x = 81\n",
        "\n",
        "# Kvadrat ildiz\n",
        "math.sqrt(x)"
      ]
    },
    {
      "cell_type": "code",
      "execution_count": null,
      "metadata": {
        "id": "sZOTsSYf5tTt",
        "outputId": "5a580c79-c6ed-45bd-c851-73a38ba2366a"
      },
      "outputs": [
        {
          "data": {
            "text/plain": [
              "531441.0"
            ]
          },
          "execution_count": 36,
          "metadata": {},
          "output_type": "execute_result"
        }
      ],
      "source": [
        "# Darajaga oshirish\n",
        "math.pow(x,3) # x ning kubi"
      ]
    },
    {
      "cell_type": "code",
      "execution_count": null,
      "metadata": {
        "id": "_SYV3Ftq5tTt",
        "outputId": "167f2e42-0d1b-4c1d-bbec-df23a4fe0b28"
      },
      "outputs": [
        {
          "data": {
            "text/plain": [
              "3486784401.0"
            ]
          },
          "execution_count": 37,
          "metadata": {},
          "output_type": "execute_result"
        }
      ],
      "source": [
        "math.pow(x,5) # x ning 5-darajasi"
      ]
    },
    {
      "cell_type": "code",
      "execution_count": null,
      "metadata": {
        "id": "Xr_lI1yD5tTt",
        "outputId": "d76883ad-47f8-4217-d617-cc2f98086796"
      },
      "outputs": [
        {
          "data": {
            "text/plain": [
              "4.3267487109222245"
            ]
          },
          "execution_count": 38,
          "metadata": {},
          "output_type": "execute_result"
        }
      ],
      "source": [
        "math.pow(x,1/3) # x dan kub ildiz"
      ]
    },
    {
      "cell_type": "markdown",
      "metadata": {
        "id": "VX1xTq5m5tTt"
      },
      "source": [
        "`math` moduli tarkibida boshqa funksiyalar ham mavjud. Yuqorida biz ularning ba'zilari bilan tanishdik. Bu modul asosan butun va oʻnlik sonlar bilan ishlashga moʻljallangan. Kompleks sonlar bilan ishlash uchun `cmath` moduliga murojat qilishingiz mumkin.\n"
      ]
    },
    {
      "cell_type": "markdown",
      "metadata": {
        "id": "slh6zqHI5tTt"
      },
      "source": [
        "# `pprint` - CHIROYLI PRINT\n",
        "\n",
        "`pprint` moduli yordamida turli o'zgaruvchilarni chiroyli ko'rinishda konsolga chiqarishimiz mumkin. Bu bizga uzun lug'atlar, JSON fayllar yoki matnlar bilan ishlashda juda asqotadi.\n",
        "\n",
        "Misol uchun, avvalgi darslarimizning birida yaratgan [bemor.json](https://firebasestorage.googleapis.com/v0/b/gitbook-28427.appspot.com/o/assets%2F-MGbkqs1tROquIT6oqUs%2F-MVKOuCO1rXy2QNl5hSo%2F-MVLISWmRxClH303Kj8C%2Fbemor.json?alt=media&token=63a76c45-6a4d-44a8-bef0-d09345879f23) faylini ochamiz va avval `print()` keyin `pprint()` yordamida konsolga chiqaramiz."
      ]
    },
    {
      "cell_type": "code",
      "execution_count": null,
      "metadata": {
        "id": "0Kwzrdtf5tTu"
      },
      "outputs": [],
      "source": [
        "from pprint import pprint\n",
        "import json\n",
        "\n",
        "filename = 'bemor.json'\n",
        "with open(filename) as f:\n",
        "    bemor = json.load(f)\n",
        "\n",
        "print(bemor)"
      ]
    },
    {
      "cell_type": "code",
      "execution_count": null,
      "metadata": {
        "id": "e1UjjrvH5tTu"
      },
      "outputs": [],
      "source": [
        "{'ism': 'Alijon Valiyev', 'yosh': 30, 'oila': True, 'farzandlar': ['Ahmad', 'Bonu'], 'allergiya': None, 'dorilar': [{'nomi': 'Analgin', 'miqdori': 0.5}, {'nomi': 'Panadol', 'miqdori': 1.2}]}"
      ]
    },
    {
      "cell_type": "markdown",
      "metadata": {
        "id": "Mkho9ZcH5tTu"
      },
      "source": [
        "Navbat `pprint()` funksiyasiga:"
      ]
    },
    {
      "cell_type": "code",
      "execution_count": null,
      "metadata": {
        "id": "YXpvSkaV5tTu"
      },
      "outputs": [],
      "source": [
        "pprint(bemor)"
      ]
    },
    {
      "cell_type": "code",
      "execution_count": null,
      "metadata": {
        "id": "R_0SbXiM5tTu"
      },
      "outputs": [],
      "source": [
        "{'allergiya': None,\n",
        " 'dorilar': [{'miqdori': 0.5, 'nomi': 'Analgin'},\n",
        "             {'miqdori': 1.2, 'nomi': 'Panadol'}],\n",
        " 'farzandlar': ['Ahmad', 'Bonu'],\n",
        " 'ism': 'Alijon Valiyev',\n",
        " 'oila': True,\n",
        " 'yosh': 30}"
      ]
    },
    {
      "cell_type": "markdown",
      "metadata": {
        "id": "4JivpTF75tTu"
      },
      "source": [
        "# `RegEx` - ANDOZA YORDAMIDA MATN IZLASH\n",
        "\n",
        "Pythondagi juda foydali modullardan biri bu `re` (*regular expressions*) moduli. Bu modul yordamida biror matn berilgan andozaga tushish, tushmalsigini tekshrib ko'rishimiz mumkin. Yoki berilgan andoza asosida matnlar orasidan kerakli matnlarni ajratib olish mumkin.\n",
        "\n",
        "Keling boshlanishiga sodda misol ko'ramiz. Quyida biz 3 ta so'z va so'zlarni tekshirish uchun andoza yaratdik. Quyidagi andozamiz `т` harfidan boshlanuvchi (`^т`), `р` harfiga tugovchi ($р\\$$), 5 harfdan iborat so'zlarni qidiradi (^т...р$).\n",
        "\n",
        "Avvaliga andozalarni tushunish biroz qiyin bo'lishi mumkin, lekin vaqt o'tishi bilan andoza qanday ishlashini tushunib olasiz deb umid qilamiz.\n",
        "\n",
        "So'zlarni andozaga solishtirish uchun `re.match()` funksiyasidan foydalanamiz. Agar tekshirgan so'zimiz andozaga mosh tushsa, `re.match()` metodi so'zni o'zini qaytaradi, aks holda `None` qiymatini qaytaradi."
      ]
    },
    {
      "cell_type": "code",
      "execution_count": null,
      "metadata": {
        "id": "WHimUDDA5tTu",
        "outputId": "0e9a6dae-9272-4d26-88b5-0d922f4c629f"
      },
      "outputs": [
        {
          "name": "stdout",
          "output_type": "stream",
          "text": [
            "<re.Match object; span=(0, 5), match='темир'>\n"
          ]
        }
      ],
      "source": [
        "import re\n",
        "\n",
        "word1 = \"темир\"\n",
        "word2 = \"томир\"\n",
        "word3 = \"тулпор\"\n",
        "\n",
        "andoza = \"^т...р\"\n",
        "\n",
        "print(re.match(andoza, word1))"
      ]
    },
    {
      "cell_type": "code",
      "execution_count": null,
      "metadata": {
        "id": "mGtWcs845tTu",
        "outputId": "316dc269-e9ad-4b72-c847-e2e958ead2bc"
      },
      "outputs": [
        {
          "name": "stdout",
          "output_type": "stream",
          "text": [
            "<re.Match object; span=(0, 5), match='томир'>\n"
          ]
        }
      ],
      "source": [
        "print(re.match(andoza, word2))"
      ]
    },
    {
      "cell_type": "code",
      "execution_count": null,
      "metadata": {
        "id": "xGo14NL15tTv",
        "outputId": "e49f0c32-a27c-406d-bccc-0955aeb0b3ab"
      },
      "outputs": [
        {
          "name": "stdout",
          "output_type": "stream",
          "text": [
            "None\n"
          ]
        }
      ],
      "source": [
        "print(re.match(andoza, word3))"
      ]
    },
    {
      "cell_type": "markdown",
      "metadata": {
        "id": "cOGIImZu5tTv"
      },
      "source": [
        "Natijadan ko'rishimiz mumkin, `word1` va `word2` o'zgaruvchilari anfozaga tushdi, `word3` esa tushmadi.\n",
        "\n",
        "Keling endi, so'z to'pish o'yinida ishlatilgan soz'lar ro'yxatidan foydalanamiz, va ro'yxatdan biz bergan andozaga tushuvchi so'zlarni ajratib olamiz."
      ]
    },
    {
      "cell_type": "code",
      "execution_count": null,
      "metadata": {
        "id": "xcSIe62p5tTv"
      },
      "outputs": [],
      "source": [
        "from uzwords import words\n",
        "andoza = \"^т...р$\"\n",
        "\n",
        "matches = []\n",
        "for word in words:\n",
        "    if re.match(andoza,word):\n",
        "        matches.append(word)\n",
        "print(matches)"
      ]
    },
    {
      "cell_type": "code",
      "execution_count": null,
      "metadata": {
        "id": "SBX5VsDI5tTv"
      },
      "outputs": [],
      "source": [
        "['табар', 'табор', 'тавир', 'тайёр', 'татар', 'татир', 'тахир', 'тақир', 'театр', 'тембр', 'темир', 'темур', 'тенор', 'тикер', 'тихир', 'товар', 'товор', 'тожир', 'томир', 'тонер', 'тоҳир', 'триер', 'тумор', 'тўпар', 'тўпир']"
      ]
    },
    {
      "cell_type": "markdown",
      "metadata": {
        "id": "1umv6Z_L5tTv"
      },
      "source": [
        "Andozalar biror matnda biz uchun kerakli maʻlumotlarni ajratib olish uchun juda qulay. Masalan, Telegram orqali yuborilgan habardan email manzilini yoki telefon raqamini ajratib olish uchun maxsus andoza yozishmiz mumkin. [ihateregex.io](https://ihateregex.io) sahifasidan esa loyihangiz uchun tayyor andozalarni topishingiz mumkin.\n",
        "\n",
        "![](https://gblobscdn.gitbook.com/assets%2F-MGbkqs1tROquIT6oqUs%2F-MVLd3UlKBz5SKW5nQkC%2F-MVLeZ9FVlbBBhfluJuR%2Fimage.png?alt=media&token=6f572e8e-a964-4aaa-8ff7-f654a3b50584)\n",
        "\n",
        "Keling, yuqoridagi andoza asosida biror matndan email manzilini ajratib olamiz. Buning uchun `re.findall()` funksiyasidan foydalanamiz."
      ]
    },
    {
      "cell_type": "code",
      "execution_count": null,
      "metadata": {
        "id": "iT2iOhMI5tTv",
        "outputId": "b996ea77-7b47-493e-d6e0-5e570ae50c63"
      },
      "outputs": [
        {
          "name": "stdout",
          "output_type": "stream",
          "text": [
            "['rtmkonferensiya2021@mail.ru']\n"
          ]
        }
      ],
      "source": [
        "matn = \"\"\"Maqolalar  2020-yilning 20-martiga qadar rtmkonferensiya2021@mail.ru elektron pochtasida qabul qilinadi.\n",
        "Quyidagi yo'nalishdagi maqolalar qabul qilinadi:\n",
        "👉 Aniq va tabiiy fanlarni zamonaviy pedagogik texnologiyalar asosida o‘qitish  metodikasi.\n",
        "👉 Umumta’lim  fanlarini o‘qitishda  STEAM yondashuvning o’rni va ahamiyati. \"\"\"\n",
        "\n",
        "andoza = '[^@ \\t\\r\\n]+@[^@ \\t\\r\\n]+\\.[^@ \\t\\r\\n]+'\n",
        "email = re.findall(andoza,matn)\n",
        "print(email)"
      ]
    },
    {
      "cell_type": "markdown",
      "metadata": {
        "id": "yErNL-m95tTv"
      },
      "source": [
        "Andoza yordamida foydalanuvchi kiritgan qiymatlarni ham ma'lum shartlarga javob berishini tekshirib olishimiz mumkin:"
      ]
    },
    {
      "cell_type": "code",
      "execution_count": null,
      "metadata": {
        "id": "WQ90KpN65tTv",
        "outputId": "76830d8c-4c4d-4c29-89fa-59b09ca13b9b"
      },
      "outputs": [
        {
          "name": "stdout",
          "output_type": "stream",
          "text": [
            "Yangi parol kiriting(kamida 8 belgidan iborat, kamida 1 ta lotin bosh harf, 1 ta kichik harf, 1 ta son va 1 ta maxsus belgi boʻlishi kerak): salomDunyo123\n",
            "Maxfiy so'z talabga javob bermadi\n",
            "Yangi parol kiriting(kamida 8 belgidan iborat, kamida 1 ta lotin bosh harf, 1 ta kichik harf, 1 ta son va 1 ta maxsus belgi boʻlishi kerak): salomDunyo123#$\n",
            "Maxfiy so'z qabul qilindi\n"
          ]
        }
      ],
      "source": [
        "# Kuchli parolni tekshirish\n",
        "# Quyidagi andoza ham ihateregex.io sahifasidan olindi\n",
        "andoza = '^(?=.*?[A-Z])(?=.*?[a-z])(?=.*?[0-9])(?=.*?[#?!@$ %^&*-]).{8,}$'\n",
        "msg = \"Yangi parol kiriting\"\n",
        "msg += '(kamida 8 belgidan iborat, kamida 1 ta lotin bosh harf, 1 ta kichik harf, '\n",
        "msg += '1 ta son va 1 ta maxsus belgi boʻlishi kerak): '\n",
        "\n",
        "while True:\n",
        "    password = input(msg)\n",
        "    if re.match(andoza,password):\n",
        "        print(\"Maxfiy so'z qabul qilindi\")\n",
        "        break\n",
        "    else:\n",
        "        print(\"Maxfiy so'z talabga javob bermadi\")"
      ]
    },
    {
      "cell_type": "markdown",
      "metadata": {
        "id": "ksdyQ3Fn5tTw"
      },
      "source": [
        "# AMALIYOT\n",
        "\n",
        "- Bugungi sanadan boshlab 2 hafta farq bilan 10 ta sanani konsolga chiqaring\n",
        "- Ramazon va qurbon hayitigacha qolgan kunlarni konsolga chiqaring\n",
        "- Tug'ilgan kuningizdan bugungi sanagacha qancha yil, oy, kun o'tganini qaytaruvchi funksiya yozing\n",
        "- Foydalanuvchidan telefon raqamini kiritishni so'rang. Kiritlgan qiymatni andoza yordamida tekshiring\n",
        "- Berilgan matndan veb sahifa manzilini ajratib olyuvchi funksiya yozing. Quyidagi matndan namuna sifatida foydalanishingiz mumkin:\n",
        "> Assalom alaykum hurmatli do'stlar. Navbatdagi darsimiz YouTubega yuklandi: https://youtu.be/vsxJPRLXpgI\n",
        "Ushbu darsimizda unittest moduli yordamida klasslarning xususiyatlar va metodlarini tekshiruvchi dastur yozishni o'rganamiz. Bugungi dars manzili: https://python.sariq.dev/testing/37-klass-test"
      ]
    },
    {
      "cell_type": "code",
      "execution_count": 9,
      "metadata": {
        "colab": {
          "base_uri": "https://localhost:8080/"
        },
        "id": "swtOorwP5tTw",
        "outputId": "b496957f-14e7-431c-e0bc-3d69a493f859"
      },
      "outputs": [
        {
          "output_type": "stream",
          "name": "stdout",
          "text": [
            "2025-04-23\n",
            "2025-05-07\n",
            "2025-05-21\n",
            "2025-06-04\n",
            "2025-06-18\n",
            "2025-07-02\n",
            "2025-07-16\n",
            "2025-07-30\n",
            "2025-08-13\n",
            "2025-08-27\n"
          ]
        }
      ],
      "source": [
        "import datetime as dt\n",
        "\n",
        "today = dt.date.today()\n",
        "for i in range(10):\n",
        "  kelgusi_sana = today + dt.timedelta(days=14)\n",
        "  print(kelgusi_sana)\n",
        "  today = kelgusi_sana\n",
        ""
      ]
    },
    {
      "cell_type": "code",
      "source": [
        "import datetime as dt\n",
        "today = dt.date.today()\n",
        "print(f\"Bugungi sana\", today)\n",
        "print(f\"Ramazongacha\", (dt.date(2026, 2, 17) - today).days, \"kun qoldi\")"
      ],
      "metadata": {
        "colab": {
          "base_uri": "https://localhost:8080/"
        },
        "id": "jz4CKsydDnzT",
        "outputId": "2f4fdf27-11d5-4acb-e68b-a1da302a1792"
      },
      "execution_count": 7,
      "outputs": [
        {
          "output_type": "stream",
          "name": "stdout",
          "text": [
            "Bugungi sana 2025-04-09\n",
            "Ramazongacha 314 kun qoldi\n"
          ]
        }
      ]
    },
    {
      "cell_type": "code",
      "source": [
        "days_dif = (today - dt.date(2000,12,20)).days\n",
        "months_dif = (today.year - dt.date(2000,12,20).year)* 12\n",
        "years_dif = today.year - dt.date(2000,12,20).year\n",
        "print(f\"\", days_dif, \"Days\", months_dif,\"Months\", years_dif, \"Years\" )"
      ],
      "metadata": {
        "id": "a98rzF_Zh4Pd",
        "outputId": "b24b07a1-abd5-4a22-c0ee-83de94200561",
        "colab": {
          "base_uri": "https://localhost:8080/"
        }
      },
      "execution_count": 29,
      "outputs": [
        {
          "output_type": "stream",
          "name": "stdout",
          "text": [
            " 8876 Days 300 Months 25 Years\n"
          ]
        }
      ]
    },
    {
      "cell_type": "code",
      "source": [
        "import re\n",
        "\n",
        "template = (\"[0-9]{9}$\")\n",
        "\n",
        "while True:\n",
        "  number = input(\"Please enter your phone number: \")\n",
        "  if re.match(template, number):\n",
        "    print(\"Thanks!\")\n",
        "    break\n",
        "  else:\n",
        "    print(\"Invalid phone number \\nPlease enter valid phone number\")\n"
      ],
      "metadata": {
        "id": "yuySCLjzoxcu",
        "outputId": "9a57b532-0b8d-4e0a-b0ca-34102d9a5dc0",
        "colab": {
          "base_uri": "https://localhost:8080/"
        }
      },
      "execution_count": 5,
      "outputs": [
        {
          "output_type": "stream",
          "name": "stdout",
          "text": [
            "Please enter your phone number: 876\n",
            "Invalid phone number \n",
            "Please enter valid phone number\n",
            "Please enter your phone number: 995556677\n",
            "Thanks!\n"
          ]
        }
      ]
    },
    {
      "cell_type": "code",
      "source": [
        "import re\n",
        "\n",
        "website_regex = r\"(https?://(?:www\\.|(?!www))[a-zA-Z0-9][a-zA-Z0-9-]+[a-zA-Z0-9]\\.[^\\s]{2,}|www\\.[a-zA-Z0-9][a-zA-Z0-9-]+[a-zA-Z0-9]\\.[^\\s]{2,}|https?://(?:www\\.|(?!www))[a-zA-Z0-9]+\\.[^\\s]{2,}|www\\.[a-zA-Z0-9]+\\.[^\\s]{2,})\"\n",
        "\n",
        "def website_separator():\n",
        "  determined_websites = []\n",
        "  value = (input(\"Enter text: \")).split()\n",
        "  for i in value:\n",
        "      if re.match(website_regex, i):\n",
        "        determined_websites.append(i)\n",
        "      else:\n",
        "        continue\n",
        "  print(f\"Determined websites\", determined_websites)\n",
        "\n",
        "website_separator()"
      ],
      "metadata": {
        "id": "HB5r7102z5-f",
        "outputId": "947bbec9-e922-490d-d1a1-c72ac3f52866",
        "colab": {
          "base_uri": "https://localhost:8080/"
        }
      },
      "execution_count": 7,
      "outputs": [
        {
          "output_type": "stream",
          "name": "stdout",
          "text": [
            "Enter text: Assalom alaykum hurmatli do'stlar. Navbatdagi darsimiz YouTubega yuklandi: https://youtu.be/vsxJPRLXpgI Ushbu darsimizda unittest moduli yordamida klasslarning xususiyatlar va metodlarini tekshiruvchi dastur yozishni o'rganamiz. Bugungi dars manzili: https://python.sariq.dev/testing/37-klass-test\n",
            "Determined websites ['https://youtu.be/vsxJPRLXpgI', 'https://python.sariq.dev/testing/37-klass-test']\n"
          ]
        }
      ]
    }
  ],
  "metadata": {
    "language_info": {
      "name": "python"
    },
    "colab": {
      "provenance": []
    },
    "kernelspec": {
      "name": "python3",
      "display_name": "Python 3"
    }
  },
  "nbformat": 4,
  "nbformat_minor": 0
}