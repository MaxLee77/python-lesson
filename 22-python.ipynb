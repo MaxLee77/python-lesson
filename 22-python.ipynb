{
  "cells": [
    {
      "cell_type": "markdown",
      "metadata": {
        "id": "ZGRFBjejT5U-"
      },
      "source": [
        "# 22-DARS. MOSLASHUVCHAN FUNKSIYA (`*args`, `**kwargs`)\n",
        "\n",
        "`*args` va `**kwargs` bilan tanishamiz\n",
        "\n",
        "![](https://gblobscdn.gitbook.com/assets%2F-MGbkqs1tROquIT6oqUs%2F-Mc-5yGQPZTBaGoehQdL%2F-Mc-7xpq4Puu3KEjmT0R%2FSD_YT_TG_logo_mini.png?alt=media&token=929fe67b-ec12-4f63-b33e-e9c5e3d8ad09)\n",
        "\n",
        "# MOSLASHUVCHAN FUNKSIYA\n",
        "\n",
        "Agar funksiyangiz bir nechta argument qabul qilishi kerak bo'lsa-yu, lekin siz argumentlar sonini aniq bilmasangiz, Pythonda istalgancha qiymat qabul qiluvchi funksiya yaratish imkoniyati bor.\n",
        "\n",
        "## `*args` USULI\n",
        "\n",
        "Agar funksiya qabul qiladigan parametrlar soni noaniq bo'lsa, va parametrlar yagona qiymatlar ko'rinishida uzatilsa, funksiya yaratishda argumentdan avval yulduzcha qo'yiladi (`*arguments`).\n",
        "Quyidagi misolni ko'raylik. `summa()`nomli funksiyamiz istalgancha sonlarni qabul qilib oladi, va ularning yi'gindisi hisoblaydi:\n"
      ]
    },
    {
      "cell_type": "code",
      "execution_count": null,
      "metadata": {
        "id": "dA2oqumDT5VF"
      },
      "outputs": [],
      "source": [
        "def summa(*sonlar):\n",
        "    \"\"\"Kiritilgan sonlar yig'indisini hisoblaydigan funksiya\"\"\"\n",
        "    yigindi = 0\n",
        "    for son in sonlar:\n",
        "        yigindi += son\n",
        "    return yigindi"
      ]
    },
    {
      "cell_type": "markdown",
      "metadata": {
        "id": "bN0mhuuyT5VH"
      },
      "source": [
        "Bu funksiyani istalgancha parametr bilan chaqirish mumkin:"
      ]
    },
    {
      "cell_type": "code",
      "execution_count": null,
      "metadata": {
        "id": "8GzshS5jT5VI",
        "outputId": "2a63a4be-b1c8-4c38-d8dc-f9c4a7ef0c0d"
      },
      "outputs": [
        {
          "name": "stdout",
          "output_type": "stream",
          "text": [
            "3\n"
          ]
        }
      ],
      "source": [
        "print(summa(1,2))"
      ]
    },
    {
      "cell_type": "code",
      "execution_count": null,
      "metadata": {
        "id": "zeUHSKNbT5VL",
        "outputId": "69a1b513-463c-4685-95f6-407dd9d6a70c"
      },
      "outputs": [
        {
          "name": "stdout",
          "output_type": "stream",
          "text": [
            "15\n"
          ]
        }
      ],
      "source": [
        "print(summa(1,2,3,4,5))"
      ]
    },
    {
      "cell_type": "markdown",
      "metadata": {
        "id": "DZeUf95_T5VM"
      },
      "source": [
        "`*args` usulida, bacha uzatilgan parametrlar (bir dona bo'lsa ham) funksiya ichida [o'zgarmas ro'yxatga (tuple)](https://python.sariq.dev/ozgaruvchilar-va-malumot-turlari/08-list-tuple#tuples-ozgarmas-royxat) joylanadi. Bundan kelib chiqib, yuqoridagi funksiyamizni yanada soddalashtirib yozishimiz mumkin:"
      ]
    },
    {
      "cell_type": "markdown",
      "metadata": {
        "id": "IdK3pu0ST5VN"
      },
      "source": [
        "Agar funksiya bir nechta argument qabul qilsa, `*args` argument doim oxirida yoziladi:"
      ]
    },
    {
      "cell_type": "code",
      "execution_count": null,
      "metadata": {
        "id": "ucb_NkgET5VO"
      },
      "outputs": [],
      "source": [
        "def summa(x,y,*sonlar):\n",
        "    \"\"\"Kiritilgan sonlar yig'indisini hisoblaydigan funksiya\"\"\"\n",
        "    return x+y+sum(sonlar)"
      ]
    },
    {
      "cell_type": "markdown",
      "metadata": {
        "id": "vAyuaIXkT5VP"
      },
      "source": [
        "Yuqoridagi funksiyamiz kamida 2 ta parametr qabul qiladi (`x` va `y`) va birinchi ikki argumentlar majburiy argumentlardir."
      ]
    },
    {
      "cell_type": "code",
      "execution_count": null,
      "metadata": {
        "id": "P3rwJViMT5VQ",
        "outputId": "2fa4d0f5-b456-43b3-90b7-ea753c22c6a8"
      },
      "outputs": [
        {
          "ename": "TypeError",
          "evalue": "summa() missing 1 required positional argument: 'y'",
          "output_type": "error",
          "traceback": [
            "\u001b[0;31m---------------------------------------------------------------------------\u001b[0m",
            "\u001b[0;31mTypeError\u001b[0m                                 Traceback (most recent call last)",
            "\u001b[0;32m<ipython-input-13-4a3cd0d0086e>\u001b[0m in \u001b[0;36m<module>\u001b[0;34m\u001b[0m\n\u001b[0;32m----> 1\u001b[0;31m \u001b[0mprint\u001b[0m\u001b[0;34m(\u001b[0m\u001b[0msumma\u001b[0m\u001b[0;34m(\u001b[0m\u001b[0;36m2\u001b[0m\u001b[0;34m)\u001b[0m\u001b[0;34m)\u001b[0m\u001b[0;34m\u001b[0m\u001b[0;34m\u001b[0m\u001b[0m\n\u001b[0m",
            "\u001b[0;31mTypeError\u001b[0m: summa() missing 1 required positional argument: 'y'"
          ]
        }
      ],
      "source": [
        "print(summa(2))"
      ]
    },
    {
      "cell_type": "markdown",
      "metadata": {
        "id": "GV9BLi0dT5VR"
      },
      "source": [
        "## `**kwargs` USULI\n",
        "Agar funksiyaga kalit so'z - qiymat ko'rinishidagi argumentlarni uzatish talab qilinsa, va bunday parametrlar soni noma'lum bo'lsa, argument oldidan ikkita yulduzcha qo'yiladi (`**kwargs`).\n",
        "\n",
        ">**kwargs — keyword arguments (kalit so'zli argumentlar)"
      ]
    },
    {
      "cell_type": "code",
      "execution_count": null,
      "metadata": {
        "id": "mofi5b5HT5VS"
      },
      "outputs": [],
      "source": [
        "def avto_info(kompaniya,model,**malumotlar):\n",
        "    \"\"\"Avto haqidagi ma'lumotlarni lug'at ko'rinishdia qaytaruvchi funksiya\"\"\"\n",
        "    malumotlar['kompaniya']=kompaniya\n",
        "    malumotlar['model']=model\n",
        "    return malumotlar"
      ]
    },
    {
      "cell_type": "markdown",
      "metadata": {
        "id": "-wCBRq7UT5VT"
      },
      "source": [
        "Yuqoridagi funksiyamiz kompaniya va model degan ikki qiymatni qabul qiladi, undan keyin esa funksiyaga istalgancha parametr uzatish mumkin.  Bunday funksiyaga parametrlar `kalitso'z=qiymat` ko'rinishida uzatiladi.\n",
        "\n",
        "Funksiya ichida avval foydalanuvchi kiritgan **qo'shimcha** qiymatlardan iborat `malumotlar` deb nomlangan lug'at shakllantiriladi. Undan keyin esa majburiy parametrlarni lug'atga qo'shamiz."
      ]
    },
    {
      "cell_type": "code",
      "execution_count": null,
      "metadata": {
        "id": "coB5X8yRT5VU"
      },
      "outputs": [],
      "source": [
        "avto1 = avto_info(\"GM\", \"malibu\", rang='qora', yil=2018)\n",
        "avto2 = avto_info(\"Kia\", \"K5\", rang='qizil', narh=35000)"
      ]
    },
    {
      "cell_type": "code",
      "execution_count": null,
      "metadata": {
        "id": "Zn8Xho52T5VU",
        "outputId": "8a0771de-ef40-4b20-fd59-8f9184813e54"
      },
      "outputs": [
        {
          "name": "stdout",
          "output_type": "stream",
          "text": [
            "{'rang': 'qizil', 'narh': 35000, 'kompaniya': 'Kia', 'model': 'K5'}\n"
          ]
        }
      ],
      "source": [
        "print(avto2)"
      ]
    },
    {
      "cell_type": "code",
      "source": [
        "def num_multiply(*nums):\n",
        "  result = 1\n",
        "  for n in nums:\n",
        "    result *= n\n",
        "  return result\n",
        "num_multiply(2,3,5,10)"
      ],
      "metadata": {
        "id": "WoVLuz7qT8yH",
        "outputId": "68dc2561-332c-4e64-e5dc-c5c4d697af94",
        "colab": {
          "base_uri": "https://localhost:8080/"
        }
      },
      "execution_count": 4,
      "outputs": [
        {
          "output_type": "stream",
          "name": "stdout",
          "text": [
            "(2, 3, 5, 10)\n"
          ]
        },
        {
          "output_type": "execute_result",
          "data": {
            "text/plain": [
              "300"
            ]
          },
          "metadata": {},
          "execution_count": 4
        }
      ]
    },
    {
      "cell_type": "markdown",
      "source": [],
      "metadata": {
        "id": "bAtt3Z7bXPjO"
      }
    },
    {
      "cell_type": "markdown",
      "source": [],
      "metadata": {
        "id": "eNfrg7ECXP7f"
      }
    },
    {
      "cell_type": "code",
      "source": [
        "def student_info(name, last_name, **kwargs):\n",
        "  kwargs[\"Name\"] = name\n",
        "  kwargs[\"last name\"] = last_name\n",
        "  return kwargs\n",
        "\n",
        "student_info(\"Abbos\", \"Alimov\", age = 23, weight = 115, hobby = \"talking\")"
      ],
      "metadata": {
        "id": "Bu_xyugGWmSK",
        "outputId": "627b4426-36ee-4234-9358-ef91b5e25dd8",
        "colab": {
          "base_uri": "https://localhost:8080/"
        }
      },
      "execution_count": 15,
      "outputs": [
        {
          "output_type": "execute_result",
          "data": {
            "text/plain": [
              "{'age': 23,\n",
              " 'weight': 115,\n",
              " 'hobby': 'talking',\n",
              " 'Name': 'Abbos',\n",
              " 'last name': 'Alimov'}"
            ]
          },
          "metadata": {},
          "execution_count": 15
        }
      ]
    },
    {
      "cell_type": "markdown",
      "metadata": {
        "id": "r6p1qbXaT5VV"
      },
      "source": [
        "# AMALIYOT\n",
        "1. Istalgancha sonlarni qabul qilib, ularning ko'paytmasini qaytaruvchi funksiya yozing\n",
        "2. Talabalar haqidagi ma'lumotlarini lug'at ko'rinishida qaytaruvchi funkisya yozing. Talabaning ismi va familiyasi majburiy argument, qolgan ma'lumotlar esa ixtiyoriy ko'rinishda istalgancha berilishi mumkin bo'lsin.\n",
        "\n",
        "# JAVOBLAR\n",
        "## GitHub"
      ]
    },
    {
      "cell_type": "code",
      "execution_count": null,
      "metadata": {
        "id": "xSHGQ3sjT5VW",
        "outputId": "7ad759ba-177f-4cce-8fbd-0e9312c10e19"
      },
      "outputs": [
        {
          "name": "stdout",
          "output_type": "stream",
          "text": [
            "120\n"
          ]
        }
      ],
      "source": [
        "def multiply(*sonlar):\n",
        "    kopaytma = 1\n",
        "    for son in sonlar:\n",
        "        kopaytma *= son\n",
        "    return kopaytma\n",
        "\n",
        "print(multiply(4,5,6))"
      ]
    },
    {
      "cell_type": "code",
      "execution_count": 13,
      "metadata": {
        "id": "_llQasd2T5VX"
      },
      "outputs": [],
      "source": [
        "def talaba_info(ism, familiya, **kwargs):\n",
        "    kwargs['ism']=ism\n",
        "    kwargs['familiya']=familiya\n",
        "    return kwargs\n",
        "\n",
        "talaba = talaba_info('olim','olimov',tyil=1995,fakultet='IT',yonalish='AT')"
      ]
    }
  ],
  "metadata": {
    "language_info": {
      "name": "python"
    },
    "colab": {
      "provenance": []
    },
    "kernelspec": {
      "name": "python3",
      "display_name": "Python 3"
    }
  },
  "nbformat": 4,
  "nbformat_minor": 0
}