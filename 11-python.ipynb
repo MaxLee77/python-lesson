{
  "cells": [
    {
      "cell_type": "markdown",
      "metadata": {
        "id": "oiNV9Tbo190A"
      },
      "source": [
        "# 11-DARS. BIR NECHTA SHARTLARNI TEKSHIRISH\n",
        "`if-elif-else` zanjiri, `and`, `or` operatorlari bilan tanishamiz"
      ]
    },
    {
      "cell_type": "markdown",
      "metadata": {
        "id": "92JznAZc190F"
      },
      "source": [
        "![](https://gblobscdn.gitbook.com/assets%2F-MGbkqs1tROquIT6oqUs%2F-Mc-5yGQPZTBaGoehQdL%2F-Mc-7xpq4Puu3KEjmT0R%2FSD_YT_TG_logo_mini.png?alt=media&token=929fe67b-ec12-4f63-b33e-e9c5e3d8ad09)"
      ]
    },
    {
      "cell_type": "markdown",
      "metadata": {
        "id": "2j24YJON190F"
      },
      "source": [
        "# if-elif-else KETMA-KETLIGI\n",
        "\n",
        "Dastur davomida bir nechta shartni tekshirish talab qilinishi mumkin. Bunday holatda biz `if-elif-else` ketma-ketligidan foydalanamiz. *elif* - else va if so'zalrining jamlanmasi bo'lib, *\"aks holda, agar...\"* deb tarjima qilinadi. Bunday `if` bilan boshlangan ketma-ketlik bir nechta `elif` lardan iborat bo'lishi mumkin.\n",
        "\n",
        "Python avval `if` shartini tekshiradi, shart bajarilmasa `elif` ga o'tadi, birinchi `elif` sharti bajarilmasa keyingi `elif` ga o'tadi va hokazo davom etaveradi.\n",
        "\n",
        "> **Diqqat!** `if-elif-else` ketma-ketlikda biror shart bajarilishi bilan, Python qolgan shartlarni tekshirmaydi.\n",
        "\n",
        "Keling bir misol ko'ramiz. Hayvonot bo'giga kirish quyidagicha belgilangan:\n",
        "- 4 yoshdan kichik bolalarga kirish bepul\n",
        "- 4 yoshdan 12 yoshgacha kirish 5000 so'm\n",
        "- 12 yoshdan kattalarga 10000 so'm\n",
        "\n",
        "Foydalanuvchidan yoshini so'rab, hayvonot bog'iga kirish chiptasi narhini chiqaruvchi dastur yozamiz."
      ]
    },
    {
      "cell_type": "code",
      "execution_count": null,
      "metadata": {
        "id": "JW0HGkVA190G",
        "outputId": "3421da61-c0fe-4ebc-f564-f1382d1c192b"
      },
      "outputs": [
        {
          "name": "stdout",
          "output_type": "stream",
          "text": [
            "Yoshingiz nechida? 12\n",
            "Sizga kirish 5000 so'm\n"
          ]
        }
      ],
      "source": [
        "yosh = int(input('Yoshingiz nechida? '))\n",
        "if yosh<=4:\n",
        "    print('Sizga kirish bepul.')\n",
        "elif yosh<=12:\n",
        "    print('Sizga kirish 5000 so\\'m')\n",
        "else:\n",
        "    print('Sizga kirish 10000 so\\'m')"
      ]
    },
    {
      "cell_type": "markdown",
      "metadata": {
        "id": "mZF2v2GK190J"
      },
      "source": [
        "Yuqoridagi kod avval foydalanuvchi yoshini so'raydi. 2-qatorda yosh 4 dan kichik ekanligini tekshiradi. Agar bu shart bajarilsa shartlarni tekshirish shu yerdayoq to'xtaydi va keyingi shartlar tashlab o'tib ketiladi.\n",
        "\n",
        "`Sizga kirish bepul.`\n",
        "\n",
        "Agar `yosh<=4` sharti bajarilmasa, keyingi elif `yosh<=12` sharti tekshiriladi, agar shart bajarilsa quyidagi natija chiqadi:\n",
        "\n",
        "`Sizga kirish 5000 so'm`\n",
        "\n",
        "Agar yuoqridagi ikki shart ham bajarilmasa navbat o'z-o'zidan else bilan kelgan kod bajariladi:\n",
        "\n",
        "`Sizga kirish 10000 so'm`\n",
        "\n",
        "> Kod yozishda yaxshi amaliyotlardan biri, kodlarni qisqa yozish va buyruqlarni qayta-qayta takrorlamaslik. Bu kelajakda kodni o'zgartirishda ham juda qo'l keladi."
      ]
    },
    {
      "cell_type": "code",
      "execution_count": null,
      "metadata": {
        "id": "JCMKgJtH190J",
        "outputId": "67a548e4-4607-49c6-ce65-bff1a6d3bc6a"
      },
      "outputs": [
        {
          "name": "stdout",
          "output_type": "stream",
          "text": [
            "Yoshingiz nechida? 8\n",
            "Sizga kirish 5000 so'm\n"
          ]
        }
      ],
      "source": [
        "yosh = int(input('Yoshingiz nechida? '))\n",
        "if yosh<=4:\n",
        "    price = 0\n",
        "elif yosh<=12:\n",
        "    price = 5000\n",
        "else:\n",
        "    price = 10000\n",
        "\n",
        "print(f\"Sizga kirish {price} so'm\")"
      ]
    },
    {
      "cell_type": "markdown",
      "metadata": {
        "id": "FS6Rc2iC190K"
      },
      "source": [
        "Avval aytganimizdek,  `if-elif-else` zanjirida bit nechta `elif` lar bo'lishi mumkin. Misol uchun, hayvonot bog'i qariyalar uchun chegirma e'lon qilsa, kodimizni quyidagicha o'zgartirishimiz mumkin:"
      ]
    },
    {
      "cell_type": "code",
      "execution_count": null,
      "metadata": {
        "id": "C77PpMUS190K",
        "outputId": "55501ab5-e5f9-44a0-a18a-e8eed1d37250"
      },
      "outputs": [
        {
          "name": "stdout",
          "output_type": "stream",
          "text": [
            "Yoshingiz nechida? 66\n",
            "Sizga kirish 8000 so'm\n"
          ]
        }
      ],
      "source": [
        "yosh = int(input('Yoshingiz nechida? '))\n",
        "if yosh<=4: # yosh bolalarga bepul\n",
        "    price = 0\n",
        "elif yosh<=12: # 4 dan 12 yoshgacha 5000 so'm\n",
        "    price = 5000\n",
        "elif yosh<65: # 12 dan katta va 65 dan kichiklarga narh 10000 so'm\n",
        "    price = 10000\n",
        "else: # qariyalarga esa 8000 so'm\n",
        "    price = 8000\n",
        "print(f\"Sizga kirish {price} so'm\")"
      ]
    },
    {
      "cell_type": "markdown",
      "metadata": {
        "id": "i9f5yMzq190L"
      },
      "source": [
        "`if-elif-else` zanjirida ham `else` qismi majburiy emas:"
      ]
    },
    {
      "cell_type": "code",
      "execution_count": null,
      "metadata": {
        "id": "TlgK_Kwq190L",
        "outputId": "979f3689-d345-498b-de92-759e93a87750"
      },
      "outputs": [
        {
          "name": "stdout",
          "output_type": "stream",
          "text": [
            "Yoshingiz nechida? 70\n",
            "Sizga kirish 8000 so'm\n"
          ]
        }
      ],
      "source": [
        "yosh = int(input('Yoshingiz nechida? '))\n",
        "if yosh<=4:\n",
        "    price = 0\n",
        "elif yosh<=12:\n",
        "    price = 5000\n",
        "elif yosh<65:\n",
        "    price = 10000\n",
        "elif yosh>=65:\n",
        "    price = 8000\n",
        "print(f\"Sizga kirish {price} so'm\")"
      ]
    },
    {
      "cell_type": "markdown",
      "metadata": {
        "id": "NH6rNPqI190M"
      },
      "source": [
        "# `AND`, `OR` OPERATORLARI\n",
        "\n",
        "Yuqorida aytganimizdek, `if-elif-else` zanjirida shartlarning biri bajarilishi bilan, Python qolgan shartlarni tekshirmaydi va ularni bajarmaydi. Lekin ba'zida biz 2 yoki undan ko'p shartlarni tekshirishni talab qilishimiz mumkin, buing uchun `AND` va `OR` operatorlaridan foydalanamiz.\n",
        "\n",
        "## `OR` OPERATORI\n",
        "**OR** ingliz tilidan \"yoki\" deb tarjima qilinadi, va ikki va undan ko'p shartlardan biri bajarilishini tekshirishda ishlatiladi. Quyidagi misolni ko'raylik, foydalanuvchidan hafta kunini so'raymiz va agar kun shanba yoki yakshanba bo'lsa, bugun dam olish kuni degan xabarni chiqaramiz, aks holda bugun ish kuni degan xabarni chiqaramiz:"
      ]
    },
    {
      "cell_type": "code",
      "execution_count": null,
      "metadata": {
        "id": "GowqodFD190M",
        "outputId": "f5cc7f0c-66c6-4ab2-f58a-313e83558380"
      },
      "outputs": [
        {
          "name": "stdout",
          "output_type": "stream",
          "text": [
            "Bugun nima kun?>>>shanba\n",
            "Bugun dam olish kuni.\n"
          ]
        }
      ],
      "source": [
        "kun = input(\"Bugun nima kun?>>>\")\n",
        "if kun.lower()=='shanba' or kun.lower()=='yakshanba':\n",
        "    print('Bugun dam olish kuni.')\n",
        "else:\n",
        "    print('Bugun ish kuni.')"
      ]
    },
    {
      "cell_type": "markdown",
      "metadata": {
        "id": "iWNaw0zb190M"
      },
      "source": [
        "2-qatrodagi **`or`** operatoriga e'tibor qiling, bu operator `kun.lower()=='shanba'` yoki `kun.lower()=='yakshanba'` shartlaridan biri bajarilsa `TRUE` qiymatini qaytaradi"
      ]
    },
    {
      "cell_type": "code",
      "execution_count": null,
      "metadata": {
        "id": "reHIPQEw190N",
        "outputId": "c5838363-c560-4717-ed4d-4797779c865e"
      },
      "outputs": [
        {
          "name": "stdout",
          "output_type": "stream",
          "text": [
            "Bugun nima kun?>>>juma\n",
            "Bugun ish kuni.\n"
          ]
        }
      ],
      "source": [
        "kun = input(\"Bugun nima kun?>>>\")\n",
        "if kun.lower()=='shanba' or kun.lower()=='yakshanba':\n",
        "    print('Bugun dam olish kuni.')\n",
        "else:\n",
        "    print('Bugun ish kuni.')"
      ]
    },
    {
      "cell_type": "markdown",
      "metadata": {
        "id": "ZKYIjnG1190N"
      },
      "source": [
        "## `AND` OPERATORI"
      ]
    },
    {
      "cell_type": "markdown",
      "metadata": {
        "id": "d5warIa5190N"
      },
      "source": [
        "**AND** ingliz tilidan \"va\" deb tarjima qilinadi, va ikki va undan ko'p shartlarning barchasi bajarilishini tekshirishda ishlatiladi. `AND` operatori bilan yozilgan shartlarning barchasi bajarilgandagina `TRUE` qiymati qaytadi, agar shartlardan biri bajarilmay qolsa ham `FALSE` qiymati qaytadi.\n",
        "\n",
        "Quyidagi misolni ko'ramiz:"
      ]
    },
    {
      "cell_type": "code",
      "execution_count": null,
      "metadata": {
        "id": "h__9TOgv190N",
        "outputId": "6b5fa98b-0108-4f5c-b895-d1d53303adff"
      },
      "outputs": [
        {
          "name": "stdout",
          "output_type": "stream",
          "text": [
            "Bugun nima kun?yakshanba\n",
            "Havo harorati qanday?36\n",
            "Cho'milgani ketdik!\n"
          ]
        }
      ],
      "source": [
        "kun = input(\"Bugun nima kun?\")\n",
        "harorat = float(input(\"Havo harorati qanday?\"))\n",
        "if kun.lower()=='yakshanba' and harorat>=30:\n",
        "    print(\"Cho'milgani ketdik!\")\n",
        "elif kun.lower()=='yakshanba' and harorat<30:\n",
        "    print(\"Uyda dam olamiz!\")"
      ]
    },
    {
      "cell_type": "markdown",
      "metadata": {
        "id": "xGZ9RX7U190O"
      },
      "source": [
        "3-qatordagi and operatori `kun.lower()=='yakshanba'` va `harorat>=30` shartlarining ikkisi ham bajarilgandagina `TRUE` qiymatini qaytaradi, aks holda qiymat `FALSE` bo'ladi."
      ]
    },
    {
      "cell_type": "code",
      "execution_count": null,
      "metadata": {
        "id": "uvxXpkwy190O",
        "outputId": "cb3c7cdb-99c6-4a20-d8f5-0214ef4f7c80"
      },
      "outputs": [
        {
          "name": "stdout",
          "output_type": "stream",
          "text": [
            "Bugun nima kun?yakshanba\n",
            "Havo harorati qanday?25\n",
            "Uyda dam olamiz!\n"
          ]
        }
      ],
      "source": [
        "kun = input(\"Bugun nima kun?\")\n",
        "harorat = float(input(\"Havo harorati qanday?\"))\n",
        "if kun.lower()=='yakshanba' and harorat>=30:\n",
        "    print(\"Cho'milgani ketdik!\")\n",
        "elif kun.lower()=='yakshanba' and harorat<30:\n",
        "    print(\"Uyda dam olamiz!\")"
      ]
    },
    {
      "cell_type": "markdown",
      "metadata": {
        "id": "8CuMymvk190O"
      },
      "source": [
        "## BIR NECHTA SHARTLARNI KETMA-KET YOZISH\n",
        "\n",
        "Shartlarni yozishda bir nechta `and` va `or` operatorlarini aralashtirib ham yozish mumkin."
      ]
    },
    {
      "cell_type": "code",
      "execution_count": null,
      "metadata": {
        "id": "uB3R8Wao190O",
        "outputId": "feb0e462-efc3-4fe0-c1a5-31621263e408"
      },
      "outputs": [
        {
          "name": "stdout",
          "output_type": "stream",
          "text": [
            "Bugun nima kun?shanba\n",
            "Havo harorati qanday?36\n",
            "Cho'milgani ketdik!\n"
          ]
        }
      ],
      "source": [
        "kun = input(\"Bugun nima kun?\")\n",
        "harorat = float(input(\"Havo harorati qanday?\"))\n",
        "if (kun.lower()=='shanba' or kun.lower()=='yakshanba') and harorat>=30:\n",
        "    print(\"Cho'milgani ketdik!\")\n",
        "elif (kun.lower()=='shanba' or kun.lower()=='yakshanba') and harorat<30:\n",
        "    print(\"Uyda dam olamiz!\")"
      ]
    },
    {
      "cell_type": "markdown",
      "metadata": {
        "id": "XGQKNdxU190P"
      },
      "source": [
        "3-qatorga e'tibor bersangiz biz avval kun shanba yoki yakshanba ekanligini so'ngra haroratni tekshirdik. Bu shart bajarilishi uchun kun shanba yoki yakshanba va harorat 30 dan baland bo'lishi shart."
      ]
    },
    {
      "cell_type": "markdown",
      "metadata": {
        "id": "gH1V7D-5190P"
      },
      "source": [
        "# BOOLEAN MA'LUMOTLAR TURI"
      ]
    },
    {
      "cell_type": "markdown",
      "metadata": {
        "id": "jMwajdH-190P"
      },
      "source": [
        "Avvalgi darsimizda biz turli ifodalarni solishtirishda `TRUE` yoki `FALSE` qiymatlari qaytishini ko'rdik. Bu qiymatlar boolean (mantiqiy) qiymatlar deb ataladi, va dasturlashda juda keng qo'llaniladi. Pythonda o'zgaruvchilarda boolean qiymatlarni ham saqlash mumkin.\n",
        "\n",
        "Quyidagi dasturga e'tibor bering. Deylik, restoranimizga kelgan mijoz 15000 so'mlik taom oldi, biz mijoz qo'shimcha choy va salat ham olgan (olmaganiga) qarab ularning narhini ham  yakuniy narhga qo'shishimiz kerak. Mijozning choy yoki salat olgan (olmaganini) biz TRUE va FALSE qiymatlari bilan belgiladik.\n"
      ]
    },
    {
      "cell_type": "code",
      "execution_count": null,
      "metadata": {
        "id": "RIj8IUS6190P",
        "outputId": "480b6c57-10ac-4ab3-d7cf-78edc800b3c1"
      },
      "outputs": [
        {
          "name": "stdout",
          "output_type": "stream",
          "text": [
            "Jami 20000 so'm\n"
          ]
        }
      ],
      "source": [
        "narh = 15000 # mijoz 15000 so'mga taom oldi.\n",
        "choy = True # mijoz choy ham oldi\n",
        "salat = False # mijoz salat olmadi\n",
        "\n",
        "if choy and salat: # agar mijoz choy ham salat ham olgan bo'lsa\n",
        "    narh = narh + 10000 # narhga 10000 so'm qo'shamiz\n",
        "elif choy or salat: # agar choy yoki salat olgan bo'lsa\n",
        "    narh = narh + 5000 # narhga 5000 so'm qo'shamiz\n",
        "\n",
        "print(f\"Jami {narh} so'm\") # yakuniy narhni chiqaramiz"
      ]
    },
    {
      "cell_type": "markdown",
      "metadata": {
        "id": "-8Q3bz_0190P"
      },
      "source": [
        "E'tibor bering, `choy` va `salat` boolean (mantiqiy) qiymatlar bo'gani uchun, 5 va 7-qatorlarda biz `choy==True` yoki `salat==True` deb yozib o'tirishimiz shart emas.\n",
        "\n",
        "Yuoqirdagi misolda `choy = True` (choy oldi) va `salat = False` (salat olmadi) bo'lgani uchun yakuniy narx `narx+5000=20000` chiqdi.\n",
        "Boolean o'zgaruvchilarni saqlashda `TRUE` va `FALSE` qiymatlari o'rniga `1` va `0` sonlarini ham ishlatish mumkin.\n",
        "\n",
        "# SHARTLARNI KETMA-KET TEKSHIRISH\n",
        "\n",
        "`if-elif-else` zanjirining kamchiligidan biri, shartlardan biri bajarilishi bilan, qolgan shartlar tekshirilmaydi. Shung uchun ba'zida shartlarni ketma ket tekshirish uchun, har bir shartni alohida if bilan ajratish talab qilinishi mumkin.\n",
        "\n",
        "Yuqoridagi misolni kengaytiraylik:"
      ]
    },
    {
      "cell_type": "code",
      "execution_count": null,
      "metadata": {
        "id": "42-moc-7190Q",
        "outputId": "e4f7b6a7-99cb-44ba-a39a-263672ba9c4e"
      },
      "outputs": [
        {
          "name": "stdout",
          "output_type": "stream",
          "text": [
            "Mijoz choy oldi.\n",
            "Mijoz non oldi.\n",
            "Mijoz kompot oldi.\n",
            "Jami 25000 so'm\n"
          ]
        }
      ],
      "source": [
        "narh = 15000 # mijoz 15 so'mga ovqat oldi\n",
        "choy = True\n",
        "salat = False\n",
        "non = True\n",
        "kompot = True\n",
        "assorti = False\n",
        "#Quyidagi har bir shart alohida tekshiriladi va bir-biriga bog'liq emas\n",
        "if choy:   # agar choy olsa\n",
        "    print(\"Mijoz choy oldi.\")\n",
        "    narh = narh + 3000\n",
        "if salat:  # agar salat olsa\n",
        "    print(\"Mijoz salat oldi.\")\n",
        "    narh = narh + 5000\n",
        "if non:    # agar non olsa\n",
        "    print(\"Mijoz non oldi.\")\n",
        "    narh = narh + 2000\n",
        "if kompot: # agar kompot olsa\n",
        "    print(\"Mijoz kompot oldi.\")\n",
        "    narh = narh + 5000\n",
        "if assorti: # agar assorti olsa\n",
        "    print(\"Mijoz assorti oldi.\")\n",
        "    narh = narh + 15000\n",
        "\n",
        "print(f\"Jami {narh} so'm\")"
      ]
    },
    {
      "cell_type": "markdown",
      "metadata": {
        "id": "9sASyrqq190Q"
      },
      "source": [
        "Yuqoridagi dasturda har bir `if` alohida tekshiriladi va avvalgi yoki keyingi `if` ga bog'liq emas.\n",
        "\n",
        "# RO'YXAT TARKIBINI TEKSHIRISH\n",
        "\n",
        "## in OPERATORI\n",
        "\n",
        "`in` operatori yordamida biz ro'yxatning tarkibida ma'lum bir element borligini tekshirishimiz mumkin."
      ]
    },
    {
      "cell_type": "code",
      "execution_count": null,
      "metadata": {
        "id": "9p1-VJf_190Q",
        "outputId": "7feae405-05e6-4971-f44b-6e2c60e73395"
      },
      "outputs": [
        {
          "data": {
            "text/plain": [
              "False"
            ]
          },
          "execution_count": 15,
          "metadata": {},
          "output_type": "execute_result"
        }
      ],
      "source": [
        "menu = ['osh','qazonkabob','shashlik','norin','somsa']\n",
        "'manti' in menu # menu da manti bormi?"
      ]
    },
    {
      "cell_type": "code",
      "execution_count": null,
      "metadata": {
        "id": "G_xaNRKS190Q",
        "outputId": "17132ef1-3353-485f-d6f6-4c79cf466d08"
      },
      "outputs": [
        {
          "data": {
            "text/plain": [
              "True"
            ]
          },
          "execution_count": 16,
          "metadata": {},
          "output_type": "execute_result"
        }
      ],
      "source": [
        "menu = ['osh','qazonkabob','shashlik','norin','somsa']\n",
        "'osh' in menu # menu da osh bormi?"
      ]
    },
    {
      "cell_type": "code",
      "execution_count": null,
      "metadata": {
        "id": "s5j_65b4190Q",
        "outputId": "b6f76f83-9cb0-47eb-f094-4cf9bff81701"
      },
      "outputs": [
        {
          "name": "stdout",
          "output_type": "stream",
          "text": [
            "Nima ovqat yeysiz?>>>manti\n",
            "Afsuski bizda bunday ovqat yo'q\n"
          ]
        }
      ],
      "source": [
        "menu = ['osh','qazonkabob','shashlik','norin','somsa']\n",
        "ovqat = input('Nima ovqat yeysiz?>>>')\n",
        "if ovqat.lower() in menu:\n",
        "    print('Buyurtma qabul qilindi.')\n",
        "else:\n",
        "    print('Afsuski bizda bunday ovqat yo\\'q')"
      ]
    },
    {
      "cell_type": "markdown",
      "metadata": {
        "id": "Nbdbkhyu190R"
      },
      "source": [
        "## `not in` OPERATORI\n",
        "\n",
        "`not in` operatori yordamida esa biror element ro'yxatda yo'qligini tekshirishimiz mumkin."
      ]
    },
    {
      "cell_type": "code",
      "execution_count": null,
      "metadata": {
        "id": "pySBPd7J190R",
        "outputId": "d6033545-ff5b-4282-b7a9-3c2977fe97ab"
      },
      "outputs": [
        {
          "data": {
            "text/plain": [
              "True"
            ]
          },
          "execution_count": 18,
          "metadata": {},
          "output_type": "execute_result"
        }
      ],
      "source": [
        "menu = ['osh','qazonkabob','shashlik','norin','somsa']\n",
        "'manti' not in menu # menu da manti yo'qmi?"
      ]
    },
    {
      "cell_type": "code",
      "execution_count": null,
      "metadata": {
        "id": "3uAwnQZU190R",
        "outputId": "7e5b9167-fc30-49ef-97d5-5aa131656971"
      },
      "outputs": [
        {
          "data": {
            "text/plain": [
              "False"
            ]
          },
          "execution_count": 19,
          "metadata": {},
          "output_type": "execute_result"
        }
      ],
      "source": [
        "menu = ['osh','qazonkabob','shashlik','norin','somsa']\n",
        "'osh' not in menu # menu da osh yo'qmi?"
      ]
    },
    {
      "cell_type": "code",
      "execution_count": null,
      "metadata": {
        "id": "R_H20rFx190R",
        "outputId": "34083bc1-477a-43ad-c9bd-1d3c11e37dc3"
      },
      "outputs": [
        {
          "name": "stdout",
          "output_type": "stream",
          "text": [
            "Nima ovqat yeysiz?>>>lag'mon\n",
            "Afsuski bizda bunday ovqat yo'q\n"
          ]
        }
      ],
      "source": [
        "menu = ['osh','qazonkabob','shashlik','norin','somsa']\n",
        "ovqat = input('Nima ovqat yeysiz?>>>')\n",
        "if ovqat.lower() not in menu:\n",
        "    print('Afsuski bizda bunday ovqat yo\\'q')\n",
        "else:\n",
        "    print('Buyurtma qabul qilindi.')"
      ]
    },
    {
      "cell_type": "markdown",
      "metadata": {
        "id": "Ln4KVjur190S"
      },
      "source": [
        "> `not` operatorini boshqa shartlarning oldidan ham qo'yishimiz mumkin. Misol uchun: `if not a==5` ifodasi `if a!=5` ifodasi bilan bir hil natija qaytaradi."
      ]
    },
    {
      "cell_type": "markdown",
      "metadata": {
        "id": "fDjpTdYo190S"
      },
      "source": [
        "## IKKI RO'YXATNI SOLISHTIRISH\n",
        "\n",
        "Ikki ro'yxatning tarkibi quyidagicha tekshiriladi:"
      ]
    },
    {
      "cell_type": "code",
      "execution_count": null,
      "metadata": {
        "id": "T27fP2Vm190S",
        "outputId": "fac24b9b-1a0e-4001-9e79-cb1340e3bf71"
      },
      "outputs": [
        {
          "name": "stdout",
          "output_type": "stream",
          "text": [
            "Menuda osh bor\n",
            "Menuda somsa bor\n",
            "Kechirasiz, menuda manti yo'q\n",
            "Menuda shashlik bor\n"
          ]
        }
      ],
      "source": [
        "menu = ['osh','qazonkabob','shashlik','norin','somsa']\n",
        "buyurtmalar = [\"osh\",\"somsa\",\"manti\", \"shashlik\"]\n",
        "\n",
        "for taom in buyurtmalar:\n",
        "    if taom in menu:\n",
        "        print(f\"Menuda {taom} bor\")\n",
        "    else:\n",
        "        print(f\"Kechirasiz, menuda {taom} yo'q\")"
      ]
    },
    {
      "cell_type": "markdown",
      "metadata": {
        "id": "O_bI1sm_190S"
      },
      "source": [
        "## RO'YXAT BO'SH EMASLIGINI TEKSHIRISH\n",
        "\n",
        "Yuqoridagi dasturimizda biz foydalanuvchi buyurtma berdi deb tasavvur qilyapmiz. Lekin foydalanuvchidan bo'sh ro'yxat kelsachi? Demak for tsiklini bajarishdan avval ro'yxat bo'sh emasligiga amin bo'lishimiz kerak. Buning uchun avvalgi kodimizni quyidagicha o'zgartiramiz:"
      ]
    },
    {
      "cell_type": "code",
      "execution_count": null,
      "metadata": {
        "id": "CsG9KZkX190f",
        "outputId": "5d6a9c05-862c-4b95-9de2-ecfd7f2c6b6a"
      },
      "outputs": [
        {
          "name": "stdout",
          "output_type": "stream",
          "text": [
            "Menuda osh bor\n",
            "Menuda somsa bor\n",
            "Kechirasiz, menuda manti yo'q\n",
            "Menuda shashlik bor\n"
          ]
        }
      ],
      "source": [
        "menu = ['osh','qazonkabob','shashlik','norin','somsa']\n",
        "buyurtmalar = [\"osh\",\"somsa\",\"manti\", \"shashlik\"]\n",
        "\n",
        "if buyurtmalar: # ro'yxatda biror element bo'lsa bu ifoda TRUE qaytaradi\n",
        "    for taom in buyurtmalar:\n",
        "        if taom in menu:\n",
        "            print(f\"Menuda {taom} bor\")\n",
        "        else:\n",
        "            print(f\"Kechirasiz, menuda {taom} yo'q\")\n",
        "else: # agar ro'yxat bo'sh bo'lsa\n",
        "    print(\"Savatchangiz bo'sh!\")"
      ]
    },
    {
      "cell_type": "markdown",
      "metadata": {
        "id": "gXc_nET7190f"
      },
      "source": [
        "Demak `if royxat_nomi:` ifodasi agar ro'yxatda bir dona element bo'lsa ham `TRUE` qiymat qaytaradi, aks holda `FALSE` qiymatini qaytaradi."
      ]
    },
    {
      "cell_type": "markdown",
      "metadata": {
        "id": "I_g5FJ44190f"
      },
      "source": [
        "# AMALIYOT\n",
        "\n",
        "### Quyidagi dasturlarni alohida fayllarga yozing va bajaring:\n",
        "\n",
        "- Foydalanuvchidan juft son kiritishni so'rang. Agar foydalanuvchi juft son kiritsa \"Rahmat!\", agar toq son kiritsa \"Bu son juft emas\" degan xabarni chiqaring.\n",
        "\n",
        "- Foydalanuvchi yoshini so'rang, va muzeyga kirish uchun chipta narhini quyidagicha chiqaring:\n",
        "    + Agar foydalanuvchi 4 yoshdan kichkina yoki 60 dan katta bo'lsa bepul\n",
        "    + Agar foydalanuvchi 18 dan kichik bo'lsa 10000 so'm\n",
        "    + Agar foydalanuvchi 18 dan katta bo'lsa 20000 so'm\n",
        "\n",
        "- Foydalanuvchidan ikita son kiritishni so'rang, sonlarni solishtiring va ularning teng yoki katta/kichikligi haqida xabarni chiqaring\n",
        "\n",
        "- `mahsulotlar` degan ro'yxat yarating va kamida 10 ta turli mahsulotni kiriting. Yangi, `savat` degan bo'sh ro'yxat yarating va foydalanuvchidan savatga kamida 5 ta mahsulot kiritishni so'rang. Savatdagi elementlarni, `mahsulotlar` ro'yxati bilan solishtiring va qaysi biri ro'yxatda bo'lsa `\"Mahsulot do'konimizda bor\"` aks holda, `\"Mahsulot do'konimizda yo'q\"` degan xabarlarni chiqaring.\n",
        "\n",
        "- Yuqoridagi dasturni quyidagicha o'zgartiring: foydalanuvchidan 5 ta mahsulot kiritishni so'rang. Foydalanuvchi so'ragan va do'konda bor mahsulotlarni yang, bor_mahsulotlar degan ro'yxatga, do'konda yo'q mahsulotlarni esa mavjud_emas degan ro'yxatga qo'shing.  Agar mavjud_emas ro'yxati bo'sh bo'lsa, \"Siz so'ragan barcha mahsulotlar do'konimizda bor\" degan xabarni, aks holda esa \"Quyidagi mahsulotlar do'konimizda yo'q: .....\" degan xabarni chiqaring.\n",
        "\n",
        "- `foydalanuvchilar` degan ro'yxat tuzing, va kamida 5 ta login qo'shing. Foydalanuvchidan yangi login tanlashni so'rang va foydalanuvchi kiritgan loginni `foydalanuvchilar` degan ro'yxatning tarkibi bilan solishtiring. Agar ro'yxatda bunday login mavjud bo'lsa, `\"Login band, yangi login tanlang!\"` aks holda `\"Xush kelibsiz, foydalanuvchi!\"` xabarini chiqaring.\n",
        "\n",
        "- Foydalanuvchidan biror butun son kiritishni so'rang. Foydalanuvchi kiritgan sonni 2 da 10 gacha bo'lgan sonlardan qay biriga qoldiqsiz bo'linishini konsolga chiqaring."
      ]
    },
    {
      "cell_type": "code",
      "source": [
        "1\n",
        "number = int(input(\"juft son kiriting: \"))\n",
        "if number%2:\n",
        "  print(\"bu son juft emas\")\n",
        "else:\n",
        "  print(\"Rahmat\")\n"
      ],
      "metadata": {
        "id": "P3fzc67g2aZc",
        "outputId": "07f66764-e040-42b4-cc3e-19a86ca05489",
        "colab": {
          "base_uri": "https://localhost:8080/"
        }
      },
      "execution_count": 5,
      "outputs": [
        {
          "output_type": "stream",
          "name": "stdout",
          "text": [
            "juft son kiriting: 3978\n",
            "Rahmat\n"
          ]
        }
      ]
    },
    {
      "cell_type": "code",
      "source": [
        "2\n",
        "yosh = int(input(\"Yoshingiz nechida? \"))\n",
        "if yosh <= 4 or yosh >= 60:\n",
        "  narh = 0\n",
        "elif yosh <= 18:\n",
        "  narh = 10000\n",
        "else:\n",
        "  narh = 20000\n",
        "print(f\"Chipta narhi {narh} so'm\")"
      ],
      "metadata": {
        "id": "p4zIrrHa5S0M",
        "outputId": "eaa3265e-d97c-4a97-9c93-74e60ce2df4c",
        "colab": {
          "base_uri": "https://localhost:8080/"
        }
      },
      "execution_count": 9,
      "outputs": [
        {
          "output_type": "stream",
          "name": "stdout",
          "text": [
            "Yoshingiz nechida? 12\n",
            "Chipta narhi 10000 so'm\n"
          ]
        }
      ]
    },
    {
      "cell_type": "code",
      "source": [
        "3\n",
        "print(\"2 ta son kiriting\")\n",
        "x = float(input(\"1-sonni kiriting: \"))\n",
        "y = float(input(\"2-sonni kiriting: \"))\n",
        "if x==y:\n",
        "  print(\"1 va 2-sonlar teng\")\n",
        "elif x>=y:\n",
        "  print(\"1-son 2-sondan katta\")\n",
        "else:\n",
        "  print(\"1-son 2-sondan kichik\")"
      ],
      "metadata": {
        "colab": {
          "base_uri": "https://localhost:8080/"
        },
        "id": "f5tUynh06VTJ",
        "outputId": "097a2ebd-a7c4-46b4-ea49-f3b6dcc13e30"
      },
      "execution_count": 13,
      "outputs": [
        {
          "output_type": "stream",
          "name": "stdout",
          "text": [
            "2 ta son kiriting\n",
            "1-sonni kiriting: 9\n",
            "2-sonni kiriting: 3\n",
            "1-son 2-sondan katta\n"
          ]
        }
      ]
    },
    {
      "cell_type": "code",
      "source": [
        "4-5\n",
        "mahsulotlar = [\"non\", \"asal\", \"olma\", \"pomidor\", \"go'sht\", \"karam\", \"banan\", \"piyoz\", \"kartoshka\", \"loviya\"]\n",
        "print(\"sotib olmoqchi bo'lgan kamida 5ta mahsulot kiriting \")\n",
        "savat = []\n",
        "bor_mahsulotlar = []\n",
        "yoq_mahsulotlar = []\n",
        "for n in range(5):\n",
        "  savat.append(input(f\"{n+1}- mahsulotni kiriting \"))\n",
        "for p in savat:\n",
        "  if p.lower() in mahsulotlar:\n",
        "    bor_mahsulotlar.append(p)\n",
        "    print(f\"{p} do'konimizda bor \")\n",
        "  else:\n",
        "    yoq_mahsulotlar.append(p)\n",
        "    print(f\"{p} do'konimizda yo'q\")\n",
        "if yoq_mahsulotlar:\n",
        "  print(f\"quyidagi mahsulotlar do'konimizda yo'q: {yoq_mahsulotlar}\")\n",
        "else:\n",
        "  print(\"Siz so'ragan barcha mahsulotlar do'konimizda bor!\")\n"
      ],
      "metadata": {
        "id": "3NcXRHbx5NhG",
        "outputId": "b1c6a6fb-82bf-40ae-8b27-1df8be102730",
        "colab": {
          "base_uri": "https://localhost:8080/"
        }
      },
      "execution_count": 6,
      "outputs": [
        {
          "output_type": "stream",
          "name": "stdout",
          "text": [
            "sotib olmoqchi bo'lgan kamida 5ta mahsulot kiriting \n",
            "1- mahsulotni kiriting non\n",
            "2- mahsulotni kiriting asal\n",
            "3- mahsulotni kiriting olma\n",
            "4- mahsulotni kiriting banan\n",
            "5- mahsulotni kiriting kartoshka\n",
            "non do'konimizda bor \n",
            "asal do'konimizda bor \n",
            "olma do'konimizda bor \n",
            "banan do'konimizda bor \n",
            "kartoshka do'konimizda bor \n",
            "Siz so'ragan barcha mahsulotlar do'konimizda bor!\n"
          ]
        }
      ]
    },
    {
      "cell_type": "code",
      "source": [
        "7\n",
        "son = int(input(\"Birorta son kiriting: \"))\n",
        "qoldiqsiz_boluvchilar = []\n",
        "for n in range(2,11,1):\n",
        "  if not son%n:\n",
        "    qoldiqsiz_boluvchilar.append(n)\n",
        "if qoldiqsiz_boluvchilar:\n",
        "  print(f\"Siz kiritgan son quyidagi sonlarga qoldiqsiz bo'linadi {qoldiqsiz_boluvchilar} \")\n"
      ],
      "metadata": {
        "id": "uCuuLTmWqddh",
        "outputId": "7b90ffcc-0be2-492c-b090-e93198603d87",
        "colab": {
          "base_uri": "https://localhost:8080/"
        }
      },
      "execution_count": 11,
      "outputs": [
        {
          "output_type": "stream",
          "name": "stdout",
          "text": [
            "Birorta son kiriting: 6783\n",
            "Siz kiritgan son quyidagi sonlarga qoldiqsiz bo'linadi [3, 7] \n"
          ]
        }
      ]
    },
    {
      "cell_type": "markdown",
      "metadata": {
        "id": "ndOcXZq7190g"
      },
      "source": [
        "# JAVOBLAR"
      ]
    },
    {
      "cell_type": "code",
      "execution_count": null,
      "metadata": {
        "id": "A_61VGKx190g",
        "outputId": "0ce6b4fd-aa5f-4540-899f-3eb8dcc6f806"
      },
      "outputs": [
        {
          "name": "stdout",
          "output_type": "stream",
          "text": [
            "Juft son kiriting: 4\n",
            "Rahmat!\n"
          ]
        }
      ],
      "source": [
        "son = float(input(\"Juft son kiriting: \"))\n",
        "if son%2:\n",
        "    print('Bu son juft emas.')\n",
        "else:\n",
        "    print(\"Rahmat!\")"
      ]
    },
    {
      "cell_type": "code",
      "execution_count": null,
      "metadata": {
        "id": "ZrBKblct190g",
        "outputId": "0ca27bd1-2f0c-4ad7-a0f6-68fa4c2103bc"
      },
      "outputs": [
        {
          "name": "stdout",
          "output_type": "stream",
          "text": [
            "Yoshingiz nechida?15\n",
            "Chipta 10000 so'm\n"
          ]
        }
      ],
      "source": [
        "yosh = int(input(\"Yoshingiz nechida?\"))\n",
        "\n",
        "if yosh<=4 or yosh>=60:\n",
        "    narh = 0;\n",
        "elif yosh < 18:\n",
        "    narh = 10000\n",
        "else:\n",
        "    narh = 20000\n",
        "print(f\"Chipta {narh} so'm\")"
      ]
    },
    {
      "cell_type": "code",
      "execution_count": null,
      "metadata": {
        "id": "a81_m5lK190g",
        "outputId": "04e810b4-5a4e-4a1d-8a05-77ef66162c8f"
      },
      "outputs": [
        {
          "name": "stdout",
          "output_type": "stream",
          "text": [
            "Birinchi sonni kiriting: 12\n",
            "Ikkinchi sonni kiriting: 23\n",
            "12.0<23.0\n"
          ]
        }
      ],
      "source": [
        "x = float(input(\"Birinchi sonni kiriting: \"))\n",
        "y = float(input(\"Ikkinchi sonni kiriting: \"))\n",
        "if x==y:\n",
        "    print(f\"{x}={y}\")\n",
        "elif x<y:\n",
        "    print(f\"{x}<{y}\")\n",
        "else:\n",
        "    print(f\"{x}>{y}\")"
      ]
    },
    {
      "cell_type": "code",
      "execution_count": null,
      "metadata": {
        "id": "TQ1kBdfx190h",
        "outputId": "ad003c22-2a6d-42d4-e15c-1736096c462f"
      },
      "outputs": [
        {
          "name": "stdout",
          "output_type": "stream",
          "text": [
            "Savatga 1-mahsulotni qo'shing: olma\n",
            "Savatga 2-mahsulotni qo'shing: anor\n",
            "Savatga 3-mahsulotni qo'shing: un\n",
            "Savatga 4-mahsulotni qo'shing: uzum\n",
            "Savatga 5-mahsulotni qo'shing: qovun\n",
            "Do'konimizda olma bor\n",
            "Do'konimizda anor yo'q\n",
            "Do'konimizda un bor\n",
            "Do'konimizda uzum bor\n",
            "Do'konimizda qovun bor\n"
          ]
        }
      ],
      "source": [
        "mahsulotlar = ['un', \"yog'\", \"sovun\", 'tuxum', 'piyoz',\n",
        "               'kartoshka', 'olma', 'banan', 'uzum', 'qovun']\n",
        "\n",
        "\n",
        "savat = []\n",
        "for n in range(5):\n",
        "    savat.append(input(f\"Savatga {n+1}-mahsulotni qo'shing: \"))\n",
        "\n",
        "\n",
        "for mahsulot in savat:\n",
        "    if mahsulot in mahsulotlar:\n",
        "        print(f\"Do'konimizda {mahsulot} bor\")\n",
        "    else:\n",
        "        print(f\"Do'konimizda {mahsulot} yo'q\")"
      ]
    },
    {
      "cell_type": "code",
      "execution_count": null,
      "metadata": {
        "id": "nA-fA7Tb190h",
        "outputId": "d1364025-fd71-4ad4-a637-359a223774ea"
      },
      "outputs": [
        {
          "name": "stdout",
          "output_type": "stream",
          "text": [
            "Savatga 1-mahsulotni qo'shing: olma\n",
            "Savatga 2-mahsulotni qo'shing: anjir\n",
            "Savatga 3-mahsulotni qo'shing: uzum\n",
            "Savatga 4-mahsulotni qo'shing: qovun\n",
            "Savatga 5-mahsulotni qo'shing: un\n",
            "Do'konimizda quyidagi mahsulotlar yo'q:\n",
            "anjir\n"
          ]
        }
      ],
      "source": [
        "mahsulotlar = ['un', \"yog'\", \"sovun\", 'tuxum', 'piyoz',\n",
        "               'kartoshka', 'olma', 'banan', 'uzum', 'qovun']\n",
        "\n",
        "\n",
        "savat = []\n",
        "for n in range(5):\n",
        "    savat.append(input(f\"Savatga {n+1}-mahsulotni qo'shing: \"))\n",
        "\n",
        "bor_mahsulotlar = []\n",
        "mavjud_emas = []\n",
        "for mahsulot in savat:\n",
        "    if mahsulot in mahsulotlar:\n",
        "        bor_mahsulotlar.append(mahsulot)\n",
        "    else:\n",
        "        mavjud_emas.append(mahsulot)\n",
        "\n",
        "if mavjud_emas:\n",
        "  print(f\"Do'konimizda quyidagi mahsulotlar yo'q:\")\n",
        "  for mahsulot in mavjud_emas:\n",
        "    print(mahsulot)\n",
        "else:\n",
        "  print(\"Siz so'ragan barcha mahsulotlar do'konimizda bor\")\n",
        ""
      ]
    },
    {
      "cell_type": "code",
      "execution_count": null,
      "metadata": {
        "id": "yZIjgrdS190h",
        "outputId": "afa33529-5f91-46a8-96c7-62799ccf5915"
      },
      "outputs": [
        {
          "name": "stdout",
          "output_type": "stream",
          "text": [
            "Yangi login tanlang: anvar\n",
            "Xush kelibsiz, Anvar!\n"
          ]
        }
      ],
      "source": [
        "users = ['alisher','aziza','yasina','umar']\n",
        "\n",
        "login = input(\"Yangi login tanlang: \")\n",
        "\n",
        "if login.lower() in users:\n",
        "    print('Login band, yangi login tanlang!')\n",
        "else:\n",
        "    print(f\"Xush kelibsiz, {login.title()}!\")"
      ]
    },
    {
      "cell_type": "code",
      "execution_count": null,
      "metadata": {
        "id": "ViE1RTw7190h",
        "outputId": "1e89c3f0-8755-4410-a534-874305781b21"
      },
      "outputs": [
        {
          "name": "stdout",
          "output_type": "stream",
          "text": [
            "Istalgan butun son kiriting: 45\n",
            "45 soni 3 ga qoldiqsiz bo'linadi\n",
            "45 soni 5 ga qoldiqsiz bo'linadi\n",
            "45 soni 9 ga qoldiqsiz bo'linadi\n"
          ]
        }
      ],
      "source": [
        "son = int(input(\"Istalgan butun son kiriting: \"))\n",
        "\n",
        "for n in range(2,11):\n",
        "    if not (son%n):\n",
        "        print(f\"{son} soni {n} ga qoldiqsiz bo'linadi\")"
      ]
    }
  ],
  "metadata": {
    "language_info": {
      "name": "python"
    },
    "colab": {
      "provenance": []
    },
    "kernelspec": {
      "name": "python3",
      "display_name": "Python 3"
    }
  },
  "nbformat": 4,
  "nbformat_minor": 0
}