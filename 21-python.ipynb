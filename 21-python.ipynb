{
  "cells": [
    {
      "cell_type": "markdown",
      "metadata": {
        "id": "6Er5LPd_CGWT"
      },
      "source": [
        "# 21-DARS. FUNKSIYA VA RO'YXAT\n",
        "\n",
        "Funksiyaga ro'yxat uzatishni o'rganamiz\n",
        "\n",
        "![](https://gblobscdn.gitbook.com/assets%2F-MGbkqs1tROquIT6oqUs%2F-Mc-5yGQPZTBaGoehQdL%2F-Mc-7xpq4Puu3KEjmT0R%2FSD_YT_TG_logo_mini.png?alt=media&token=929fe67b-ec12-4f63-b33e-e9c5e3d8ad09)\n",
        "\n",
        "# FUNKSIYAGA RO'YXAT UZATISH\n",
        "Biz avvalgi darslarimizda funksiyaga parametr sifatida yagona qiymat berayotgan edik. Aslida, bu bilan cheklanmasdan, funksiyaga ro'yxat (list) ham berishimiz mumkin. Bunda, funksiya ro'yxat qiymatlariga to'g'ridan-to'g'ri murojat qila oladi.\n",
        "\n",
        "Keling talabalarni baholaydigan funksiya yozamiz. Funksiyamiz talabalar ro'yxatini qabul qilib oladi, ro'yxatdan har bir talabani sug'urib olib (`.pop()`), bahosini kiritishni so'raydi. Talaba ismi va bahosini lug'atga joylab, yakuniy lug'atni foydalanuvchiga qaytaradi."
      ]
    },
    {
      "cell_type": "code",
      "execution_count": null,
      "metadata": {
        "id": "JHubVJ12CGWc",
        "outputId": "f3a3bda8-e912-44c8-8e6d-e238a410a02d"
      },
      "outputs": [
        {
          "name": "stdout",
          "output_type": "stream",
          "text": [
            "Talaba Husanning bahosini kiriting: 5\n",
            "Talaba Hasanning bahosini kiriting: 2\n",
            "Talaba Valining bahosini kiriting: 4\n",
            "Talaba Alining bahosini kiriting: 5\n",
            "{'husan': '5', 'hasan': '2', 'vali': '4', 'ali': '5'}\n"
          ]
        }
      ],
      "source": [
        "def bahola(ismlar):\n",
        "    baholar = {}\n",
        "    while ismlar:\n",
        "        ism = ismlar.pop()\n",
        "        baho = input(f\"Talaba {ism.title()}ning bahosini kiriting: \")\n",
        "        baholar[ism]=baho\n",
        "    return baholar\n",
        "\n",
        "talabalar = ['ali', 'vali', 'hasan', 'husan']\n",
        "baholar = bahola(talabalar)\n",
        "print(baholar)"
      ]
    },
    {
      "cell_type": "markdown",
      "metadata": {
        "id": "wkHXYSoECGWh"
      },
      "source": [
        "# RO'YXATGA O'ZGARTIRISH KIRITISH\n",
        "Funksiyaga ro'yxat uzatganimizda, funksiya ro'yxat elementlariga to'g'ridan-to'g'ri murojat qila oladi. Ro'yxatga funksiya ichida kiritilgan o'zgartirishlar asl ro'yxatga ham ta'sir qiladi. Avvalgi misolimizga qaytaylik:"
      ]
    },
    {
      "cell_type": "code",
      "execution_count": null,
      "metadata": {
        "id": "Vuydd5O7CGWi",
        "outputId": "12c78d7b-6dc8-4569-a355-063e969e3a2b"
      },
      "outputs": [
        {
          "name": "stdout",
          "output_type": "stream",
          "text": [
            "Talaba Husanning bahosini kiriting: 5\n",
            "Talaba Hasanning bahosini kiriting: 3\n",
            "Talaba Valining bahosini kiriting: 4\n",
            "Talaba Alining bahosini kiriting: 4\n",
            "[]\n"
          ]
        }
      ],
      "source": [
        "talabalar = ['ali', 'vali', 'hasan', 'husan']\n",
        "baholar = bahola(talabalar)\n",
        "print(talabalar)"
      ]
    },
    {
      "cell_type": "markdown",
      "metadata": {
        "id": "Gnv4k9PiCGWk"
      },
      "source": [
        "Yuqoridagi funksiya unga uzatilgan ro'yxat ichidagi talabalarning ismini `.pop()` yordamida sug'urib olgani uchun bizning asl ro'yxatimiz ham bo'shab qoldi. E'tibor bering, funksiya tashqarisidagi va ichidagi ro'yxatlar ikki hil nomlangan bo'lsada (`talabalar` va `ismlar`), ikkalasi ham xotiradagi bitta ro'yxatga bog'langani sabab ulardan biriga o'zgartirish kiritilishi bilan, ikkinchisi ham o'zgaradi.\n",
        "\n"
      ]
    },
    {
      "cell_type": "markdown",
      "metadata": {
        "id": "36zBLPVjCGWl"
      },
      "source": [
        "![](https://gblobscdn.gitbook.com/assets%2F-MGbkqs1tROquIT6oqUs%2F-MP8EGli8doB3A3zBciJ%2F-MP8WrcRbEHkTZzbTVxR%2Fimage.png?alt=media&token=3087463f-98b5-4c1f-b011-af040317ab9f)"
      ]
    },
    {
      "cell_type": "markdown",
      "metadata": {
        "id": "b46uHR8_CGWm"
      },
      "source": [
        "# ASL RO'YXATGA O'ZGARTIRISH KIRITISHNING OLDINI OLISH\n",
        "Agar funksiya asl ro'yxatga o'zgartirish kiritishini istamasangiz, funksiyaga ro'yxatning o'zini emas, uning nusxasini uzatish mumkin. Buning uchun funksiya parametrini `royxat_nomi[:]` ko'rinishida yozish kifoya. Bunda `[:]` operatori ro'yxatdan nusxa olishni bildiradi:"
      ]
    },
    {
      "cell_type": "code",
      "execution_count": null,
      "metadata": {
        "id": "3_Wu68hFCGWn",
        "outputId": "2c1394b6-7455-4e5d-d359-457f6fafb25a"
      },
      "outputs": [
        {
          "name": "stdout",
          "output_type": "stream",
          "text": [
            "Talaba Husanning bahosini kiriting: 5\n",
            "Talaba Hasanning bahosini kiriting: 3\n",
            "Talaba Valining bahosini kiriting: 4\n",
            "Talaba Alining bahosini kiriting: 3\n",
            "['ali', 'vali', 'hasan', 'husan']\n"
          ]
        }
      ],
      "source": [
        "talabalar = ['ali', 'vali', 'hasan', 'husan']\n",
        "baholar = bahola(talabalar[:])\n",
        "print(talabalar)"
      ]
    },
    {
      "cell_type": "code",
      "source": [
        "mevalar = [\"olma\", \"banan\", \"nok\", 'malina', \"olcha\", 'tut']\n",
        "def title(listt):\n",
        "  titled = []\n",
        "  for n in listt:\n",
        "    titled.append(n.title())\n",
        "\n",
        "  return titled\n",
        "\n",
        "title(mevalar [:])"
      ],
      "metadata": {
        "id": "4meLENr1MYRq",
        "outputId": "115b9a10-75d3-47b6-8bd1-8d0ba4dc16c9",
        "colab": {
          "base_uri": "https://localhost:8080/"
        }
      },
      "execution_count": 17,
      "outputs": [
        {
          "output_type": "execute_result",
          "data": {
            "text/plain": [
              "['Olma', 'Banan', 'Nok', 'Malina', 'Olcha', 'Tut']"
            ]
          },
          "metadata": {},
          "execution_count": 17
        }
      ]
    },
    {
      "cell_type": "code",
      "source": [
        "students = [\"Abbos\", \"Abror\", \"Sardor\", \"Nodir\", \"Abdumalik\"]\n",
        "def grading(listt):\n",
        "  graded = {}\n",
        "  for s in listt:\n",
        "    graded[s] = int(input(f\"{s}ni baholang\"))\n",
        "  return graded\n",
        "\n",
        "grading(students)"
      ],
      "metadata": {
        "id": "FOP8A9shR8bJ",
        "outputId": "02e1e215-a43c-4509-b064-6181675886aa",
        "colab": {
          "base_uri": "https://localhost:8080/"
        }
      },
      "execution_count": 18,
      "outputs": [
        {
          "name": "stdout",
          "output_type": "stream",
          "text": [
            "Abbosni baholang5\n",
            "Abrorni baholang5\n",
            "Sardorni baholang5\n",
            "Nodirni baholang5\n",
            "Abdumalikni baholang5\n"
          ]
        },
        {
          "output_type": "execute_result",
          "data": {
            "text/plain": [
              "{'Abbos': 5, 'Abror': 5, 'Sardor': 5, 'Nodir': 5, 'Abdumalik': 5}"
            ]
          },
          "metadata": {},
          "execution_count": 18
        }
      ]
    },
    {
      "cell_type": "markdown",
      "metadata": {
        "id": "LPkw5WrRCGWo"
      },
      "source": [
        "# AMALIYOT\n",
        "- Matnlardan iborat ro'yxat qabul qilib, ro'yxatdagi har bir matnning birinchi harfini katta harfga o'zgatiruvchi funksiya yozing."
      ]
    },
    {
      "cell_type": "markdown",
      "metadata": {
        "id": "pvZGfAxTCGWp"
      },
      "source": [
        "- Yuqoridagi funksiyani asl ro'yxatni o'zgartirmaydigan va yangi ro'yxat qaytaradigan qilib o'zgartiring"
      ]
    },
    {
      "cell_type": "markdown",
      "metadata": {
        "id": "IqhLsafqCGWp"
      },
      "source": [
        "- Darsimiz davomida yozgan `bahola` funksiyasini `.pop()` metodidan foydalanmasdan va asl ro'yxatga o'zgartirish kiritmasdan faqat lug'at qaytaradigan qilib yozing.\n",
        "\n",
        "# JAVOBLAR"
      ]
    },
    {
      "cell_type": "code",
      "execution_count": null,
      "metadata": {
        "id": "XFUCkbn9CGWq",
        "outputId": "76bc6e8a-70b7-4f76-e1fc-c9a8d62bb455"
      },
      "outputs": [
        {
          "name": "stdout",
          "output_type": "stream",
          "text": [
            "['Ali', 'Vali', 'Hasan', 'Husan']\n"
          ]
        }
      ],
      "source": [
        "def katta_harf(matnlar):\n",
        "    for i in range(len(matnlar)):\n",
        "        matnlar[i]=matnlar[i].title()\n",
        "\n",
        "ismlar = ['ali', 'vali', 'hasan', 'husan']\n",
        "katta_harf(ismlar)\n",
        "print(ismlar)"
      ]
    },
    {
      "cell_type": "code",
      "execution_count": null,
      "metadata": {
        "id": "n1AdR_irCGWr",
        "outputId": "04924030-9297-4a83-dba8-e79d7ef4c1f9"
      },
      "outputs": [
        {
          "name": "stdout",
          "output_type": "stream",
          "text": [
            "['ali', 'vali', 'hasan', 'husan']\n",
            "['Ali', 'Vali', 'Hasan', 'Husan']\n"
          ]
        }
      ],
      "source": [
        "def katta_harf(matnlar):\n",
        "    matnlar = matnlar[:]\n",
        "    for i in range(len(matnlar)):\n",
        "        matnlar[i]=matnlar[i].title()\n",
        "    return matnlar\n",
        "\n",
        "ismlar = ['ali', 'vali', 'hasan', 'husan']\n",
        "yangi_ismlar = katta_harf(ismlar)\n",
        "print(ismlar)\n",
        "print(yangi_ismlar)"
      ]
    },
    {
      "cell_type": "code",
      "execution_count": null,
      "metadata": {
        "id": "BXsqX7hvCGWs",
        "outputId": "1db98070-427d-495f-8cdc-0327e5969a1b"
      },
      "outputs": [
        {
          "name": "stdout",
          "output_type": "stream",
          "text": [
            "Talaba Alining bahosini kiriting: 5\n",
            "Talaba Valining bahosini kiriting: 2\n",
            "Talaba Hasanning bahosini kiriting: 3\n",
            "Talaba Husanning bahosini kiriting: 4\n",
            "{'ali': '5', 'vali': '2', 'hasan': '3', 'husan': '4'}\n",
            "['ali', 'vali', 'hasan', 'husan']\n"
          ]
        }
      ],
      "source": [
        "talabalar = ['ali', 'vali', 'hasan', 'husan']\n",
        "\n",
        "def bahola(ismlar):\n",
        "    baholar = {}\n",
        "    for ism in ismlar:\n",
        "        baho = input(f\"Talaba {ism.title()}ning bahosini kiriting: \")\n",
        "        baholar[ism]=baho\n",
        "    return baholar\n",
        "\n",
        "baholar = bahola(talabalar)\n",
        "print(baholar)\n",
        "print(talabalar)\n"
      ]
    }
  ],
  "metadata": {
    "language_info": {
      "name": "python"
    },
    "colab": {
      "provenance": []
    },
    "kernelspec": {
      "name": "python3",
      "display_name": "Python 3"
    }
  },
  "nbformat": 4,
  "nbformat_minor": 0
}