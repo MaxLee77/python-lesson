{
  "cells": [
    {
      "cell_type": "markdown",
      "metadata": {
        "id": "tSBcGazhtTXj"
      },
      "source": [
        "# 20-DARS. QIYMAT QAYTARUVCHI FUNKSIYA\n",
        "\n",
        "Funksiyadan qiymat qaytarishni o'rganamiz"
      ]
    },
    {
      "cell_type": "markdown",
      "metadata": {
        "id": "mHV8cMigtTXl"
      },
      "source": [
        "![](https://gblobscdn.gitbook.com/assets%2F-MGbkqs1tROquIT6oqUs%2F-Mc-5yGQPZTBaGoehQdL%2F-Mc-7xpq4Puu3KEjmT0R%2FSD_YT_TG_logo_mini.png?alt=media&token=929fe67b-ec12-4f63-b33e-e9c5e3d8ad09)\n",
        "\n",
        "Avvalgi darsimizda yaratgan barcha funksiyalarimiz konsolga ma'lumot chiqarayotgan edi. Aslida, aksar holatlarda bu g'ayritabiiy. Sababi, dasturchi sifatida biz konsolga chiqqan ma'lumotdan unumli foydalana olmaymiz. Konsoldagi qiymatni o'zgaruvchiga yuklab, undan kelajakda foydalanib ham bo'lmaydi. Mana shunday holatlarda, funksiyadan unumli foydalanish uchun undan biror qiymatni qaytarish maqsadga muvofiq bo'ladi.\n",
        "\n",
        "# FUNKSIYADAN ODDIY QIYMAT QAYTARISH\n",
        "\n",
        "Keling ism va familiya degan parametrlarni olib, `toliq_ism` qaytaradigan sodda funksiya yasaymiz."
      ]
    },
    {
      "cell_type": "code",
      "execution_count": null,
      "metadata": {
        "id": "ClTXvShEtTXm"
      },
      "outputs": [],
      "source": [
        "def toliq_ism_yasa(ism, familiya):\n",
        "    \"\"\"Toliq isma qaytaruvchi funksiya\"\"\"\n",
        "    toliq_ism = f\"{ism} {familiya}\"\n",
        "    return toliq_ism # qiymat qaytarish uchun return operatorini ishlatamiz"
      ]
    },
    {
      "cell_type": "markdown",
      "metadata": {
        "id": "Thr82Yi1tTXn"
      },
      "source": [
        "Yuqoridagi funksiyamizga ahamiyat bersangiz, uning badanida endi `print()` funksiyasi yo'q. Buning o'rniga, funksiyamiz `return` operatori yordamida `toliq_ism` degan o'zgaruvchining qiymatini qaytaradi.\n",
        "\n",
        "Endi funksiyadan to'g'ri foydalanish uchun u qaytargan qiymatni biror o'zgaruvchiga yuklashimiz kerak:"
      ]
    },
    {
      "cell_type": "code",
      "execution_count": null,
      "metadata": {
        "id": "qUtzfQQJtTXn"
      },
      "outputs": [],
      "source": [
        "talaba1 = toliq_ism_yasa('olim','hakimov')"
      ]
    },
    {
      "cell_type": "code",
      "execution_count": null,
      "metadata": {
        "id": "LdgkwI-etTXn"
      },
      "outputs": [],
      "source": [
        "talaba2 = toliq_ism_yasa('hakim','olimov')"
      ]
    },
    {
      "cell_type": "markdown",
      "metadata": {
        "id": "2ZjBoItRtTXn"
      },
      "source": [
        "Yuqoridagi kodlarni bajarganimizda konsolga hech narsa chiqmaydi. `talaba1` va `talaba2` o'zgaruvchilarining qiymatini ko'rish uchun esa `print()` funksiyasidan foydalanamiz."
      ]
    },
    {
      "cell_type": "code",
      "execution_count": null,
      "metadata": {
        "id": "gyYhCZm3tTXo",
        "outputId": "91726174-75a1-4af7-faba-f5088300267f"
      },
      "outputs": [
        {
          "name": "stdout",
          "output_type": "stream",
          "text": [
            "Darsga kelmagan talabalar: olim hakimov va hakim olimov\n"
          ]
        }
      ],
      "source": [
        "print(f\"Darsga kelmagan talabalar: {talaba1} va {talaba2}\")"
      ]
    },
    {
      "cell_type": "markdown",
      "metadata": {
        "id": "d8Yu2wVCtTXo"
      },
      "source": [
        "Demak, qiymat qaytaradigan funksiyaning afzalligi shundaki, biz bu qiymatlardan keyin ham bemalol foydalanishimiz mumkin.\n",
        "\n",
        "> Funksiya ichidagi o'zgaruvchilar **mahalliy** yoki **ichki** o'zgaruvchilar deyiladi (**local variables**). Ichki o'zgaruvchilar faqatgina funksiya ichida mavjud bo'ladi, ularga tashqaridan murojat qilib bo'lmaydi. Shuning uchun ham funksiya o'zgaruvchi emas qiymat qaytaradi.\n",
        "\n",
        "# IXTIYORIY ARGUMENTLAR\n",
        "\n",
        "Avvalgi darsizmida funksiyalarga standart parametr berishni ko'rgan edik. Huddi shu usul bilan, ba'zi argumentlarni ixtiyoriy qilishimiz mumkin. Ya'ni funksiya ishlashi uchun bu agrumentarni kiritish majburiy emas, ixtiyoriy bo'ladi.\n",
        "\n",
        "Keling avvalgi funksiyamizni o'zgartiramiz va unga yana bitta otasiningismi degan paramter qo'shamiz, lekin bu parametr ixtiyoriy bo'ladi. Buning uchun funksiya yaratishda `otasining_ismi=''` deb yozib ketamiz."
      ]
    },
    {
      "cell_type": "code",
      "execution_count": null,
      "metadata": {
        "id": "wfVUzWeUtTXp"
      },
      "outputs": [],
      "source": [
        "def toliq_ism_yasa(ism, familiya, otasining_ismi=''):\n",
        "    \"\"\"Toliq isma qaytaruvchi funksiya\"\"\"\n",
        "    if otasining_ismi: # otasining_ismi mavjudligini tekshiramiz\n",
        "        toliq_ism = f\"{ism} {otasining_ismi} {familiya}\"\n",
        "    else:\n",
        "        toliq_ism = f\"{ism} {familiya}\"\n",
        "    return toliq_ism.title()"
      ]
    },
    {
      "cell_type": "markdown",
      "metadata": {
        "id": "LjLEANvftTXp"
      },
      "source": [
        "Yuqoridagi funksiyani tahlil qiladigan bo'lsak, 3-qatorda biz otasiningismi parametri bo'sh yoki yo'qligini tekshiramiz. Pythonda `if` dan so'ng bo'sh bo'lmagan matn (string) yozsak, bu shart `True` qaytaradi. Demak, bu ixtiyoriy parametr kiritilgani yoki yo'qligiga qarab, funksiyamiz turlicha qiymat qaytaradi."
      ]
    },
    {
      "cell_type": "code",
      "execution_count": null,
      "metadata": {
        "id": "uHVvSgHBtTXp",
        "outputId": "08fcb932-e852-43e3-f1a2-32f3e7452552"
      },
      "outputs": [
        {
          "name": "stdout",
          "output_type": "stream",
          "text": [
            "Darsga kelmagan talabalar: Olim Hakimov va Hakim Abrorovich Olimov\n"
          ]
        }
      ],
      "source": [
        "talaba1 = toliq_ism_yasa('olim','hakimov') #otasining_ismi kiritilmadi\n",
        "talaba2 = toliq_ism_yasa('hakim','olimov','abrorovich')\n",
        "print(f\"Darsga kelmagan talabalar: {talaba1} va {talaba2}\")"
      ]
    },
    {
      "cell_type": "markdown",
      "metadata": {
        "id": "W1Q39mOntTXp"
      },
      "source": [
        "# FUNKSIYADAN LUG'AT QAYTARAMIZ\n",
        "\n",
        "Funksiyadan sodda qiymat emas, ro'yxat, lu'gat va boshqa ma'lumot turlarini ham qaytarishimiz mumkin.  Quyidagi funksiya ham mashina haqidagi ma'lumotlarni jamlab, ularni lug'at ko'rinishida qaytaradi:"
      ]
    },
    {
      "cell_type": "code",
      "execution_count": null,
      "metadata": {
        "id": "EjEQs4FXtTXp"
      },
      "outputs": [],
      "source": [
        "def avto_info(kompaniya, model, rangi, korobka, yili, narhi=None):\n",
        "    avto = {'kompaniya':kompaniya,\n",
        "            'model':model,\n",
        "            'rang':rangi,\n",
        "            'korobka':korobka,\n",
        "            'yil':yili,\n",
        "            'narh':narhi}\n",
        "    return avto"
      ]
    },
    {
      "cell_type": "markdown",
      "metadata": {
        "id": "1S3HCRnztTXq"
      },
      "source": [
        "E'tibor bering, `narhi` nomli parametrga None standart qiymatini berib ketdik. `None` Pythonda *mavjud emas* ma'nosini beradi, va `if` yordamida tekshirganda `False` mantiqiy qiymatini qaytardi.\n",
        "\n",
        "Quyidagi kodni tahlil qilishni sizga vazifa sifatida qoldiramiz:"
      ]
    },
    {
      "cell_type": "code",
      "execution_count": null,
      "metadata": {
        "id": "msKkwPN1tTXq",
        "outputId": "1b2a1315-2dc6-48ff-c059-0777527d4109"
      },
      "outputs": [
        {
          "name": "stdout",
          "output_type": "stream",
          "text": [
            "Onlayn bozordagi mavjud avtomashinalar:\n",
            "Qora Malibu. Narhi: Noma'lum\n",
            "Oq Gentra. Narhi: 15000\n"
          ]
        }
      ],
      "source": [
        "avto1 = avto_info('GM','Malibu','Qora','Avtomat',2018)\n",
        "avto2 = avto_info('GM','Gentra','Oq','Mexanika',2016,15000)\n",
        "avtolar = [avto1, avto2]\n",
        "print('Onlayn bozordagi mavjud avtomashinalar:')\n",
        "for avto in avtolar:\n",
        "    if avto['narh']:\n",
        "        narh = avto['narh']\n",
        "    else:\n",
        "        narh = \"Noma'lum\"\n",
        "    print(f\"{avto['rang']} {avto['model']}. Narhi: {narh}\")"
      ]
    },
    {
      "cell_type": "markdown",
      "metadata": {
        "id": "Gu-6pubWtTXq"
      },
      "source": [
        "# FUNKSIYADAN RO'YXAT QAYTARAMIZ\n",
        "\n",
        "Biz avvalroq `range()` funksiyasi bilan tanishgan edik. Bu funksiya 2 ta son qabul qilib, shu ikki son orali'g'idagi sonlarni qaytaradi. Keling biz `oraliq()` degan yangi funksiya yaratamiz. `range()` dan farqli ravishda, funksiyamiz 2 son oralig'idagi sonlarni ro'yxat ko'rinishida qaytarsin."
      ]
    },
    {
      "cell_type": "code",
      "execution_count": null,
      "metadata": {
        "id": "bymTyYhCtTXq"
      },
      "outputs": [],
      "source": [
        "def oraliq(min,max):\n",
        "    sonlar = [] # bo'sh ro'yxat\n",
        "    while min<max:\n",
        "        sonlar.append(min)\n",
        "        min += 1\n",
        "    return sonlar"
      ]
    },
    {
      "cell_type": "markdown",
      "metadata": {
        "id": "m8HYfMLdtTXq"
      },
      "source": [
        "Funksiyani tekshiramiz:\n"
      ]
    },
    {
      "cell_type": "code",
      "execution_count": null,
      "metadata": {
        "id": "t0hy3-tOtTXq",
        "outputId": "03557d0e-0bb2-487c-98af-c037871e5cdc"
      },
      "outputs": [
        {
          "name": "stdout",
          "output_type": "stream",
          "text": [
            "[0, 1, 2, 3, 4, 5, 6, 7, 8, 9]\n",
            "[10, 11, 12, 13, 14, 15, 16, 17, 18, 19, 20]\n"
          ]
        }
      ],
      "source": [
        "print(oraliq(0,10))\n",
        "print(oraliq(10,21))"
      ]
    },
    {
      "cell_type": "markdown",
      "metadata": {
        "id": "UMRLQfRHtTXq"
      },
      "source": [
        "Yuqoridagi funksiyaga uchinchi, qadam deb nomlangan ixtiyoriy parameterni qo'sha olasizmi?"
      ]
    },
    {
      "cell_type": "markdown",
      "metadata": {
        "id": "NL7rgoK8tTXq"
      },
      "source": [
        "`>>> print(oraliq(0,21,2)) # 0 dan 21 gacha 2 qadam bilan`\n",
        "\n",
        "`[0, 2, 4, 6, 8, 10, 12, 14, 16, 18, 20]`"
      ]
    },
    {
      "cell_type": "markdown",
      "metadata": {
        "id": "FR7Dxfs1tTXr"
      },
      "source": [
        "# FUNKSIYALARNI TSIKLDA ISHLATISH\n",
        "\n",
        "Funksiyalarni takrorlash uchun tsikldan foydalanishimiz mumkin. Quyidagi misolda biz `while` yordamida avvalroq yaratgan `avto_info` funksiyamizni bir necha bor chaqiramiz va salondagi avtolar ro'yxatini shakllantiramiz. Bunda, ro'yxatning har bir elementi `avto_info` funksiyasidan qaytgan lug'at bo'ladi."
      ]
    },
    {
      "cell_type": "code",
      "execution_count": null,
      "metadata": {
        "id": "g_pcFf2itTXr",
        "outputId": "ae523654-23c9-4fdc-cb1f-a1ef33a0f430"
      },
      "outputs": [
        {
          "name": "stdout",
          "output_type": "stream",
          "text": [
            "Saytimizdagi avtolar ro'yxatini shakllantiramiz.\n",
            "\n",
            "Quyidagi ma'lumotlarni kiritingIshlab chiqaruvchi: GM\n",
            "Modeli: Malibu\n",
            "Rangi: Qora\n",
            "Korobka: Avtomat\n",
            "Ishlab chiqarilgan yili: 2020\n",
            "Narhi: 45000\n",
            "Yana avto qo'shasizmi? (yes/no): no\n"
          ]
        }
      ],
      "source": [
        "print(\"Saytimizdagi avtolar ro'yxatini shakllantiramiz.\")\n",
        "avtolar=[] # salondagi avtolar uchun bo'sh ro'yxat\n",
        "while True:\n",
        "    print(\"\\nQuyidagi ma'lumotlarni kiriting\",end='')\n",
        "    kompaniya=input(\"Ishlab chiqaruvchi: \")\n",
        "    model=input(\"Modeli: \")\n",
        "    rangi=input(\"Rangi: \")\n",
        "    korobka=input(\"Korobka: \")\n",
        "    yili=input(\"Ishlab chiqarilgan yili: \")\n",
        "    narhi=input(\"Narhi: \")\n",
        "\n",
        "    #Foydalanuvchi kiritdan ma'lumotlardan avto_info yordamida\n",
        "    #lug'at shakllantirib, har bir lug'atni ro'yxatga qo'shamiz:\n",
        "    avtolar.append(avto_info(kompaniya, model, rangi, korobka, yili, narhi))\n",
        "\n",
        "    # Yana avto qo'shish-qo'shmaslikni so'raymiz\n",
        "    javob = input(\"Yana avto qo'shasizmi? (yes/no): \")\n",
        "    if javob=='no':\n",
        "        break"
      ]
    },
    {
      "cell_type": "markdown",
      "metadata": {
        "id": "wx2iqeTWtTXr"
      },
      "source": [
        "Yuqoridagi funksiyani Pythonda bajarib kor'ing. Ro'yxatga bir necha qiymatlar qo'shing. Natijalarni konsolga chiroyli qilib chiqaring:\n",
        "\n",
        "![](https://gblobscdn.gitbook.com/assets%2F-MGbkqs1tROquIT6oqUs%2F-MOnrlAcYvpKXhN6YKaN%2F-MOoe4xJU0EpNNTpn5Dq%2Fimage.png?alt=media&token=cd599b13-a8db-412c-a0af-eaeda560a79e)"
      ]
    },
    {
      "cell_type": "code",
      "source": [
        "def about_user(name, birth_y, place_b, email, phone):\n",
        "  \"\"\"Function that returns info as a dictionary about user\"\"\"\n",
        "  info_dict = {}\n",
        "  info_dict.update({\"Name\":name, \"Year of birth\":birth_y, \"Birthplace\":place_b, \"e-mail\":email, \"Phone number\":phone, \"Age\":2025-int(birth_y)})\n",
        "  return info_dict\n",
        "\n",
        "about_user(\"Max\", 2001, \"Tashkent\", \"maxleee@gmail.com\", +998012345678)"
      ],
      "metadata": {
        "id": "cl5ZmSxXt0fw",
        "outputId": "8918a8e5-1489-41b2-f0f6-f4f43120ae8a",
        "colab": {
          "base_uri": "https://localhost:8080/"
        }
      },
      "execution_count": 5,
      "outputs": [
        {
          "output_type": "execute_result",
          "data": {
            "text/plain": [
              "{'Name': 'Max',\n",
              " 'Year of birth': 2001,\n",
              " 'Birthplace': 'Tashkent',\n",
              " 'e-mail': 'maxleee@gmail.com',\n",
              " 'Phone number': 998012345678,\n",
              " 'Age': 24}"
            ]
          },
          "metadata": {},
          "execution_count": 5
        }
      ]
    },
    {
      "cell_type": "code",
      "source": [
        "import math\n",
        "pi = math.pi\n",
        "def circle_metric(radius):\n",
        "  r = int(radius)\n",
        "  circle_data = {}\n",
        "  circle_data.update({\"Radius\": r, \"Diametr\": 2*r, \"Perimetr\": 2*pi*r, \"Yuzi\": pi*r**2,})\n",
        "  return circle_data\n",
        "\n",
        "circle_metric(4)"
      ],
      "metadata": {
        "id": "MEb5uT4R0K8n",
        "outputId": "d0b59927-3919-48ea-c228-0ed8c5e82e54",
        "colab": {
          "base_uri": "https://localhost:8080/"
        }
      },
      "execution_count": 9,
      "outputs": [
        {
          "output_type": "execute_result",
          "data": {
            "text/plain": [
              "{'Radius': 4,\n",
              " 'Diametr': 8,\n",
              " 'Perimetr': 25.132741228718345,\n",
              " 'Yuzi': 50.26548245743669}"
            ]
          },
          "metadata": {},
          "execution_count": 9
        }
      ]
    },
    {
      "cell_type": "code",
      "source": [
        "def prime_number(n1, n2):\n",
        "  prime_numbers = []\n",
        "  for n in range(n1, n2+1):\n",
        "    prime = True\n",
        "    if (n==1):\n",
        "      prime = False\n",
        "    elif (n==2):\n",
        "      prime = True\n",
        "    else:\n",
        "      for x in range(2, n):\n",
        "        if (n%x==0):\n",
        "          prime = False\n",
        "    if prime:\n",
        "      prime_numbers.append(n)\n",
        "  return prime_numbers\n",
        "\n",
        "prime_number(1,28)"
      ],
      "metadata": {
        "id": "fxBSnjtUzZoq",
        "outputId": "3a200e4b-bc0a-4d48-f356-1f475649ada6",
        "colab": {
          "base_uri": "https://localhost:8080/"
        }
      },
      "execution_count": 12,
      "outputs": [
        {
          "output_type": "execute_result",
          "data": {
            "text/plain": [
              "[2, 3, 5, 7, 11, 13, 17, 19, 23]"
            ]
          },
          "metadata": {},
          "execution_count": 12
        }
      ]
    },
    {
      "cell_type": "code",
      "source": [
        "def fibonacci(n):\n",
        "  nums = []\n",
        "  for x in range(n):\n",
        "    if x == 1 or x == 0:\n",
        "      nums.append(x)\n",
        "    else:\n",
        "      nums.append(nums[x-1] + nums[x-2])\n",
        "  return nums\n",
        "\n",
        "fibonacci(70)\n",
        ""
      ],
      "metadata": {
        "id": "OFHXpAWEFxUS",
        "outputId": "f922f0f6-0d30-4a32-c409-002d8af2bf33",
        "colab": {
          "base_uri": "https://localhost:8080/"
        }
      },
      "execution_count": 23,
      "outputs": [
        {
          "output_type": "execute_result",
          "data": {
            "text/plain": [
              "[0,\n",
              " 1,\n",
              " 1,\n",
              " 2,\n",
              " 3,\n",
              " 5,\n",
              " 8,\n",
              " 13,\n",
              " 21,\n",
              " 34,\n",
              " 55,\n",
              " 89,\n",
              " 144,\n",
              " 233,\n",
              " 377,\n",
              " 610,\n",
              " 987,\n",
              " 1597,\n",
              " 2584,\n",
              " 4181,\n",
              " 6765,\n",
              " 10946,\n",
              " 17711,\n",
              " 28657,\n",
              " 46368,\n",
              " 75025,\n",
              " 121393,\n",
              " 196418,\n",
              " 317811,\n",
              " 514229,\n",
              " 832040,\n",
              " 1346269,\n",
              " 2178309,\n",
              " 3524578,\n",
              " 5702887,\n",
              " 9227465,\n",
              " 14930352,\n",
              " 24157817,\n",
              " 39088169,\n",
              " 63245986,\n",
              " 102334155,\n",
              " 165580141,\n",
              " 267914296,\n",
              " 433494437,\n",
              " 701408733,\n",
              " 1134903170,\n",
              " 1836311903,\n",
              " 2971215073,\n",
              " 4807526976,\n",
              " 7778742049,\n",
              " 12586269025,\n",
              " 20365011074,\n",
              " 32951280099,\n",
              " 53316291173,\n",
              " 86267571272,\n",
              " 139583862445,\n",
              " 225851433717,\n",
              " 365435296162,\n",
              " 591286729879,\n",
              " 956722026041,\n",
              " 1548008755920,\n",
              " 2504730781961,\n",
              " 4052739537881,\n",
              " 6557470319842,\n",
              " 10610209857723,\n",
              " 17167680177565,\n",
              " 27777890035288,\n",
              " 44945570212853,\n",
              " 72723460248141,\n",
              " 117669030460994]"
            ]
          },
          "metadata": {},
          "execution_count": 23
        }
      ]
    },
    {
      "cell_type": "markdown",
      "metadata": {
        "id": "IMpJbv7-tTXr"
      },
      "source": [
        "# AMALIYOT\n",
        "1. Foydanaluvchidan ismi, familiyasi, tug'ilgan yili, tug'ilgan joyi, email manzili va telefon raqamini qabul qilib, lug'at ko'rinishida qaytaruvchi funksiya yozing. Lug'atda foydalanuvchu yoshi ham bo'lsin. Ba'zi argumentlarni kiritishni ixtiyoriy qiling (masalan, tel.raqam, el.manzil)\n",
        "2. Yuqoridagi funksiyani while yordamida bir necha bor chaqiring, va mijozlar degan ro'yxatni shakllantiring. Ro'yxatdagi mijozlar haqidagi ma'lumotni konsolga chiqaring.\n",
        "3. Uchta son qabul qilib, ulardan eng kattasini qaytaruvchi funksiya yozing\n",
        "4. Foydalanuvchidan aylaning radiusini qabul qilib olib, uning radiusini, diametrini, perimetri va yuzini lug'at ko'rinishida qaytaruvchi funksiya yozing\n",
        "5. Berilgan oraliqdagi [tub sonlar](https://uz.wikipedia.org/wiki/Tub_sonlar_ro%CA%BByxati) ro'yxatini qaytaruvchi funksiya yozing (tub sonlar —faqat birga va o'ziga qoldiqsiz bo'linuvchi, 1 dan katta musbat sonlar)\n",
        "6. Foydalanuvchidan son qabul qilib, shu son miqdoricha [Fibonachchi ketma-ketligidagi](https://medium.com/@qudratxoja.musayev/fibonachchi-sonlari-va-u-haqida-qiziqarli-faktlar-47000a80264d) sonlar ro'yxatni qaytaruvchi funksiya yozing.  **Ta’rif**: Har bir hadi o’zidan oldingi ikkita hadning yig’indisiga teng bo’lgan ketma-ketlik Fibonachchi ketma-ketligi deyiladi. Bunda boshlang’ish had ko’pincha 1 deb olinadi.  `1, 1, 2, 3, 5, 8, 13, 21, 34, 55,...`\n",
        "\n",
        "# JAVOBLAR"
      ]
    },
    {
      "cell_type": "code",
      "execution_count": null,
      "metadata": {
        "id": "V_UkjWSKtTXr",
        "outputId": "f86483df-a6ac-455c-a7fb-76ab447a6b7e"
      },
      "outputs": [
        {
          "name": "stdout",
          "output_type": "stream",
          "text": [
            "Mijoz haqida ma'lumotlarni kiriting.\n",
            "Ismi: odil\n",
            "Familiyasi: olimov\n",
            "Tug'ilgan yili: 1998\n",
            "Tug'ilgan joyi: toshkent\n",
            "Email: olimovo@gmail.com\n",
            "Telefon raqami: 9989122334455\n",
            "Davom etasizmi? (ha/yo'q)ha\n",
            "Ismi: javoxir\n",
            "Familiyasi: jalolov\n",
            "Tug'ilgan yili: 2001\n",
            "Tug'ilgan joyi: samarqanda\n",
            "Email: jjking@mail.ru\n",
            "Telefon raqami: 998903344556\n",
            "Davom etasizmi? (ha/yo'q)yo'q\n",
            "Mijozlar:\n",
            "Odil Olimov,22 yoshda, telefoni: 9989122334455\n",
            "Javoxir Jalolov,19 yoshda, telefoni: 998903344556\n"
          ]
        }
      ],
      "source": [
        "def mijoz_info(ism, familiya, tyil, tjoy, email='',tel=None):\n",
        "    \"\"\"Mijoz haqidagi ma'lumotlarni lug'at ko'rinishida qaytaruvchi funksiya\"\"\"\n",
        "    mijoz = {'ism':ism,\n",
        "             'familiya':familiya,\n",
        "             'tyil':tyil,\n",
        "             'yoshi':2020-tyil,\n",
        "             'tjoy':tjoy,\n",
        "             'email':email,\n",
        "             'telefon':tel}\n",
        "    return mijoz\n",
        "\n",
        "print(\"Mijoz haqida ma'lumotlarni kiriting.\")\n",
        "mijozlar =[]\n",
        "while True:\n",
        "    ism = input(\"Ismi: \")\n",
        "    familiya = input(\"Familiyasi: \")\n",
        "    tyil = int(input(\"Tug'ilgan yili: \"))\n",
        "    tjoy = input(\"Tug'ilgan joyi: \")\n",
        "    email = input(\"Email: \")\n",
        "    telefon = input(\"Telefon raqami: \")\n",
        "    mijozlar.append(mijoz_info(ism, familiya, tyil, tjoy, email, telefon))\n",
        "    javob = input(\"Davom etasizmi? (ha/yo'q)\")\n",
        "    if javob!='ha':\n",
        "        break\n",
        "\n",
        "print(\"Mijozlar:\")\n",
        "for mijoz in mijozlar:\n",
        "    print(f\"{mijoz['ism'].title()} {mijoz['familiya'].title()},\"\n",
        "          f\"{mijoz['yoshi']} yoshda, telefoni: {mijoz['telefon']}\")"
      ]
    },
    {
      "cell_type": "code",
      "execution_count": null,
      "metadata": {
        "id": "CTUMzSWRtTXr",
        "outputId": "1c28aa5c-843e-4cfb-9f56-f05d38e89397"
      },
      "outputs": [
        {
          "data": {
            "text/plain": [
              "20"
            ]
          },
          "execution_count": 16,
          "metadata": {},
          "output_type": "execute_result"
        }
      ],
      "source": [
        "def kattasi(x,y,z):\n",
        "    max = x\n",
        "    if y>=max:\n",
        "        max = y\n",
        "    if z>=max:\n",
        "        max = z\n",
        "    return max\n",
        "\n",
        "kattasi(10,20,-5)"
      ]
    },
    {
      "cell_type": "code",
      "execution_count": null,
      "metadata": {
        "id": "_UOjWZyitTXr",
        "outputId": "5ba372f5-4d4b-4f73-8c3e-79f8e59709bb"
      },
      "outputs": [
        {
          "data": {
            "text/plain": [
              "{'radius': 5, 'diametr': 10, 'perimetr': 31.4159, 'yuza': 78.53975}"
            ]
          },
          "execution_count": 17,
          "metadata": {},
          "output_type": "execute_result"
        }
      ],
      "source": [
        "def aylana_info(radius,pi=3.14159):\n",
        "    aylana = {\"radius\":radius,\n",
        "              \"diametr\":2*radius,\n",
        "              \"perimetr\":2*radius*pi,\n",
        "              \"yuza\":pi*radius**2}\n",
        "    return aylana\n",
        "\n",
        "aylana_info(5)"
      ]
    },
    {
      "cell_type": "code",
      "execution_count": null,
      "metadata": {
        "id": "Rhf2dhgVtTXs",
        "outputId": "aacdd4d3-7d70-4a77-8a9a-d11ad500d1ce"
      },
      "outputs": [
        {
          "data": {
            "text/plain": [
              "[2, 3, 5, 7, 11, 13, 17, 19]"
            ]
          },
          "execution_count": 20,
          "metadata": {},
          "output_type": "execute_result"
        }
      ],
      "source": [
        "def tub_sonlar_top(min,max):\n",
        "    tub_sonlar = []\n",
        "    for n in range(min,max+1):\n",
        "        tub = True\n",
        "        if (n==1):\n",
        "            tub = False\n",
        "        elif(n==2):\n",
        "            tub = True\n",
        "        else:\n",
        "            for x in range(2,n):\n",
        "                if(n%x==0):\n",
        "                    tub = False\n",
        "        if tub:\n",
        "            tub_sonlar.append(n)\n",
        "\n",
        "    return tub_sonlar\n",
        "\n",
        "tub_sonlar_top(1,20)"
      ]
    },
    {
      "cell_type": "code",
      "execution_count": null,
      "metadata": {
        "id": "O9lEKBcytTXs",
        "outputId": "269543e3-a066-4f66-e580-8b8074a896ed"
      },
      "outputs": [
        {
          "name": "stdout",
          "output_type": "stream",
          "text": [
            "[1, 1, 2, 3, 5, 8, 13, 21, 34, 55]\n"
          ]
        }
      ],
      "source": [
        "def fibonacci(n):\n",
        "    sonlar = []\n",
        "    for x in range(n):\n",
        "        if x==0 or x==1:\n",
        "            sonlar.append(1)\n",
        "        else:\n",
        "            sonlar.append(sonlar[x-1]+sonlar[x-2])\n",
        "    return sonlar\n",
        "\n",
        "print(fibonacci(10))"
      ]
    }
  ],
  "metadata": {
    "language_info": {
      "name": "python"
    },
    "colab": {
      "provenance": []
    },
    "kernelspec": {
      "name": "python3",
      "display_name": "Python 3"
    }
  },
  "nbformat": 4,
  "nbformat_minor": 0
}