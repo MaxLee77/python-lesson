{
  "cells": [
    {
      "cell_type": "markdown",
      "metadata": {
        "id": "6_yGiLxzv_eF"
      },
      "source": [
        "# 18-DARS. `WHILE`, RO'YXATLAR VA LUG'ATLAR\n",
        "\n",
        "While tsikli yordamida ro'yxatlar bilan ishlashni o'rganamiz."
      ]
    },
    {
      "cell_type": "markdown",
      "metadata": {
        "id": "qTcOY3Igv_eG"
      },
      "source": [
        "![](https://gblobscdn.gitbook.com/assets%2F-MGbkqs1tROquIT6oqUs%2F-Mc-5yGQPZTBaGoehQdL%2F-Mc-7xpq4Puu3KEjmT0R%2FSD_YT_TG_logo_mini.png?alt=media&token=929fe67b-ec12-4f63-b33e-e9c5e3d8ad09)\n",
        "\n",
        "Ro'yxatlar (lug'atlar) bilan ishlashda while tisklining foydalari juda ko'p. Misol uchun foydalanuvchidan bir nechta ma'lumotlarni qabul qilib olish, ro'yxatdan takrorlanuvchi qiymatlarni o'chirib tashlash yoki bir ro'yxatni ikkinchi ro'yxatga ko'chirishda while tsiklidan foydalanishimiz mumkin.\n",
        "\n",
        "# WHILE YORDAMIDA RO'YXATNI TO'LDIRISH\n",
        "\n",
        "Quyidagi dasturga e'tibor bering, avval ismlar degan bo'sh ro'yxat yaratib oldik. Keyin esa while tsikli yordamida foydalanuvchidan ro'yxatga ism qo'shishni so'raymiz. So'ngra foydalanuvchidan yana ism qo'shmoqchi yoki yo'q ekanin so'raymiz va foydalanuvchining javobiga ko'ra yoki while ni boshiga qaytamiz, yoki tsiklni to'xtatamiz."
      ]
    },
    {
      "cell_type": "code",
      "execution_count": null,
      "metadata": {
        "id": "VojlpRwbv_eG",
        "outputId": "1ea4f2bc-4cef-4c4c-a6e4-3f3caee4d0de"
      },
      "outputs": [
        {
          "name": "stdout",
          "output_type": "stream",
          "text": [
            "Yaqin do'stlaringiz ro'yxatini tuzamiz.\n",
            "1-do'stingiz ismini kiriting:olim\n",
            "Yana ism qo'shasizmi? (ha/yo'q)ha\n",
            "2-do'stingiz ismini kiriting:jonibek\n",
            "Yana ism qo'shasizmi? (ha/yo'q)ha\n",
            "3-do'stingiz ismini kiriting:adham\n",
            "Yana ism qo'shasizmi? (ha/yo'q)yo'q\n"
          ]
        }
      ],
      "source": [
        "ismlar = []\n",
        "\n",
        "print(\"Yaqin do'stlaringiz ro'yxatini tuzamiz.\")\n",
        "n=1 # ismlarni sanash uchun o'zgaruvchi\n",
        "while True:\n",
        "    savol = f\"{n}-do'stingiz ismini kiriting:\"\n",
        "    ism = input(savol)\n",
        "    ismlar.append(ism)\n",
        "    javob = input(\"Yana ism qo'shasizmi? (ha/yo'q)\")\n",
        "    if javob =='ha':\n",
        "        n+=1\n",
        "        continue\n",
        "    else:\n",
        "        break"
      ]
    },
    {
      "cell_type": "code",
      "execution_count": null,
      "metadata": {
        "id": "OqHQCWi2v_eH",
        "outputId": "04f643e4-4427-468f-f177-9b346ba9684d"
      },
      "outputs": [
        {
          "name": "stdout",
          "output_type": "stream",
          "text": [
            "Do'stlaringiz ro'yxati:\n",
            "Olim\n",
            "Jonibek\n",
            "Adham\n"
          ]
        }
      ],
      "source": [
        "print(\"Do'stlaringiz ro'yxati:\")\n",
        "for ism in ismlar:\n",
        "    print(ism.title())"
      ]
    },
    {
      "cell_type": "markdown",
      "metadata": {
        "id": "seKRaeqsv_eI"
      },
      "source": [
        "# WHILE YORDAMIDA LUG'ATNI TO'LDIRISH\n",
        "\n",
        "Yuqoridagi usul bilan lu'gatlarni ham shakllantirishimiz mumkin. Quyidagi kodda `ism` bu kalit, `yosh` esa kalitga mos keluvchi qiymat. `whil`e tsiklining davomiyligi esa `ishora` ning qiymatiga bog'liq."
      ]
    },
    {
      "cell_type": "code",
      "execution_count": null,
      "metadata": {
        "id": "gaI2JjDYv_eI",
        "outputId": "34948318-8b80-4f79-beff-020a656fe06d"
      },
      "outputs": [
        {
          "name": "stdout",
          "output_type": "stream",
          "text": [
            "Do'stlaringiz yoshini saqlaymiz.\n",
            "Do'stingiz ismini kiriting: olim\n",
            "Olimning yoshini kiriting: 25\n",
            "Yana ma'lumot qo'shasizmi? (ha/yo'q)ha\n",
            "Do'stingiz ismini kiriting: adham\n",
            "Adhamning yoshini kiriting: 36\n",
            "Yana ma'lumot qo'shasizmi? (ha/yo'q)yo'q\n",
            "Olim 25 yoshda\n",
            "Adham 36 yoshda\n"
          ]
        }
      ],
      "source": [
        "print(\"Do'stlaringiz yoshini saqlaymiz.\")\n",
        "dostlar = {}\n",
        "ishora = True\n",
        "while ishora:\n",
        "    ism = input(\"Do'stingiz ismini kiriting: \")\n",
        "    yosh = input(f\"{ism.title()}ning yoshini kiriting: \")\n",
        "    dostlar[ism] = int(yosh) # ism kalit, yosh qiymat\n",
        "\n",
        "    javob = input(\"Yana ma'lumot qo'shasizmi? (ha/yo'q)\")\n",
        "    if javob == \"yo'q\":\n",
        "        ishora = False\n",
        "\n",
        "for ism, yosh in dostlar.items():\n",
        "    print(f\"{ism.title()} {yosh} yoshda\")"
      ]
    },
    {
      "cell_type": "markdown",
      "metadata": {
        "id": "2wa-rzjFv_eI"
      },
      "source": [
        "# RO'YXAT ELEMENTLARINI O'CHIRISH\n",
        "\n",
        "Avvalgi darslarimizning birida ro'yxat elementini o'chirish uchun `.remove(qiymat)` metodi bilan tanishgan edik. Esingizda bo'lsa, bu metod ro'yxatdan eng birinchi uchragan qiymatni o'chiradi. Agar ro'yxatimizda ma'lum bir qiymat bir necha bor takrorlangan bo'lsa, ularning barchasini o'chirib tashlash uchun `while` tsiklidan foydalanishmiz mumkin."
      ]
    },
    {
      "cell_type": "code",
      "execution_count": null,
      "metadata": {
        "id": "ORyTA7Fhv_eI",
        "outputId": "d0c31c72-9f4b-46a0-e868-f88a3adfcee9"
      },
      "outputs": [
        {
          "name": "stdout",
          "output_type": "stream",
          "text": [
            "['lacetti', 'toyota', 'audi', 'malibu']\n"
          ]
        }
      ],
      "source": [
        "cars = ['lacetti','nexia','toyota','nexia','audi','malibu','nexia']\n",
        "while 'nexia' in cars: # toki nexia cars ro'yxati ichida ekan...\n",
        "    cars.remove('nexia') # nexia ni ro'yxatdan olib tashla\n",
        "print(cars)"
      ]
    },
    {
      "cell_type": "markdown",
      "metadata": {
        "id": "uYWzxt3Xv_eI"
      },
      "source": [
        "Yuqoridagi tsikl toki `cars` degan ro'yxatda `'nexia'` qiymati tugagunga qadar takrorlanaveradi.\n"
      ]
    },
    {
      "cell_type": "markdown",
      "metadata": {
        "id": "saX3FO1xv_eI"
      },
      "source": [
        "# RO'YXATDAN RO'YXATGA ELEMENT KO'CHIRISH\n",
        "\n",
        "Tasavvur qiling bizda ma'lum bir ro'yxat bor, biz ro'yxatdagi har bir element ustida biror amalni bajarib, uni birinchi ro'yxatdan ikkinchi ro'yxatga ko'chirib olmoqchimiz. Shunday holatlarda `while` tsikli juda qo'l keladi.\n",
        "\n",
        "Quyidagi misolni ko'raylik. Bizda `talabalar` ro'yxati bor. `while` tsikli toki ro'yxatda talabalar bor ekan aylanaveradi. Tsikl ichida biz `.pop()` metodi yordamida talabaning ismini ro'yxatdan sug'urib oldik va foydalanuvchidan talabani baholashni so'radik. Talabaning ismi va bahosini lug'at elementi ko'rinishida saqlab qo'ydik (`talaba` - kalit, `baho` - qiymat)."
      ]
    },
    {
      "cell_type": "code",
      "execution_count": null,
      "metadata": {
        "id": "V_oPftPzv_eI",
        "outputId": "1c0ff68c-0582-443a-ef38-3840ce64e704"
      },
      "outputs": [
        {
          "name": "stdout",
          "output_type": "stream",
          "text": [
            "Botirning bahosini kiriting: 5\n",
            "Botir baholandi\n",
            "Olimning bahosini kiriting: 5\n",
            "Olim baholandi\n",
            "Husanning bahosini kiriting: 4\n",
            "Husan baholandi\n",
            "Hasanning bahosini kiriting: 3\n",
            "Hasan baholandi\n"
          ]
        }
      ],
      "source": [
        "talabalar = ['hasan', 'husan', 'olim', 'botir']\n",
        "baholangan_talabalar = {}\n",
        "while talabalar:\n",
        "    talaba = talabalar.pop()\n",
        "    baho = input(f\"{talaba.title()}ning bahosini kiriting: \")\n",
        "    print(f\"{talaba.title()} baholandi\")\n",
        "    baholangan_talabalar[talaba] = baho"
      ]
    },
    {
      "cell_type": "markdown",
      "metadata": {
        "id": "tY5f4Ez6v_eJ"
      },
      "source": [
        "Yuqorida biz `while` tsikli yordamida ro'yxat va lug'atlar ustida bajarish mumkin bo'lgan ba'zi misollarni ko'rdik. Albatta dasturlash davomida bundan boshqa holatlar ham uchrashi tabiiy."
      ]
    },
    {
      "cell_type": "code",
      "source": [
        "buyurtma = []\n",
        "print(\"Assalomu aleykum do'konimizga xush kelibsiz!\")\n",
        "while True:\n",
        "  mahsulot = input(\"Savatga mahsulot kiriting\")\n",
        "  buyurtma.append(mahsulot)\n",
        "  respond = input(\"Yana mahsulot kiritasizmi? ha/yo'q\")\n",
        "  if respond != \"ha\":\n",
        "    break\n"
      ],
      "metadata": {
        "id": "0aMcGMxkwT_V"
      },
      "execution_count": null,
      "outputs": []
    },
    {
      "cell_type": "code",
      "source": [
        "in_stock = {}\n",
        "print(\"Assalomu aleykum! do'kon uchun mahsulot va uning narhini kiriting\")\n",
        "while True:\n",
        "  product = input(\"Mahsulot nomini kiriting: \").lower()\n",
        "  price = input(\"narhini kiriting\")\n",
        "  in_stock[product] = price\n",
        "  respond = input(\"Yana kiritasizmi? ha/yo'q\")\n",
        "  if respond != \"ha\":\n",
        "    break\n",
        "print(in_stock)"
      ],
      "metadata": {
        "id": "eTkbi2QN383L",
        "outputId": "a774d995-8fdd-4189-d544-53a0fa740bc6",
        "colab": {
          "base_uri": "https://localhost:8080/"
        }
      },
      "execution_count": 16,
      "outputs": [
        {
          "output_type": "stream",
          "name": "stdout",
          "text": [
            "Assalomu aleykum! do'kon uchun mahsulot va uning narhini kiriting\n",
            "Mahsulot nomini kiritingNon\n",
            "narhini kiriting5000\n",
            "Yana kiritasizmi? ha/yo'qha\n",
            "Mahsulot nomini kiritinggo'sht\n",
            "narhini kiriting120000\n",
            "Yana kiritasizmi? ha/yo'qha\n",
            "Mahsulot nomini kiritingolma\n",
            "narhini kiriting12000\n",
            "Yana kiritasizmi? ha/yo'qha\n",
            "Mahsulot nomini kiritingpomidor\n",
            "narhini kiriting25000\n",
            "Yana kiritasizmi? ha/yo'qha\n",
            "Mahsulot nomini kiritingsabzi\n",
            "narhini kiriting5000\n",
            "Yana kiritasizmi? ha/yo'qha\n",
            "Mahsulot nomini kiritingBaliq\n",
            "narhini kiriting70000\n",
            "Yana kiritasizmi? ha/yo'qyoq\n",
            "{'non': '5000', \"go'sht\": '120000', 'olma': '12000', 'pomidor': '25000', 'sabzi': '5000', 'baliq': '70000'}\n"
          ]
        }
      ]
    },
    {
      "cell_type": "code",
      "source": [
        "print(\"Assalomu aleykum! Do'komimizga xush kelibsiz\")\n",
        "while True:\n",
        "  mahsulot = input(\"Sotib olmoqchi bo'lgan mahsulotingizni kiriting: \").lower()\n",
        "  if mahsulot in in_stock:\n",
        "    print(f\"{mahsulot.title()}ning narxi {in_stock[mahsulot]}so'm\")\n",
        "  else:\n",
        "    print(\"Uzur ushbu mahsulot do'konimizda yo'q\")"
      ],
      "metadata": {
        "id": "0jzHyjKAAqWN",
        "outputId": "d91dfc1b-b4c8-434e-f37c-111222c57326",
        "colab": {
          "base_uri": "https://localhost:8080/",
          "height": 582
        }
      },
      "execution_count": 18,
      "outputs": [
        {
          "output_type": "stream",
          "name": "stdout",
          "text": [
            "Assalomu aleykum! Do'komimizga xush kelibsiz\n",
            "Sotib olmoqchi bo'lgan mahsulotingizni kiriting: non\n",
            "Nonning narxi 5000so'm\n",
            "Sotib olmoqchi bo'lgan mahsulotingizni kiriting: go'shrt\n",
            "Uzur ushbu mahsulot do'konimizda yo'q\n",
            "Sotib olmoqchi bo'lgan mahsulotingizni kiriting: go'sht\n",
            "Go'Shtning narxi 120000so'm\n",
            "Sotib olmoqchi bo'lgan mahsulotingizni kiriting: sut\n",
            "Uzur ushbu mahsulot do'konimizda yo'q\n",
            "Sotib olmoqchi bo'lgan mahsulotingizni kiriting: olma\n",
            "Olmaning narxi 12000so'm\n"
          ]
        },
        {
          "output_type": "error",
          "ename": "KeyboardInterrupt",
          "evalue": "Interrupted by user",
          "traceback": [
            "\u001b[0;31m---------------------------------------------------------------------------\u001b[0m",
            "\u001b[0;31mKeyboardInterrupt\u001b[0m                         Traceback (most recent call last)",
            "\u001b[0;32m<ipython-input-18-517878bec659>\u001b[0m in \u001b[0;36m<cell line: 0>\u001b[0;34m()\u001b[0m\n\u001b[1;32m      1\u001b[0m \u001b[0mprint\u001b[0m\u001b[0;34m(\u001b[0m\u001b[0;34m\"Assalomu aleykum! Do'komimizga xush kelibsiz\"\u001b[0m\u001b[0;34m)\u001b[0m\u001b[0;34m\u001b[0m\u001b[0;34m\u001b[0m\u001b[0m\n\u001b[1;32m      2\u001b[0m \u001b[0;32mwhile\u001b[0m \u001b[0;32mTrue\u001b[0m\u001b[0;34m:\u001b[0m\u001b[0;34m\u001b[0m\u001b[0;34m\u001b[0m\u001b[0m\n\u001b[0;32m----> 3\u001b[0;31m   \u001b[0mmahsulot\u001b[0m \u001b[0;34m=\u001b[0m \u001b[0minput\u001b[0m\u001b[0;34m(\u001b[0m\u001b[0;34m\"Sotib olmoqchi bo'lgan mahsulotingizni kiriting: \"\u001b[0m\u001b[0;34m)\u001b[0m\u001b[0;34m.\u001b[0m\u001b[0mlower\u001b[0m\u001b[0;34m(\u001b[0m\u001b[0;34m)\u001b[0m\u001b[0;34m\u001b[0m\u001b[0;34m\u001b[0m\u001b[0m\n\u001b[0m\u001b[1;32m      4\u001b[0m   \u001b[0;32mif\u001b[0m \u001b[0mmahsulot\u001b[0m \u001b[0;32min\u001b[0m \u001b[0min_stock\u001b[0m\u001b[0;34m:\u001b[0m\u001b[0;34m\u001b[0m\u001b[0;34m\u001b[0m\u001b[0m\n\u001b[1;32m      5\u001b[0m     \u001b[0mprint\u001b[0m\u001b[0;34m(\u001b[0m\u001b[0;34mf\"{mahsulot.title()}ning narxi {in_stock[mahsulot]}so'm\"\u001b[0m\u001b[0;34m)\u001b[0m\u001b[0;34m\u001b[0m\u001b[0;34m\u001b[0m\u001b[0m\n",
            "\u001b[0;32m/usr/local/lib/python3.11/dist-packages/ipykernel/kernelbase.py\u001b[0m in \u001b[0;36mraw_input\u001b[0;34m(self, prompt)\u001b[0m\n\u001b[1;32m   1175\u001b[0m                 \u001b[0;34m\"raw_input was called, but this frontend does not support input requests.\"\u001b[0m\u001b[0;34m\u001b[0m\u001b[0;34m\u001b[0m\u001b[0m\n\u001b[1;32m   1176\u001b[0m             )\n\u001b[0;32m-> 1177\u001b[0;31m         return self._input_request(\n\u001b[0m\u001b[1;32m   1178\u001b[0m             \u001b[0mstr\u001b[0m\u001b[0;34m(\u001b[0m\u001b[0mprompt\u001b[0m\u001b[0;34m)\u001b[0m\u001b[0;34m,\u001b[0m\u001b[0;34m\u001b[0m\u001b[0;34m\u001b[0m\u001b[0m\n\u001b[1;32m   1179\u001b[0m             \u001b[0mself\u001b[0m\u001b[0;34m.\u001b[0m\u001b[0m_parent_ident\u001b[0m\u001b[0;34m[\u001b[0m\u001b[0;34m\"shell\"\u001b[0m\u001b[0;34m]\u001b[0m\u001b[0;34m,\u001b[0m\u001b[0;34m\u001b[0m\u001b[0;34m\u001b[0m\u001b[0m\n",
            "\u001b[0;32m/usr/local/lib/python3.11/dist-packages/ipykernel/kernelbase.py\u001b[0m in \u001b[0;36m_input_request\u001b[0;34m(self, prompt, ident, parent, password)\u001b[0m\n\u001b[1;32m   1217\u001b[0m             \u001b[0;32mexcept\u001b[0m \u001b[0mKeyboardInterrupt\u001b[0m\u001b[0;34m:\u001b[0m\u001b[0;34m\u001b[0m\u001b[0;34m\u001b[0m\u001b[0m\n\u001b[1;32m   1218\u001b[0m                 \u001b[0;31m# re-raise KeyboardInterrupt, to truncate traceback\u001b[0m\u001b[0;34m\u001b[0m\u001b[0;34m\u001b[0m\u001b[0m\n\u001b[0;32m-> 1219\u001b[0;31m                 \u001b[0;32mraise\u001b[0m \u001b[0mKeyboardInterrupt\u001b[0m\u001b[0;34m(\u001b[0m\u001b[0;34m\"Interrupted by user\"\u001b[0m\u001b[0;34m)\u001b[0m \u001b[0;32mfrom\u001b[0m \u001b[0;32mNone\u001b[0m\u001b[0;34m\u001b[0m\u001b[0;34m\u001b[0m\u001b[0m\n\u001b[0m\u001b[1;32m   1220\u001b[0m             \u001b[0;32mexcept\u001b[0m \u001b[0mException\u001b[0m\u001b[0;34m:\u001b[0m\u001b[0;34m\u001b[0m\u001b[0;34m\u001b[0m\u001b[0m\n\u001b[1;32m   1221\u001b[0m                 \u001b[0mself\u001b[0m\u001b[0;34m.\u001b[0m\u001b[0mlog\u001b[0m\u001b[0;34m.\u001b[0m\u001b[0mwarning\u001b[0m\u001b[0;34m(\u001b[0m\u001b[0;34m\"Invalid Message:\"\u001b[0m\u001b[0;34m,\u001b[0m \u001b[0mexc_info\u001b[0m\u001b[0;34m=\u001b[0m\u001b[0;32mTrue\u001b[0m\u001b[0;34m)\u001b[0m\u001b[0;34m\u001b[0m\u001b[0;34m\u001b[0m\u001b[0m\n",
            "\u001b[0;31mKeyboardInterrupt\u001b[0m: Interrupted by user"
          ]
        }
      ]
    },
    {
      "cell_type": "markdown",
      "metadata": {
        "id": "C0Joib2Xv_eJ"
      },
      "source": [
        "# AMALIYOT\n",
        "\n",
        "1. Foydalanuvchidan buyurtma qabul qiluvchi dastur yozing. Mahsulotlar nomini birma-bir qabul qilib, yangi ro'yxatga joylang.\n",
        "2. e-bozor uchun mahsulotlar va ularning narhlari lug'atini shakllantiruvchi dastur yozing. Foydalanuvchidan lug'atga bir nechta elementlar (mahsulot va uning narhi) kiritishni so'rang.\n",
        "3. Yuqoridagi ikki dasturni jamlaymiz. Foydalanuvchi buyurtmasi ro'yxatidagi har bir mahsulotni e-bozordagi mahsulotlar bilan solishitiring (tayyor ro'yxat ishlatishingiz mumkin). Agar mahsuot e-bozorda mavjud bo'lsa mahuslot narhini chiqaring, aks holda \"Bizda bu mahsulot yo'q\" degan xabarni kor'sating.\n",
        "\n",
        "# JAVOBLAR"
      ]
    },
    {
      "cell_type": "code",
      "execution_count": null,
      "metadata": {
        "id": "8-O3eEA8v_eJ"
      },
      "outputs": [],
      "source": [
        "savat =[]\n",
        "while True:\n",
        "    mahsulot = input(\"Savatga mahsulot qo'shing:\")\n",
        "    savat.append(mahsulot)\n",
        "    javob = input(\"Yana mahsulot qo\\'shasizmi?(ha/yo\\'q)\")\n",
        "    if javob != 'ha':\n",
        "        break"
      ]
    },
    {
      "cell_type": "markdown",
      "metadata": {
        "id": "0_8eoZ5lv_eJ"
      },
      "source": [
        "mahsulotlar = {}\n",
        "while True:\n",
        "    mahsulot = input(\"Mahsulot nomini kiriting: \")\n",
        "    narh = input(f\"{mahsulot.title()}ning narhini kiriting: \")\n",
        "    mahsulotlar[mahsulot] = narh\n",
        "    javob = input(\"Yana mahsulot qo'shasizmi?(ha/yo'q)\")\n",
        "    if javob != 'ha':\n",
        "        break"
      ]
    },
    {
      "cell_type": "code",
      "execution_count": null,
      "metadata": {
        "id": "yqc7YZviv_eJ"
      },
      "outputs": [],
      "source": [
        "buyurtmalar = ['olma','anjir','uzum','qovun']\n",
        "mahsulotlar = {'olma':20000,\n",
        "               'shaftoli':25000,\n",
        "               'tarvuz':18000,\n",
        "               'uzum':22000}\n",
        "\n",
        "while buyurtmalar:\n",
        "    buyurtma = buyurtmalar.pop()\n",
        "    if buyurtma in mahsulotlar.keys():\n",
        "        narh = mahsulotlar[buyurtma]\n",
        "        print(f\"{buyurtma.title()} - {narh} so'm\")\n",
        "    else:\n",
        "        print(f\"Bizda {buyurtma} yo'q\")"
      ]
    }
  ],
  "metadata": {
    "language_info": {
      "name": "python"
    },
    "colab": {
      "provenance": []
    },
    "kernelspec": {
      "name": "python3",
      "display_name": "Python 3"
    }
  },
  "nbformat": 4,
  "nbformat_minor": 0
}