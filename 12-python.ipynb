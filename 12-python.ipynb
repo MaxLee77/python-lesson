{
  "cells": [
    {
      "cell_type": "markdown",
      "metadata": {
        "id": "iBmmC0oMInAb"
      },
      "source": [
        "# 12-DARS. XATOLAR BILAN ISHLASH\n",
        "\n",
        "Dasturchi xato qiladi. Yaxshi dasturchi esa ko'p xato qiladi."
      ]
    },
    {
      "cell_type": "markdown",
      "metadata": {
        "id": "JmxX2C25InAd"
      },
      "source": [
        "![](https://gblobscdn.gitbook.com/assets%2F-MGbkqs1tROquIT6oqUs%2F-Mc-5yGQPZTBaGoehQdL%2F-Mc-7xpq4Puu3KEjmT0R%2FSD_YT_TG_logo_mini.png?alt=media&token=929fe67b-ec12-4f63-b33e-e9c5e3d8ad09)"
      ]
    },
    {
      "cell_type": "markdown",
      "metadata": {
        "id": "0j-LgounInAe"
      },
      "source": [
        "# XATOLAR\n",
        "\n",
        "Har qanday dasturchi kod yozishda xato qiladi. Ko'p yozgan odam esa ko'p xato qiladi va bu tabiiy. Ba'zi xatolarimiz Python tomonidan dastur bajarilishdan avvaloq aniqlanadi. Ba'zilari esa dastur bajarish jarayonida aniqlanib, dasturimiz to'xtab qoladi. Keling, bugun dasturlashni yangi boshlaganlar eng ko'p yo'l qo'yadigan xatolar bilan tanishamiz.\n",
        "\n",
        "\n",
        "# `SyntaxError` - SINTEKS XATOLIK\n",
        "\n",
        "Biz syntax error bilan 3-darsimizda tanishgan edik. Bu eng ko'p uchraydigan xato bo'lib, odatda dasturlash tili qoidalariga amal qilmaslik natijasida kelib chiqadi. Aksar dasturlash muhitlari sintaks xatolikni dastur bajarilishidan avvaloq aniqlab, dasturchiga ishora beradi. Sintaks xatolik bor dasturni Python bajarmaydi."
      ]
    },
    {
      "cell_type": "code",
      "execution_count": null,
      "metadata": {
        "id": "r0c4ekLzInAf",
        "outputId": "35d7350a-b5f0-4fb8-be79-58ff712a406e"
      },
      "outputs": [
        {
          "ename": "SyntaxError",
          "evalue": "Missing parentheses in call to 'print'. Did you mean print(\"Hello World!\")? (<ipython-input-4-1b01280ccede>, line 1)",
          "output_type": "error",
          "traceback": [
            "\u001b[0;36m  File \u001b[0;32m\"<ipython-input-4-1b01280ccede>\"\u001b[0;36m, line \u001b[0;32m1\u001b[0m\n\u001b[0;31m    print \"Hello World!\"\u001b[0m\n\u001b[0m          ^\u001b[0m\n\u001b[0;31mSyntaxError\u001b[0m\u001b[0;31m:\u001b[0m Missing parentheses in call to 'print'. Did you mean print(\"Hello World!\")?\n"
          ]
        }
      ],
      "source": [
        "print \"Hello World!\""
      ]
    },
    {
      "cell_type": "markdown",
      "metadata": {
        "id": "-vhVOahwInAg"
      },
      "source": [
        "Odatda dasturlash muhiti xatoning turi bilan birga (SyntaxError), xato haqida qo'shimcha ma'lumot ham beradi (**`Missing parentheses in call to 'print'. Did you mean print(\"Hello World!\")?`**). Agar ingliz tilini tushunmasangiz, Google Translate sahifasi yordamida matnni rus yoki o'zbek tiliga tarjima qilib olishingiz mumkin.\n",
        "\n",
        "> Agar rus tilini bilsangiz, xato matnini rus tilga tarjima qiling. O'zbek tilidagi tarjimalar hali biroz tushunarsiz.\n",
        "\n",
        "![](https://gblobscdn.gitbook.com/assets%2F-MGbkqs1tROquIT6oqUs%2F-MN6IP9LWJtGJ36HcD1f%2F-MN6WUMJlEOmcASMDcxT%2Fimage.png?alt=media&token=e65ecf60-bebd-4eeb-a9c4-f8b7ad5475d5)\n",
        "*Google Translate yordamida xatoning Rus tiliga tarjimasi*\n",
        "\n",
        "![](https://gblobscdn.gitbook.com/assets%2F-MGbkqs1tROquIT6oqUs%2F-MN6IP9LWJtGJ36HcD1f%2F-MN6W_hZ_qfpVM8jsSo7%2Fimage.png?alt=media&token=598b53de-808f-410f-9a04-8c9d0d6fe02f)\n",
        "*Google Translate yordamida xatoning O'zbek tiliga tarjimasi*"
      ]
    },
    {
      "cell_type": "markdown",
      "metadata": {
        "id": "mUPphqIrInAg"
      },
      "source": [
        "## EOL va EOF xatolik\n",
        "\n",
        "EOL (End of Line - qator yakuni) xatoligi sintaks xatolikning bir turi bo'lib, odatda qator oxirida qo'shtirnoq (birtirnoq) ni yopish esdan chiqqanda yuzaga keladi."
      ]
    },
    {
      "cell_type": "code",
      "execution_count": null,
      "metadata": {
        "id": "bezFcPm9InAh",
        "outputId": "8186a21d-644f-4d7b-95e0-e400fd846744"
      },
      "outputs": [
        {
          "ename": "SyntaxError",
          "evalue": "EOL while scanning string literal (<ipython-input-5-9ed61ebd20d2>, line 1)",
          "output_type": "error",
          "traceback": [
            "\u001b[0;36m  File \u001b[0;32m\"<ipython-input-5-9ed61ebd20d2>\"\u001b[0;36m, line \u001b[0;32m1\u001b[0m\n\u001b[0;31m    print(\"Hello World!\u001b[0m\n\u001b[0m                       ^\u001b[0m\n\u001b[0;31mSyntaxError\u001b[0m\u001b[0;31m:\u001b[0m EOL while scanning string literal\n"
          ]
        }
      ],
      "source": [
        "print(\"Hello World!"
      ]
    },
    {
      "cell_type": "markdown",
      "metadata": {
        "id": "B83LuWtqInAh"
      },
      "source": [
        "EOF (End of function - funktsiya yakuni) xatoligi esa funktsiya oxirida qavsni yopish esdan chiqqanda yuzaga keladi.  "
      ]
    },
    {
      "cell_type": "code",
      "execution_count": null,
      "metadata": {
        "id": "EtNnaUfNInAh",
        "outputId": "d0d9189d-d87b-4486-bdbd-d3a34eb40eda"
      },
      "outputs": [
        {
          "ename": "SyntaxError",
          "evalue": "unexpected EOF while parsing (<ipython-input-6-0219726117bb>, line 1)",
          "output_type": "error",
          "traceback": [
            "\u001b[0;36m  File \u001b[0;32m\"<ipython-input-6-0219726117bb>\"\u001b[0;36m, line \u001b[0;32m1\u001b[0m\n\u001b[0;31m    print(\"Hello World!\"\u001b[0m\n\u001b[0m                        ^\u001b[0m\n\u001b[0;31mSyntaxError\u001b[0m\u001b[0;31m:\u001b[0m unexpected EOF while parsing\n"
          ]
        }
      ],
      "source": [
        "print(\"Hello World!\""
      ]
    },
    {
      "cell_type": "markdown",
      "metadata": {
        "id": "kdy5EqgpInAi"
      },
      "source": [
        "EOF xatoligining muammoli tarafi, Python aynan qaysi funktsiya yopilmay qolganini ko'rsata olmaydi, ya'ni kodni sinchiklab ko'zdan kechirib chiqish talab qilinadi."
      ]
    },
    {
      "cell_type": "markdown",
      "metadata": {
        "id": "AzxrwjBSInAi"
      },
      "source": [
        "# IndentationError - JOY TASHLASHDA XATOLIK\n",
        "\n",
        "Python tilida qator boshidan yoki joy tashlab yozish muhim ahamiyatga ega. Qator boshidan asossiz joy qoldirish IndentationError ga olib keladi.\n",
        "\n",
        "Quyidagi kodga e'tibor bering, qator boshida 1 dona bo'sh joy qolgani uchunoq Spyder muhiti xatolikni aniqlab, qizil bilan belgilab qo'ydi.\n",
        "\n",
        "![](https://gblobscdn.gitbook.com/assets%2F-MGbkqs1tROquIT6oqUs%2F-MN6IP9LWJtGJ36HcD1f%2F-MN6e3ewh_GD-rUVnjx5%2Fimage.png?alt=media&token=61dff29e-9f39-4f15-8958-29ecc8dcfa24)"
      ]
    },
    {
      "cell_type": "markdown",
      "metadata": {
        "id": "yI47P7ElInAi"
      },
      "source": [
        "Ba'zi joylarda esa aksincha, bo'sh joy tashlab yozish talab qilinadi. Masalan, for tsiklida yoki if-elif-else shartlarining ichida va hokazo."
      ]
    },
    {
      "cell_type": "code",
      "execution_count": null,
      "metadata": {
        "id": "CEr7muvnInAj",
        "outputId": "53d7ab1b-c7c9-418e-f13e-63e694197cf5"
      },
      "outputs": [
        {
          "ename": "IndentationError",
          "evalue": "expected an indented block (<ipython-input-9-65eff036a0f3>, line 3)",
          "output_type": "error",
          "traceback": [
            "\u001b[0;36m  File \u001b[0;32m\"<ipython-input-9-65eff036a0f3>\"\u001b[0;36m, line \u001b[0;32m3\u001b[0m\n\u001b[0;31m    print(n+1)\u001b[0m\n\u001b[0m    ^\u001b[0m\n\u001b[0;31mIndentationError\u001b[0m\u001b[0;31m:\u001b[0m expected an indented block\n"
          ]
        }
      ],
      "source": [
        "print(\"O'ngacha sanaymiz\")\n",
        "for n in range(10):\n",
        "print(n+1)"
      ]
    },
    {
      "cell_type": "code",
      "execution_count": null,
      "metadata": {
        "id": "qC2VllUxInAj",
        "outputId": "635c2883-2831-4593-c3e9-7c1c4750db0f"
      },
      "outputs": [
        {
          "ename": "IndentationError",
          "evalue": "expected an indented block (<ipython-input-10-48c70674d76c>, line 5)",
          "output_type": "error",
          "traceback": [
            "\u001b[0;36m  File \u001b[0;32m\"<ipython-input-10-48c70674d76c>\"\u001b[0;36m, line \u001b[0;32m5\u001b[0m\n\u001b[0;31m    print(\"Manfiy son\")\u001b[0m\n\u001b[0m    ^\u001b[0m\n\u001b[0;31mIndentationError\u001b[0m\u001b[0;31m:\u001b[0m expected an indented block\n"
          ]
        }
      ],
      "source": [
        "son = 50\n",
        "if son>=0:\n",
        "    print(\"Musbat son\")\n",
        "else:\n",
        "print(\"Manfiy son\")"
      ]
    },
    {
      "cell_type": "markdown",
      "metadata": {
        "id": "HElv5l1xInAj"
      },
      "source": [
        "## QANCHA JOY TASHLAYMIZ?\n",
        "Yuqoridagi misollarda IndentationError oldini olish uchun joy tashlash talab qilindi. Xo'sh, qancha joy tashlash kerak va qanday qilib?\n",
        "\n",
        "Aslida, hech bo'lmaganda 1 harflik bo'sh joy qoldirish ham bizni IndentationError dan xalos qiladi. LEKIN, biz dastur davomida bir hil joy tashlashga odatlanishimiz kerak.\n",
        "\n",
        "Qoida sifatida kamida 4 ta harflik joy yoki 1 ta TAB (klaviaturadagi tab tugmasi) joy tashlashni odat qilishimiz kerak. Va eng muhimi ikkalasini aralashtirmasligimiz lozim. Ya'ni agar siz joy tashlash uchun Space (probel) ishlatsangiz, oxirigacha shunday qiling, agar Tab ishlatsangiz oxirigacha tab ishlating. Ikkalasini aralashtirmang!\n",
        "\n",
        "![](https://gblobscdn.gitbook.com/assets%2F-MGbkqs1tROquIT6oqUs%2F-MN6IP9LWJtGJ36HcD1f%2F-MN6hZauiOId_z_XH8Mw%2Fimage.png?alt=media&token=5405ded8-c5df-4459-b059-e9a297f365ea)"
      ]
    },
    {
      "cell_type": "markdown",
      "metadata": {
        "id": "sgjpdCmHInAj"
      },
      "source": [
        "# RUN TIME ERROR - DASTURNI BAJARISHDA XATOLIK\n",
        "\n",
        "**Run time error** — dastur bajarish jarayonida kelib chiqadi va dasturning ishlashini to'xtatadi. Sintaks xatolikdan farqli ravishda Python bunday xatolarni dasturni bajarishdan avval aniqlay olmaydi. Run time error ning bir necha turi bor. Keling, ulardan ba'zilari bilan tanishamiz.\n",
        "\n",
        "## TypeError\n",
        "\n",
        "Biror amalni (funktsiya, metod) noto'g'ri ma'lumot turi ustida bajarish."
      ]
    },
    {
      "cell_type": "code",
      "execution_count": null,
      "metadata": {
        "id": "anA2o0gKInAj",
        "outputId": "deb71b2b-d6a8-4bf3-b0b4-937bc8004aa5"
      },
      "outputs": [
        {
          "name": "stdout",
          "output_type": "stream",
          "text": [
            "Istalgan son kiriting: 22\n"
          ]
        },
        {
          "ename": "TypeError",
          "evalue": "unsupported operand type(s) for ** or pow(): 'str' and 'int'",
          "output_type": "error",
          "traceback": [
            "\u001b[0;31m---------------------------------------------------------------------------\u001b[0m",
            "\u001b[0;31mTypeError\u001b[0m                                 Traceback (most recent call last)",
            "\u001b[0;32m<ipython-input-11-6564a8399004>\u001b[0m in \u001b[0;36m<module>\u001b[0;34m\u001b[0m\n\u001b[1;32m      1\u001b[0m \u001b[0mson\u001b[0m \u001b[0;34m=\u001b[0m \u001b[0minput\u001b[0m\u001b[0;34m(\u001b[0m\u001b[0;34m\"Istalgan son kiriting: \"\u001b[0m\u001b[0;34m)\u001b[0m\u001b[0;34m\u001b[0m\u001b[0;34m\u001b[0m\u001b[0m\n\u001b[0;32m----> 2\u001b[0;31m \u001b[0mprint\u001b[0m\u001b[0;34m(\u001b[0m\u001b[0;34mf\"{son} ning kvadrati {son**2} ga teng\"\u001b[0m\u001b[0;34m)\u001b[0m\u001b[0;34m\u001b[0m\u001b[0;34m\u001b[0m\u001b[0m\n\u001b[0m",
            "\u001b[0;31mTypeError\u001b[0m: unsupported operand type(s) for ** or pow(): 'str' and 'int'"
          ]
        }
      ],
      "source": [
        "son = input(\"Istalgan son kiriting: \")\n",
        "print(f\"{son} ning kvadrati {son**2} ga teng\")"
      ]
    },
    {
      "cell_type": "markdown",
      "metadata": {
        "id": "AMC2AsdeInAk"
      },
      "source": [
        "Yuqoridagi kodda biz foydalanuvchi kiritgan qiymatni matndan songa o'tkazib olishni unutdik, natijada sonning kavdratini hisoblashda Python xato berdi."
      ]
    },
    {
      "cell_type": "markdown",
      "metadata": {
        "id": "6KMz3PHCInAk"
      },
      "source": [
        "## NameError\n",
        "\n",
        "O'zgaruvchi, funktsiya, obyekt nomini noto'g'ri yozish natijasida kelib chiquvchi xatolik."
      ]
    },
    {
      "cell_type": "code",
      "execution_count": null,
      "metadata": {
        "id": "ASBQ_FXTInAk",
        "outputId": "769531e2-76b4-4cc4-bdc2-46ec1d6ec6c9"
      },
      "outputs": [
        {
          "ename": "NameError",
          "evalue": "name 'prit' is not defined",
          "output_type": "error",
          "traceback": [
            "\u001b[0;31m---------------------------------------------------------------------------\u001b[0m",
            "\u001b[0;31mNameError\u001b[0m                                 Traceback (most recent call last)",
            "\u001b[0;32m<ipython-input-12-71fe389d9158>\u001b[0m in \u001b[0;36m<module>\u001b[0;34m\u001b[0m\n\u001b[0;32m----> 1\u001b[0;31m \u001b[0mprit\u001b[0m\u001b[0;34m(\u001b[0m\u001b[0;34m\"Hello World!\"\u001b[0m\u001b[0;34m)\u001b[0m\u001b[0;34m\u001b[0m\u001b[0;34m\u001b[0m\u001b[0m\n\u001b[0m",
            "\u001b[0;31mNameError\u001b[0m: name 'prit' is not defined"
          ]
        }
      ],
      "source": [
        "prit(\"Hello World!\")"
      ]
    },
    {
      "cell_type": "code",
      "execution_count": null,
      "metadata": {
        "id": "NbQu-BZGInAk",
        "outputId": "c69f75e9-1a75-414c-c087-49dc7a34665c"
      },
      "outputs": [
        {
          "ename": "NameError",
          "evalue": "name 'mvealar' is not defined",
          "output_type": "error",
          "traceback": [
            "\u001b[0;31m---------------------------------------------------------------------------\u001b[0m",
            "\u001b[0;31mNameError\u001b[0m                                 Traceback (most recent call last)",
            "\u001b[0;32m<ipython-input-13-fba04004d8bc>\u001b[0m in \u001b[0;36m<module>\u001b[0;34m\u001b[0m\n\u001b[1;32m      1\u001b[0m \u001b[0mmevalar\u001b[0m \u001b[0;34m=\u001b[0m \u001b[0;34m[\u001b[0m\u001b[0;34m'olma'\u001b[0m\u001b[0;34m,\u001b[0m\u001b[0;34m'uzum'\u001b[0m\u001b[0;34m,\u001b[0m\u001b[0;34m'nok'\u001b[0m\u001b[0;34m,\u001b[0m\u001b[0;34m'anor'\u001b[0m\u001b[0;34m,\u001b[0m\u001b[0;34m'anjir'\u001b[0m\u001b[0;34m]\u001b[0m\u001b[0;34m\u001b[0m\u001b[0;34m\u001b[0m\u001b[0m\n\u001b[0;32m----> 2\u001b[0;31m \u001b[0;32mfor\u001b[0m \u001b[0mmeva\u001b[0m \u001b[0;32min\u001b[0m \u001b[0mmvealar\u001b[0m\u001b[0;34m:\u001b[0m\u001b[0;34m\u001b[0m\u001b[0;34m\u001b[0m\u001b[0m\n\u001b[0m\u001b[1;32m      3\u001b[0m     \u001b[0mprint\u001b[0m\u001b[0;34m(\u001b[0m\u001b[0mmeva\u001b[0m\u001b[0;34m)\u001b[0m\u001b[0;34m\u001b[0m\u001b[0;34m\u001b[0m\u001b[0m\n",
            "\u001b[0;31mNameError\u001b[0m: name 'mvealar' is not defined"
          ]
        }
      ],
      "source": [
        "mevalar = ['olma','uzum','nok','anor','anjir']\n",
        "for meva in mvealar:\n",
        "    print(meva)"
      ]
    },
    {
      "cell_type": "markdown",
      "metadata": {
        "id": "6bZ87ML1InAk"
      },
      "source": [
        "## ValueError\n",
        "\n",
        "Funktsiyaga noto'g'ri qiymatni yuborish natijasidagi xatolik"
      ]
    },
    {
      "cell_type": "code",
      "execution_count": null,
      "metadata": {
        "id": "mHSSDYkRInAk",
        "outputId": "dea8399e-2e4d-47a7-e596-d9a5dd94fd2e"
      },
      "outputs": [
        {
          "name": "stdout",
          "output_type": "stream",
          "text": [
            "Istalgan son kiriting: 46.5\n"
          ]
        },
        {
          "ename": "ValueError",
          "evalue": "invalid literal for int() with base 10: '46.5'",
          "output_type": "error",
          "traceback": [
            "\u001b[0;31m---------------------------------------------------------------------------\u001b[0m",
            "\u001b[0;31mValueError\u001b[0m                                Traceback (most recent call last)",
            "\u001b[0;32m<ipython-input-14-c73aee0196dc>\u001b[0m in \u001b[0;36m<module>\u001b[0;34m\u001b[0m\n\u001b[0;32m----> 1\u001b[0;31m \u001b[0mson\u001b[0m \u001b[0;34m=\u001b[0m \u001b[0mint\u001b[0m\u001b[0;34m(\u001b[0m\u001b[0minput\u001b[0m\u001b[0;34m(\u001b[0m\u001b[0;34m\"Istalgan son kiriting: \"\u001b[0m\u001b[0;34m)\u001b[0m\u001b[0;34m)\u001b[0m\u001b[0;34m\u001b[0m\u001b[0;34m\u001b[0m\u001b[0m\n\u001b[0m\u001b[1;32m      2\u001b[0m \u001b[0;32mif\u001b[0m \u001b[0mson\u001b[0m\u001b[0;34m>=\u001b[0m\u001b[0;36m0\u001b[0m\u001b[0;34m:\u001b[0m\u001b[0;34m\u001b[0m\u001b[0;34m\u001b[0m\u001b[0m\n\u001b[1;32m      3\u001b[0m     \u001b[0mprint\u001b[0m\u001b[0;34m(\u001b[0m\u001b[0;34m\"Musbat son\"\u001b[0m\u001b[0;34m)\u001b[0m\u001b[0;34m\u001b[0m\u001b[0;34m\u001b[0m\u001b[0m\n\u001b[1;32m      4\u001b[0m \u001b[0;32melse\u001b[0m\u001b[0;34m:\u001b[0m\u001b[0;34m\u001b[0m\u001b[0;34m\u001b[0m\u001b[0m\n\u001b[1;32m      5\u001b[0m     \u001b[0mprint\u001b[0m\u001b[0;34m(\u001b[0m\u001b[0;34m\"Manfiy son\"\u001b[0m\u001b[0;34m)\u001b[0m\u001b[0;34m\u001b[0m\u001b[0;34m\u001b[0m\u001b[0m\n",
            "\u001b[0;31mValueError\u001b[0m: invalid literal for int() with base 10: '46.5'"
          ]
        }
      ],
      "source": [
        "son = int(input(\"Istalgan son kiriting: \"))\n",
        "if son>=0:\n",
        "    print(\"Musbat son\")\n",
        "else:\n",
        "    print(\"Manfiy son\")"
      ]
    },
    {
      "cell_type": "markdown",
      "metadata": {
        "id": "EO4PgtoDInAl"
      },
      "source": [
        "Yuqoridagi dasturning 1-qatorida foydalanuvchidan istalgan son kiritishni so'rayabmiz, va foydalanuvchi kiritgan qiymatni `int` ya'ni butun songa o'tkazyabmiz. Kodning o'zida xato yo'q, lekin dastur bajarish jarayonida foydalanuvchi butun son emas, o'nlik son kiritgani uchun ValueError xatosi chiqdi. Sababi `int()` funktsiyasi faqatgina butun sonlar ko'rinishidagi matn bilan ishlaydi.\n",
        "\n",
        "Dastur xato bermasligi uchun yoki `int()` funktsiyasini `float()` ga almashtrishimiz kerak, yoki foydalanuvchidan butun son kiritishni talab qilishimiz kerak."
      ]
    },
    {
      "cell_type": "markdown",
      "metadata": {
        "id": "HJfT_LhaInAl"
      },
      "source": [
        "## IndexError\n",
        "\n",
        "Yangi dasturchilar yo'l qo'yadigan yana bir xato bu indeks xatolik. Ya'ni ro'yxat elementlariga murojat qilishda indeksni noto'g'ri kiritish."
      ]
    },
    {
      "cell_type": "code",
      "execution_count": null,
      "metadata": {
        "id": "Xn7UMXALInAl",
        "outputId": "a8d50609-588b-4526-f029-b26692fe6f83"
      },
      "outputs": [
        {
          "ename": "IndexError",
          "evalue": "list index out of range",
          "output_type": "error",
          "traceback": [
            "\u001b[0;31m---------------------------------------------------------------------------\u001b[0m",
            "\u001b[0;31mIndexError\u001b[0m                                Traceback (most recent call last)",
            "\u001b[0;32m<ipython-input-15-4ebdf6569b92>\u001b[0m in \u001b[0;36m<module>\u001b[0;34m\u001b[0m\n\u001b[1;32m      1\u001b[0m \u001b[0mmevalar\u001b[0m \u001b[0;34m=\u001b[0m \u001b[0;34m[\u001b[0m\u001b[0;34m'olma'\u001b[0m\u001b[0;34m,\u001b[0m\u001b[0;34m'anor'\u001b[0m\u001b[0;34m,\u001b[0m\u001b[0;34m'uzum'\u001b[0m\u001b[0;34m]\u001b[0m\u001b[0;34m\u001b[0m\u001b[0;34m\u001b[0m\u001b[0m\n\u001b[0;32m----> 2\u001b[0;31m \u001b[0mprint\u001b[0m\u001b[0;34m(\u001b[0m\u001b[0mmevalar\u001b[0m\u001b[0;34m[\u001b[0m\u001b[0;36m3\u001b[0m\u001b[0;34m]\u001b[0m\u001b[0;34m)\u001b[0m\u001b[0;34m\u001b[0m\u001b[0;34m\u001b[0m\u001b[0m\n\u001b[0m",
            "\u001b[0;31mIndexError\u001b[0m: list index out of range"
          ]
        }
      ],
      "source": [
        "mevalar = ['olma','anor','uzum']\n",
        "print(mevalar[3])"
      ]
    },
    {
      "cell_type": "markdown",
      "metadata": {
        "id": "7yyZHJR9InAl"
      },
      "source": [
        "Bizda `mevalar` degan ro'yxat bor va ro'yxatda uchta meva bor. Biz 3-elementni konsolga chiqarmoqchimiz va `print(mevalar[3]`) deb yozdik va `IndexError` natijasini oldik. Sababi, dasturlashda indeks 0 dan boshlanadi va 3-elementga murojat qilish uchun 2-indeksni tanlaymiz. Demak, to'g'ri kod:"
      ]
    },
    {
      "cell_type": "code",
      "execution_count": null,
      "metadata": {
        "id": "NBsqCQJfInAl",
        "outputId": "cc8ee4a1-9ce5-4f98-ea2a-8dd8aecc51f8"
      },
      "outputs": [
        {
          "name": "stdout",
          "output_type": "stream",
          "text": [
            "uzum\n"
          ]
        }
      ],
      "source": [
        "mevalar = ['olma','anor','uzum']\n",
        "print(mevalar[2])"
      ]
    },
    {
      "cell_type": "markdown",
      "metadata": {
        "id": "2EjMZE4GInAl"
      },
      "source": [
        "## ZeroDivisionError\n",
        "\n",
        "Dastur jarayonida 0 ga bo'lish yuzaga kelgandagi xatolik"
      ]
    },
    {
      "cell_type": "code",
      "execution_count": null,
      "metadata": {
        "id": "mfqga9LTInAl",
        "outputId": "9989acc4-1a14-4300-fc2a-00c109476619"
      },
      "outputs": [
        {
          "ename": "ZeroDivisionError",
          "evalue": "division by zero",
          "output_type": "error",
          "traceback": [
            "\u001b[0;31m---------------------------------------------------------------------------\u001b[0m",
            "\u001b[0;31mZeroDivisionError\u001b[0m                         Traceback (most recent call last)",
            "\u001b[0;32m<ipython-input-17-e39bf6e191a7>\u001b[0m in \u001b[0;36m<module>\u001b[0;34m\u001b[0m\n\u001b[1;32m      1\u001b[0m \u001b[0mx\u001b[0m\u001b[0;34m,\u001b[0m \u001b[0my\u001b[0m \u001b[0;34m=\u001b[0m \u001b[0;36m50\u001b[0m\u001b[0;34m,\u001b[0m \u001b[0;36m50\u001b[0m\u001b[0;34m\u001b[0m\u001b[0;34m\u001b[0m\u001b[0m\n\u001b[0;32m----> 2\u001b[0;31m \u001b[0mz\u001b[0m \u001b[0;34m=\u001b[0m \u001b[0;36m250\u001b[0m\u001b[0;34m/\u001b[0m\u001b[0;34m(\u001b[0m\u001b[0mx\u001b[0m\u001b[0;34m-\u001b[0m\u001b[0my\u001b[0m\u001b[0;34m)\u001b[0m\u001b[0;34m\u001b[0m\u001b[0;34m\u001b[0m\u001b[0m\n\u001b[0m",
            "\u001b[0;31mZeroDivisionError\u001b[0m: division by zero"
          ]
        }
      ],
      "source": [
        "x, y = 50, 50\n",
        "z = 250/(x-y)"
      ]
    },
    {
      "cell_type": "markdown",
      "metadata": {
        "id": "Kg7ypX_iInAl"
      },
      "source": [
        "# MANTIQIY XATOLAR\n",
        "\n",
        "Mantiqiy xatolar - dasturchi tomonidan yo'l qo'yilgan va kutilgan natijani berishda to'sqinlik qiluvchi xatolar. Bunday xatolar eng ko'p uchraydigan va aniqlash eng qiyin bo'lgan xatolar hisoblanadi. Aksar holatlarda Python mantiqiy xatolarni aniqlamaydi va dastur bajarilaveradi (lekin kutilgan natija chiqmaydi).\n",
        "\n",
        "Mantiqiy xatolar turli ko'rinishda bo'lishi mumkin, masalan sonlar bilan ishlashda:"
      ]
    },
    {
      "cell_type": "code",
      "execution_count": null,
      "metadata": {
        "id": "FoMdhFuPInAm",
        "outputId": "23498592-5a03-43d2-c03e-294e964c1749"
      },
      "outputs": [
        {
          "name": "stdout",
          "output_type": "stream",
          "text": [
            "103.49999999999999\n"
          ]
        }
      ],
      "source": [
        "radius = 5\n",
        "pi = 4.14\n",
        "aylana_yuzi = pi*radius**2\n",
        "print(aylana_yuzi)"
      ]
    },
    {
      "cell_type": "markdown",
      "metadata": {
        "id": "AfCUBdHIInAm"
      },
      "source": [
        "Yuqoridagi kod bajarildi, va natija ham chiqdi. Lekin natija xato. Nima uchun? Sababi biz  deb, xato yozib ketdik.\n",
        "\n",
        "Yana bir misol ko'raylik:"
      ]
    },
    {
      "cell_type": "code",
      "execution_count": null,
      "metadata": {
        "id": "ss1GyKVfInAm",
        "outputId": "c2ee5f78-f692-4a88-8e02-9c0b47af38ad"
      },
      "outputs": [
        {
          "name": "stdout",
          "output_type": "stream",
          "text": [
            "Istalgan son kiriting: 9\n",
            "9.0 ning ildizi 4.5 ga teng\n"
          ]
        }
      ],
      "source": [
        "son = float(input(\"Istalgan son kiriting: \"))\n",
        "ildiz = son**1/2\n",
        "print(f\"{son} ning ildizi {ildiz} ga teng\")"
      ]
    },
    {
      "cell_type": "markdown",
      "metadata": {
        "id": "rT-BO2hVInAm"
      },
      "source": [
        "Yuqoridagi natijaga e'tibor bersangiz, 9 sonining ildizi 4.5 deb chiqdi. Sababi, 2-qatorda ildizni hisoblashda foydalanuvchi kiritgan son avval 1-darajaga oshirildi va undan keyin 2 ga bo'lindi. Kodni to'g'rilaymiz:"
      ]
    },
    {
      "cell_type": "code",
      "execution_count": null,
      "metadata": {
        "id": "J-xYNYNxInAm",
        "outputId": "436b0c60-473b-4db3-bcc0-94aeb9229632"
      },
      "outputs": [
        {
          "name": "stdout",
          "output_type": "stream",
          "text": [
            "Istalgan son kiriting: 9\n",
            "9.0 ning ildizi 3.0 ga teng\n"
          ]
        }
      ],
      "source": [
        "son = float(input(\"Istalgan son kiriting: \"))\n",
        "ildiz = son**(1/2)\n",
        "print(f\"{son} ning ildizi {ildiz} ga teng\")"
      ]
    },
    {
      "cell_type": "markdown",
      "metadata": {
        "id": "fRfTfgmBInAm"
      },
      "source": [
        "Noo'rin bo'sh joy qoldirish (yoki qoldirmaslik) ham mantiqiy xatoga olib kelishi mumkin:"
      ]
    },
    {
      "cell_type": "code",
      "execution_count": null,
      "metadata": {
        "id": "6GTHP6NqInAn",
        "outputId": "dae37617-bb9d-412e-c919-e6e18fd0c4b5"
      },
      "outputs": [
        {
          "name": "stdout",
          "output_type": "stream",
          "text": [
            "olma\n",
            "Dastur tugadi\n",
            "uzum\n",
            "Dastur tugadi\n",
            "nok\n",
            "Dastur tugadi\n",
            "anor\n",
            "Dastur tugadi\n",
            "anjir\n",
            "Dastur tugadi\n"
          ]
        }
      ],
      "source": [
        "mevalar = ['olma','uzum','nok','anor','anjir']\n",
        "for meva in mevalar:\n",
        "    print(meva)\n",
        "    print(\"Dastur tugadi\")"
      ]
    },
    {
      "cell_type": "markdown",
      "metadata": {
        "id": "lILfOpzkInAn"
      },
      "source": [
        "Yuqorida \"Dastur tugadi\" matni bir marta, dastur tugaganidan so'ng chiqishi kerak edi. Lekin o'ngga suriib qolgani uchun bir necha bor qaytarildi.\n",
        "\n",
        "Bundan boshqa ham mantiqiy xatoliklar juda ko'p uchraydi.\n",
        "\n",
        "Mantiqiy xatoliklar mutlaqo topilmasdan ham qolib ketishi, va dastur bozorga chiqqanidan so'ng aniqlanishi tabiiy hol. Shuning uchun ham aksar dasturlar tez-tez yangilanib turadi.\n",
        "\n",
        "![](https://gblobscdn.gitbook.com/assets%2F-MGbkqs1tROquIT6oqUs%2F-MN711S2_BZJWrZ9sTF2%2F-MN7Tct3drpUzN2KqcK5%2Fimage.png?alt=media&token=aab599c0-9b5f-4491-8fe8-938117f10204)\n",
        "\n",
        "Dastur jarayonida bundan boshqa xatoliklar ham ko'p uchraydi. Biz ulardan ba'zilari bilan tanishdik xolos. Keyingi darslarimizda Runtime xatoliklarni qanday qilib dastur davomida aniqlash, va dastur to'xtab qolishining oldini olishni o'rganamiz."
      ]
    },
    {
      "cell_type": "markdown",
      "metadata": {
        "id": "GKmsHaefInAq"
      },
      "source": [
        "# AMALIYOT\n",
        "\n",
        "Quyida bir nechta kodlar berilgan, kodlar avvalgi darsdagi uy vazifalaridan iborat. Kodlardagi xatolarni toping va to'g'rilang. Har bir dasturda bir nechta xatolar mavjud bo'lishi mumkin. Xatolarni topish uchun dasturlarni bir necha marta, turli qiymatlar bilan bajarib ko'ring."
      ]
    },
    {
      "cell_type": "code",
      "execution_count": 4,
      "metadata": {
        "id": "iJbZskEGInAq",
        "outputId": "25c9471f-a6e5-41a8-ee65-7b13a5bd0ce9",
        "colab": {
          "base_uri": "https://localhost:8080/"
        }
      },
      "outputs": [
        {
          "output_type": "stream",
          "name": "stdout",
          "text": [
            "Juft son kiriting: 6\n",
            "Rahmat!\n"
          ]
        }
      ],
      "source": [
        "son = float(input(\"Juft son kiriting: \"))\n",
        "if son%2==1:\n",
        "    print(\"Bu son juft emas.\")\n",
        "else:\n",
        "    print(\"Rahmat!\")"
      ]
    },
    {
      "cell_type": "code",
      "execution_count": 9,
      "metadata": {
        "id": "GXZ0QZ60InAr",
        "outputId": "93ec28b0-e391-4682-c8e9-d15b80b6d5ae",
        "colab": {
          "base_uri": "https://localhost:8080/"
        }
      },
      "outputs": [
        {
          "output_type": "stream",
          "name": "stdout",
          "text": [
            "Yoshingiz nechida?40\n",
            "Chipta 20000 so'm\n"
          ]
        }
      ],
      "source": [
        "yosh = int((input(\"Yoshingiz nechida?\")))\n",
        "\n",
        "if yosh<=4 or yosh>=60:\n",
        "    narh = 0\n",
        "elif yosh < 18:\n",
        "    narh = 10000\n",
        "else:\n",
        "    narh = 20000\n",
        "print(f\"Chipta {narh} so'm\")"
      ]
    },
    {
      "cell_type": "code",
      "execution_count": 12,
      "metadata": {
        "id": "eQLQiV4bInAr",
        "outputId": "b1ff8a09-0b5d-4b0d-c3aa-cb40327262a4",
        "colab": {
          "base_uri": "https://localhost:8080/"
        }
      },
      "outputs": [
        {
          "output_type": "stream",
          "name": "stdout",
          "text": [
            "Birinchi sonni kiriting: 9\n",
            "Ikkinchi sonni kiriting: 4\n",
            "9.0>4.0\n"
          ]
        }
      ],
      "source": [
        "x = float(input(\"Birinchi sonni kiriting: \"))\n",
        "y = float(input(\"Ikkinchi sonni kiriting: \"))\n",
        "if x==y:\n",
        "    print(f\"{x}={y}\")\n",
        "elif x<y:\n",
        "    print(f\"{x}<{y}\")\n",
        "else:\n",
        "    print(f\"{x}>{y}\")"
      ]
    },
    {
      "cell_type": "code",
      "execution_count": 15,
      "metadata": {
        "id": "jcm6xhxFInAr",
        "outputId": "c837f940-bbb0-456a-b330-ba05678fdbb8",
        "colab": {
          "base_uri": "https://localhost:8080/"
        }
      },
      "outputs": [
        {
          "output_type": "stream",
          "name": "stdout",
          "text": [
            "Savatga 1-mahsulotni qo'shing: non\n",
            "Savatga 2-mahsulotni qo'shing: yog'\n",
            "Savatga 3-mahsulotni qo'shing: olma\n",
            "Savatga 4-mahsulotni qo'shing: pomidor\n",
            "Savatga 5-mahsulotni qo'shing: qovun\n",
            "Do'konimizda non yo'q\n",
            "Do'konimizda yog' bor\n",
            "Do'konimizda olma bor\n",
            "Do'konimizda pomidor yo'q\n",
            "Do'konimizda qovun bor\n"
          ]
        }
      ],
      "source": [
        "mahsulotlar = ['un', \"yog'\", \"sovun\", 'tuxum', 'piyoz',\n",
        "               'kartoshka', 'olma', 'banan', 'uzum', 'qovun']\n",
        "\n",
        "savat = []\n",
        "for n in range(5):\n",
        "    savat.append(input(f\"Savatga {n+1}-mahsulotni qo'shing: \"))\n",
        "\n",
        "if savat:\n",
        "    for mahsulot in savat:\n",
        "        if mahsulot in mahsulotlar:\n",
        "            print(f\"Do'konimizda {mahsulot} bor\")\n",
        "        else:\n",
        "            print(f\"Do'konimizda {mahsulot} yo'q\")\n",
        "else:\n",
        "    print(\"Savatingiz bo'sh\")"
      ]
    },
    {
      "cell_type": "code",
      "execution_count": 16,
      "metadata": {
        "id": "bLu87qTAInAr",
        "outputId": "93ef391d-bdac-4aed-c3d3-320f03c32087",
        "colab": {
          "base_uri": "https://localhost:8080/"
        }
      },
      "outputs": [
        {
          "output_type": "stream",
          "name": "stdout",
          "text": [
            "Savatga 1-mahsulotni qo'shing: non\n",
            "Savatga 2-mahsulotni qo'shing: un\n",
            "Savatga 3-mahsulotni qo'shing: banan\n",
            "Savatga 4-mahsulotni qo'shing: olma\n",
            "Savatga 5-mahsulotni qo'shing: suv\n",
            "Do'konimizda quyidagi mahsulotlar yo'q:\n",
            "non\n",
            "suv\n",
            "Siz so'ragan barcha mahsulotlar do'konimizda bor\n"
          ]
        }
      ],
      "source": [
        "mahsulotlar = ['un', \"yog'\", \"sovun\", 'tuxum', 'piyoz',\n",
        "               'kartoshka', 'olma', 'banan', 'uzum', 'qovun']\n",
        "\n",
        "\n",
        "savat = []\n",
        "for n in range(5):\n",
        "    savat.append(input(f'Savatga {n+1}-mahsulotni qo\\'shing: '))\n",
        "\n",
        "bor_mahsulotlar = []\n",
        "mavjud_emas = []\n",
        "for mahsulot in savat:\n",
        "    if mahsulot in mahsulotlar:\n",
        "        bor_mahsulotlar.append(mahsulot)\n",
        "    else:\n",
        "        mavjud_emas.append(mahsulot)\n",
        "\n",
        "if mavjud_emas:\n",
        "  print(\"Do'konimizda quyidagi mahsulotlar yo'q:\")\n",
        "for mahsulot in mavjud_emas:\n",
        "  print(mahsulot)\n",
        "else:\n",
        "  print(\"Siz so'ragan barcha mahsulotlar do'konimizda bor\")\n",
        ""
      ]
    },
    {
      "cell_type": "code",
      "execution_count": 18,
      "metadata": {
        "id": "4SJ-GXLIInAr",
        "outputId": "598bca05-d82a-4f38-9692-03088e6b6fd3",
        "colab": {
          "base_uri": "https://localhost:8080/"
        }
      },
      "outputs": [
        {
          "output_type": "stream",
          "name": "stdout",
          "text": [
            "Yangi login tanlang: umar\n",
            "Login band, yangi login tanalng!\n"
          ]
        }
      ],
      "source": [
        "users = ['alisher1983','aziza','yasina', 'umar']\n",
        "\n",
        "login = input(\"Yangi login tanlang: \")\n",
        "\n",
        "if login in users:\n",
        "    print('Login band, yangi login tanalng!')\n",
        "else:\n",
        "    print(\"Xush kelibsiz!\")"
      ]
    }
  ],
  "metadata": {
    "language_info": {
      "name": "python"
    },
    "colab": {
      "provenance": []
    },
    "kernelspec": {
      "name": "python3",
      "display_name": "Python 3"
    }
  },
  "nbformat": 4,
  "nbformat_minor": 0
}